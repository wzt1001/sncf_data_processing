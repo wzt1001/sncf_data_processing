{
 "cells": [
  {
   "cell_type": "code",
   "execution_count": 80,
   "metadata": {},
   "outputs": [],
   "source": [
    "import cv2\n",
    "import os\n",
    "from os import listdir\n",
    "from os.path import isfile, join\n",
    "from sys import stdout\n",
    "import psycopg2\n",
    "import pickle\n",
    "import numpy as np\n",
    "import math\n",
    "from PIL import Image\n",
    "from math import floor\n",
    "import hashlib\n",
    "import random\n",
    "from multiprocessing.dummy import Pool as ThreadPool\n",
    "from sklearn.utils import shuffle"
   ]
  },
  {
   "cell_type": "code",
   "execution_count": 81,
   "metadata": {},
   "outputs": [],
   "source": [
    "traj_tables = ['lazare_top_floor_trajectory', 'lazare_second_floor_trajectory', 'lazare_bottom_floor_trajectory']\n",
    "zone_tables = ['lazare_top_floor_zone', 'lazare_second_floor_zone', 'lazare_bottom_floor_zone']"
   ]
  },
  {
   "cell_type": "code",
   "execution_count": 85,
   "metadata": {},
   "outputs": [
    {
     "name": "stdout",
     "output_type": "stream",
     "text": [
      "7845\n",
      "52 points skipped\n",
      "4265\n",
      "21 points skipped\n",
      "3977\n",
      "4 points skipped\n"
     ]
    }
   ],
   "source": [
    "for i in range(3):\n",
    "\n",
    "    conn_string = \"host='localhost' dbname='indoor_position' user='postgres' password='tiancai' port='5432'\"\n",
    "    conn = psycopg2.connect(conn_string)\n",
    "    cur = conn.cursor()\n",
    "\n",
    "    query = 'select * from gare_st_lazare.%s order by field_8 asc' % (traj_tables[i])\n",
    "    cur.execute(query)\n",
    "    results = cur.fetchall()\n",
    "\n",
    "    skip_cnt   = 0\n",
    "    tangents   = []\n",
    "    timestamps = []\n",
    "    init_time  = 621355968000000000 + 15307877628066000\n",
    "    print(len(results))\n",
    "    for idx, item in enumerate(results):\n",
    "        if idx == 0 or idx == len(results) - 1:\n",
    "            continue\n",
    "    #     distance = math.sqrt((results[idx][2] - results[idx - 1][2]) ** 2 + (results[idx][3] - results[idx - 1][3]) ** 2)\n",
    "    #     print((results[idx][9] - init_time) / 10000)\n",
    "        time_relative = (results[idx][9] - init_time) / 10000\n",
    "        x_1 = results[idx - 1][2]\n",
    "        x_2 = results[idx][2]\n",
    "        x_3 = results[idx + 1][2]\n",
    "        y_1 = results[idx - 1][3]\n",
    "        y_2 = results[idx][3]\n",
    "        y_3 = results[idx + 1][3]\n",
    "        if (x_1 - x_2) == 0 or (x_2 - x_3) == 0 or (y_1 - y_2) == 0 or (y_2 - y_3) == 0:\n",
    "            skip_cnt += 1\n",
    "            continue\n",
    "        m_a = (y_2 - y_1) / (x_2 - x_1)\n",
    "        m_b = (y_3 - y_2) / (x_3 - x_2)\n",
    "        if (m_a - m_b) == 0:\n",
    "            skip_cnt += 1\n",
    "            continue\n",
    "        x   = (m_a * m_b * (y_1 - y_3) + m_b * (x_1 + x_2) - m_a * (x_2 + x_3)) / (2 * (m_b - m_a))\n",
    "        y   = - (x - (x_1 + x_2) / 2) / m_a + (y_1 + y_2) / 2\n",
    "        \n",
    "        if (y - y_2 == 0):\n",
    "            skip_cnt += 1\n",
    "            continue\n",
    "        k = (x_2 - x) / (y - y_2)\n",
    "        \n",
    "        if (x_3 - x_1 + k * (y_3 - y_1)) > 0:\n",
    "            inc_corner = math.atan2(k, 1) / math.pi * 180\n",
    "        else:\n",
    "            inc_corner = math.atan2(-k, -1) / math.pi * 180\n",
    "    #     if k < 0:\n",
    "    #         inc_corner += 360\n",
    "        conn.commit()\n",
    "\n",
    "        query = '''select id from gare_st_lazare.%s a where ST_Intersects(ST_Transform(ST_SetSRID(ST_AsText('%s'), 3857), 3857), ST_Transform(a.geom, 3857)) is True''' % (zone_tables[i], results[idx][1])\n",
    "        cur.execute(query)\n",
    "        zone = cur.fetchone()\n",
    "        conn.commit()\n",
    "\n",
    "        if not zone == None:\n",
    "            query = '''insert into gare_st_lazare.lazare_frame_list values ('%s', '%s', %s, '%s', %s, ST_SetSRID(ST_AsText('%s'), 3857))''' % (traj_tables[i], results[idx][9], time_relative, zone[0], inc_corner, results[idx][1])\n",
    "            cur.execute(query)\n",
    "            conn.commit()\n",
    "\n",
    "    #     query = 'insert into gare_st_lazare.frame_table value (%s, %s, %s, %s)' % (traj_tables[0], results[idx][9], (results[idx][9] - init_time) / 10000, inc_corner)\n",
    "    #     cur.execute(query)\n",
    "    #     results = cur.fetchall()\n",
    "\n",
    "    #     if distance > 0.5:\n",
    "    #         tangents.append((results[idx][3] - result[idx - 1][3]) * 1.0 / (results[idx][2] - result[idx - 1][2]))\n",
    "    #         timestamps\n",
    "\n",
    "    print('%s points skipped' % skip_cnt)\n"
   ]
  },
  {
   "cell_type": "code",
   "execution_count": null,
   "metadata": {},
   "outputs": [],
   "source": []
  }
 ],
 "metadata": {
  "kernelspec": {
   "display_name": "conda_python_3",
   "language": "python",
   "name": "python3"
  },
  "language_info": {
   "codemirror_mode": {
    "name": "ipython",
    "version": 2
   },
   "file_extension": ".py",
   "mimetype": "text/x-python",
   "name": "python",
   "nbconvert_exporter": "python",
   "pygments_lexer": "ipython2",
   "version": "2.7.14"
  }
 },
 "nbformat": 4,
 "nbformat_minor": 2
}
