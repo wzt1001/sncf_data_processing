{
 "cells": [
  {
   "cell_type": "code",
   "execution_count": 13,
   "metadata": {},
   "outputs": [],
   "source": [
    "import psycopg2\n",
    "from moviepy.editor import *"
   ]
  },
  {
   "cell_type": "code",
   "execution_count": null,
   "metadata": {},
   "outputs": [],
   "source": []
  },
  {
   "cell_type": "code",
   "execution_count": 16,
   "metadata": {},
   "outputs": [],
   "source": [
    "def split_video(start, end, zone):\n",
    "    start = (start + 190420)/1000\n",
    "    end   = (end + 190420)/1000\n",
    "    print(start, end)\n",
    "    video = VideoFileClip(\"../data/videos/lazare.mp4\").subclip(start, end)\n",
    "\n",
    "#     result = CompositeVideoClip([video, txt_clip]) # Overlay text on video\n",
    "    video.write_videofile(\"../data/videos/split/%s.mp4\" % zone, fps=25) # Many options...\n"
   ]
  },
  {
   "cell_type": "code",
   "execution_count": null,
   "metadata": {
    "scrolled": true
   },
   "outputs": [
    {
     "name": "stdout",
     "output_type": "stream",
     "text": [
      "(100.96, 47605.37, 'top_0')\n",
      "(190.52096, 238.02537)\n",
      "[MoviePy] >>>> Building video ../data/videos/split/top_0.mp4\n",
      "[MoviePy] Writing audio in top_0TEMP_MPY_wvf_snd.mp3\n"
     ]
    },
    {
     "name": "stderr",
     "output_type": "stream",
     "text": [
      "100%|██████████| 1048/1048 [00:00<00:00, 1259.54it/s]"
     ]
    },
    {
     "name": "stdout",
     "output_type": "stream",
     "text": [
      "[MoviePy] Done.\n",
      "[MoviePy] Writing video ../data/videos/split/top_0.mp4\n"
     ]
    },
    {
     "name": "stderr",
     "output_type": "stream",
     "text": [
      "\n",
      "100%|██████████| 1188/1188 [00:17<00:00, 66.99it/s]\n"
     ]
    },
    {
     "name": "stdout",
     "output_type": "stream",
     "text": [
      "[MoviePy] Done.\n",
      "[MoviePy] >>>> Video ready: ../data/videos/split/top_0.mp4 \n",
      "\n",
      "(62935.83, 74938.04, 'top_1')\n",
      "(253.35583000000003, 265.35803999999996)\n",
      "[MoviePy] >>>> Building video ../data/videos/split/top_1.mp4\n",
      "[MoviePy] Writing audio in top_1TEMP_MPY_wvf_snd.mp3\n"
     ]
    },
    {
     "name": "stderr",
     "output_type": "stream",
     "text": [
      "100%|██████████| 265/265 [00:00<00:00, 843.53it/s]"
     ]
    },
    {
     "name": "stdout",
     "output_type": "stream",
     "text": [
      "[MoviePy] Done.\n",
      "[MoviePy] Writing video ../data/videos/split/top_1.mp4\n"
     ]
    },
    {
     "name": "stderr",
     "output_type": "stream",
     "text": [
      "\n",
      "100%|██████████| 301/301 [00:04<00:00, 65.31it/s] \n"
     ]
    },
    {
     "name": "stdout",
     "output_type": "stream",
     "text": [
      "[MoviePy] Done.\n",
      "[MoviePy] >>>> Video ready: ../data/videos/split/top_1.mp4 \n",
      "\n",
      "(76450.88, 93496.03, 'top_2')\n",
      "(266.87088, 283.91603000000003)\n",
      "[MoviePy] >>>> Building video ../data/videos/split/top_2.mp4\n",
      "[MoviePy] Writing audio in top_2TEMP_MPY_wvf_snd.mp3\n"
     ]
    },
    {
     "name": "stderr",
     "output_type": "stream",
     "text": [
      "100%|██████████| 376/376 [00:00<00:00, 907.75it/s] \n"
     ]
    },
    {
     "name": "stdout",
     "output_type": "stream",
     "text": [
      "[MoviePy] Done.\n",
      "[MoviePy] Writing video ../data/videos/split/top_2.mp4\n"
     ]
    },
    {
     "name": "stderr",
     "output_type": "stream",
     "text": [
      "100%|██████████| 427/427 [00:07<00:00, 58.49it/s]\n"
     ]
    },
    {
     "name": "stdout",
     "output_type": "stream",
     "text": [
      "[MoviePy] Done.\n",
      "[MoviePy] >>>> Video ready: ../data/videos/split/top_2.mp4 \n",
      "\n",
      "(99951.0, 134345.34, 'top_3')\n",
      "(290.371, 324.76534)\n",
      "[MoviePy] >>>> Building video ../data/videos/split/top_3.mp4\n",
      "[MoviePy] Writing audio in top_3TEMP_MPY_wvf_snd.mp3\n"
     ]
    },
    {
     "name": "stderr",
     "output_type": "stream",
     "text": [
      "100%|██████████| 759/759 [00:00<00:00, 1141.15it/s]"
     ]
    },
    {
     "name": "stdout",
     "output_type": "stream",
     "text": [
      "[MoviePy] Done.\n",
      "[MoviePy] Writing video ../data/videos/split/top_3.mp4\n"
     ]
    },
    {
     "name": "stderr",
     "output_type": "stream",
     "text": [
      "\n",
      "100%|██████████| 860/860 [00:14<00:00, 57.74it/s]\n"
     ]
    },
    {
     "name": "stdout",
     "output_type": "stream",
     "text": [
      "[MoviePy] Done.\n",
      "[MoviePy] >>>> Video ready: ../data/videos/split/top_3.mp4 \n",
      "\n",
      "(140396.8, 179028.06, 'top_4')\n",
      "(330.8168, 369.44806)\n",
      "[MoviePy] >>>> Building video ../data/videos/split/top_4.mp4\n",
      "[MoviePy] Writing audio in top_4TEMP_MPY_wvf_snd.mp3\n"
     ]
    },
    {
     "name": "stderr",
     "output_type": "stream",
     "text": [
      "100%|██████████| 852/852 [00:00<00:00, 1190.64it/s]"
     ]
    },
    {
     "name": "stdout",
     "output_type": "stream",
     "text": [
      "[MoviePy] Done.\n",
      "[MoviePy] Writing video ../data/videos/split/top_4.mp4\n"
     ]
    },
    {
     "name": "stderr",
     "output_type": "stream",
     "text": [
      "\n",
      "100%|██████████| 966/966 [00:18<00:00, 51.48it/s]\n"
     ]
    },
    {
     "name": "stdout",
     "output_type": "stream",
     "text": [
      "[MoviePy] Done.\n",
      "[MoviePy] >>>> Video ready: ../data/videos/split/top_4.mp4 \n",
      "\n",
      "(182763.47, 219175.36, 'top_5')\n",
      "(373.18347, 409.59535999999997)\n",
      "[MoviePy] >>>> Building video ../data/videos/split/top_5.mp4\n",
      "[MoviePy] Writing audio in top_5TEMP_MPY_wvf_snd.mp3\n"
     ]
    },
    {
     "name": "stderr",
     "output_type": "stream",
     "text": [
      "100%|██████████| 803/803 [00:00<00:00, 982.71it/s]"
     ]
    },
    {
     "name": "stdout",
     "output_type": "stream",
     "text": [
      "[MoviePy] Done.\n",
      "[MoviePy] Writing video ../data/videos/split/top_5.mp4\n"
     ]
    },
    {
     "name": "stderr",
     "output_type": "stream",
     "text": [
      "\n",
      "100%|██████████| 911/911 [00:18<00:00, 49.05it/s]\n"
     ]
    },
    {
     "name": "stdout",
     "output_type": "stream",
     "text": [
      "[MoviePy] Done.\n",
      "[MoviePy] >>>> Video ready: ../data/videos/split/top_5.mp4 \n",
      "\n",
      "(224016.72, 259823.17, 'top_6')\n",
      "(414.43672, 450.24317)\n",
      "[MoviePy] >>>> Building video ../data/videos/split/top_6.mp4\n",
      "[MoviePy] Writing audio in top_6TEMP_MPY_wvf_snd.mp3\n"
     ]
    },
    {
     "name": "stderr",
     "output_type": "stream",
     "text": [
      "100%|██████████| 790/790 [00:00<00:00, 967.16it/s] "
     ]
    },
    {
     "name": "stdout",
     "output_type": "stream",
     "text": [
      "[MoviePy] Done.\n",
      "[MoviePy] Writing video ../data/videos/split/top_6.mp4\n"
     ]
    },
    {
     "name": "stderr",
     "output_type": "stream",
     "text": [
      "\n",
      "100%|██████████| 896/896 [00:15<00:00, 57.92it/s]\n"
     ]
    },
    {
     "name": "stdout",
     "output_type": "stream",
     "text": [
      "[MoviePy] Done.\n",
      "[MoviePy] >>>> Video ready: ../data/videos/split/top_6.mp4 \n",
      "\n",
      "(263353.27, 295426.26, 'top_7')\n",
      "(453.77327, 485.84626000000003)\n",
      "[MoviePy] >>>> Building video ../data/videos/split/top_7.mp4\n",
      "[MoviePy] Writing audio in top_7TEMP_MPY_wvf_snd.mp3\n"
     ]
    },
    {
     "name": "stderr",
     "output_type": "stream",
     "text": [
      "100%|██████████| 708/708 [00:00<00:00, 989.80it/s] "
     ]
    },
    {
     "name": "stdout",
     "output_type": "stream",
     "text": [
      "[MoviePy] Done.\n",
      "[MoviePy] Writing video ../data/videos/split/top_7.mp4\n"
     ]
    },
    {
     "name": "stderr",
     "output_type": "stream",
     "text": [
      "\n",
      "100%|██████████| 802/802 [00:13<00:00, 57.77it/s]\n"
     ]
    },
    {
     "name": "stdout",
     "output_type": "stream",
     "text": [
      "[MoviePy] Done.\n",
      "[MoviePy] >>>> Video ready: ../data/videos/split/top_7.mp4 \n",
      "\n",
      "(302486.34, 328608.75, 'top_8')\n",
      "(492.90634, 519.02875)\n",
      "[MoviePy] >>>> Building video ../data/videos/split/top_8.mp4\n",
      "[MoviePy] Writing audio in top_8TEMP_MPY_wvf_snd.mp3\n"
     ]
    },
    {
     "name": "stderr",
     "output_type": "stream",
     "text": [
      "100%|██████████| 576/576 [00:00<00:00, 865.14it/s]"
     ]
    },
    {
     "name": "stdout",
     "output_type": "stream",
     "text": [
      "[MoviePy] Done.\n",
      "[MoviePy] Writing video ../data/videos/split/top_8.mp4\n"
     ]
    },
    {
     "name": "stderr",
     "output_type": "stream",
     "text": [
      "\n",
      "100%|██████████| 654/654 [00:13<00:00, 48.42it/s]\n"
     ]
    },
    {
     "name": "stdout",
     "output_type": "stream",
     "text": [
      "[MoviePy] Done.\n",
      "[MoviePy] >>>> Video ready: ../data/videos/split/top_8.mp4 \n",
      "\n",
      "(334357.62, 391746.17, 'top_9')\n",
      "(524.77762, 582.16617)\n",
      "[MoviePy] >>>> Building video ../data/videos/split/top_9.mp4\n",
      "[MoviePy] Writing audio in top_9TEMP_MPY_wvf_snd.mp3\n"
     ]
    },
    {
     "name": "stderr",
     "output_type": "stream",
     "text": [
      "100%|██████████| 1266/1266 [00:01<00:00, 1246.15it/s]"
     ]
    },
    {
     "name": "stdout",
     "output_type": "stream",
     "text": [
      "[MoviePy] Done.\n",
      "[MoviePy] Writing video ../data/videos/split/top_9.mp4\n"
     ]
    },
    {
     "name": "stderr",
     "output_type": "stream",
     "text": [
      "\n",
      "100%|██████████| 1435/1435 [00:25<00:00, 55.43it/s]\n"
     ]
    },
    {
     "name": "stdout",
     "output_type": "stream",
     "text": [
      "[MoviePy] Done.\n",
      "[MoviePy] >>>> Video ready: ../data/videos/split/top_9.mp4 \n",
      "\n",
      "(398907.18, 439855.62, 'top_10')\n",
      "(589.3271799999999, 630.27562)\n",
      "[MoviePy] >>>> Building video ../data/videos/split/top_10.mp4\n",
      "[MoviePy] Writing audio in top_10TEMP_MPY_wvf_snd.mp3\n"
     ]
    },
    {
     "name": "stderr",
     "output_type": "stream",
     "text": [
      "100%|██████████| 903/903 [00:00<00:00, 1179.63it/s]"
     ]
    },
    {
     "name": "stdout",
     "output_type": "stream",
     "text": [
      "[MoviePy] Done.\n",
      "[MoviePy] Writing video ../data/videos/split/top_10.mp4\n"
     ]
    },
    {
     "name": "stderr",
     "output_type": "stream",
     "text": [
      "\n",
      "100%|██████████| 1024/1024 [00:21<00:00, 48.10it/s]\n"
     ]
    },
    {
     "name": "stdout",
     "output_type": "stream",
     "text": [
      "[MoviePy] Done.\n",
      "[MoviePy] >>>> Video ready: ../data/videos/split/top_10.mp4 \n",
      "\n",
      "(445100.36, 483124.04, 'top_11')\n",
      "(635.52036, 673.54404)\n",
      "[MoviePy] >>>> Building video ../data/videos/split/top_11.mp4\n",
      "[MoviePy] Writing audio in top_11TEMP_MPY_wvf_snd.mp3\n"
     ]
    },
    {
     "name": "stderr",
     "output_type": "stream",
     "text": [
      "100%|██████████| 839/839 [00:00<00:00, 1026.46it/s]"
     ]
    },
    {
     "name": "stdout",
     "output_type": "stream",
     "text": [
      "[MoviePy] Done.\n"
     ]
    },
    {
     "name": "stderr",
     "output_type": "stream",
     "text": [
      "\n"
     ]
    },
    {
     "name": "stdout",
     "output_type": "stream",
     "text": [
      "[MoviePy] Writing video ../data/videos/split/top_11.mp4\n"
     ]
    },
    {
     "name": "stderr",
     "output_type": "stream",
     "text": [
      "100%|██████████| 951/951 [00:16<00:00, 57.98it/s]\n"
     ]
    },
    {
     "name": "stdout",
     "output_type": "stream",
     "text": [
      "[MoviePy] Done.\n",
      "[MoviePy] >>>> Video ready: ../data/videos/split/top_11.mp4 \n",
      "\n",
      "(487561.76, 519840.24, 'top_12')\n",
      "(677.98176, 710.26024)\n",
      "[MoviePy] >>>> Building video ../data/videos/split/top_12.mp4\n",
      "[MoviePy] Writing audio in top_12TEMP_MPY_wvf_snd.mp3\n"
     ]
    },
    {
     "name": "stderr",
     "output_type": "stream",
     "text": [
      "100%|██████████| 712/712 [00:00<00:00, 1069.35it/s]"
     ]
    },
    {
     "name": "stdout",
     "output_type": "stream",
     "text": [
      "[MoviePy] Done.\n",
      "[MoviePy] Writing video ../data/videos/split/top_12.mp4\n"
     ]
    },
    {
     "name": "stderr",
     "output_type": "stream",
     "text": [
      "\n",
      "100%|██████████| 807/807 [00:16<00:00, 49.94it/s]\n"
     ]
    },
    {
     "name": "stdout",
     "output_type": "stream",
     "text": [
      "[MoviePy] Done.\n",
      "[MoviePy] >>>> Video ready: ../data/videos/split/top_12.mp4 \n",
      "\n",
      "(524277.97, 551913.26, 'top_13')\n",
      "(714.6979699999999, 742.33326)\n",
      "[MoviePy] >>>> Building video ../data/videos/split/top_13.mp4\n",
      "[MoviePy] Writing audio in top_13TEMP_MPY_wvf_snd.mp3\n"
     ]
    },
    {
     "name": "stderr",
     "output_type": "stream",
     "text": [
      "100%|██████████| 610/610 [00:00<00:00, 990.13it/s]\n"
     ]
    },
    {
     "name": "stdout",
     "output_type": "stream",
     "text": [
      "[MoviePy] Done.\n",
      "[MoviePy] Writing video ../data/videos/split/top_13.mp4\n"
     ]
    },
    {
     "name": "stderr",
     "output_type": "stream",
     "text": [
      "100%|██████████| 691/691 [00:12<00:00, 53.46it/s]\n"
     ]
    },
    {
     "name": "stdout",
     "output_type": "stream",
     "text": [
      "[MoviePy] Done.\n",
      "[MoviePy] >>>> Video ready: ../data/videos/split/top_13.mp4 \n",
      "\n",
      "(554636.43, 584494.71, 'top_14')\n",
      "(745.0564300000001, 774.91471)\n",
      "[MoviePy] >>>> Building video ../data/videos/split/top_14.mp4\n",
      "[MoviePy] Writing audio in top_14TEMP_MPY_wvf_snd.mp3\n"
     ]
    },
    {
     "name": "stderr",
     "output_type": "stream",
     "text": [
      "100%|██████████| 659/659 [00:00<00:00, 859.07it/s]"
     ]
    },
    {
     "name": "stdout",
     "output_type": "stream",
     "text": [
      "[MoviePy] Done.\n",
      "[MoviePy] Writing video ../data/videos/split/top_14.mp4\n"
     ]
    },
    {
     "name": "stderr",
     "output_type": "stream",
     "text": [
      "\n",
      "100%|██████████| 747/747 [00:13<00:00, 53.37it/s]\n"
     ]
    },
    {
     "name": "stdout",
     "output_type": "stream",
     "text": [
      "[MoviePy] Done.\n",
      "[MoviePy] >>>> Video ready: ../data/videos/split/top_14.mp4 \n",
      "\n",
      "(588831.67, 615057.16, 'top_15')\n",
      "(779.25167, 805.47716)\n",
      "[MoviePy] >>>> Building video ../data/videos/split/top_15.mp4\n",
      "[MoviePy] Writing audio in top_15TEMP_MPY_wvf_snd.mp3\n"
     ]
    },
    {
     "name": "stderr",
     "output_type": "stream",
     "text": [
      "100%|██████████| 579/579 [00:00<00:00, 869.01it/s]"
     ]
    },
    {
     "name": "stdout",
     "output_type": "stream",
     "text": [
      "[MoviePy] Done.\n",
      "[MoviePy] Writing video ../data/videos/split/top_15.mp4\n"
     ]
    },
    {
     "name": "stderr",
     "output_type": "stream",
     "text": [
      "\n",
      "100%|██████████| 656/656 [00:11<00:00, 57.68it/s]\n"
     ]
    },
    {
     "name": "stdout",
     "output_type": "stream",
     "text": [
      "[MoviePy] Done.\n",
      "[MoviePy] >>>> Video ready: ../data/videos/split/top_15.mp4 \n",
      "\n",
      "(617074.24, 694735.3, 'top_1')\n",
      "(807.49424, 885.1553)\n",
      "[MoviePy] >>>> Building video ../data/videos/split/top_1.mp4\n",
      "[MoviePy] Writing audio in top_1TEMP_MPY_wvf_snd.mp3\n"
     ]
    },
    {
     "name": "stderr",
     "output_type": "stream",
     "text": [
      "100%|██████████| 1713/1713 [00:01<00:00, 1092.28it/s]"
     ]
    },
    {
     "name": "stdout",
     "output_type": "stream",
     "text": [
      "[MoviePy] Done.\n",
      "[MoviePy] Writing video ../data/videos/split/top_1.mp4\n"
     ]
    },
    {
     "name": "stderr",
     "output_type": "stream",
     "text": [
      "\n",
      "100%|██████████| 1942/1942 [00:30<00:00, 64.17it/s]\n"
     ]
    },
    {
     "name": "stdout",
     "output_type": "stream",
     "text": [
      "[MoviePy] Done.\n",
      "[MoviePy] >>>> Video ready: ../data/videos/split/top_1.mp4 \n",
      "\n",
      "(696248.21, 708956.37, 'top_16')\n",
      "(886.6682099999999, 899.37637)\n",
      "[MoviePy] >>>> Building video ../data/videos/split/top_16.mp4\n",
      "[MoviePy] Writing audio in top_16TEMP_MPY_wvf_snd.mp3\n"
     ]
    },
    {
     "name": "stderr",
     "output_type": "stream",
     "text": [
      "100%|██████████| 281/281 [00:00<00:00, 768.62it/s]"
     ]
    },
    {
     "name": "stdout",
     "output_type": "stream",
     "text": [
      "[MoviePy] Done.\n",
      "[MoviePy] Writing video ../data/videos/split/top_16.mp4\n"
     ]
    },
    {
     "name": "stderr",
     "output_type": "stream",
     "text": [
      "\n",
      "100%|██████████| 318/318 [00:04<00:00, 67.61it/s]\n"
     ]
    },
    {
     "name": "stdout",
     "output_type": "stream",
     "text": [
      "[MoviePy] Done.\n",
      "[MoviePy] >>>> Video ready: ../data/videos/split/top_16.mp4 \n",
      "\n",
      "(727415.61, 748193.99, 'top_17')\n",
      "(917.83561, 938.61399)\n",
      "[MoviePy] >>>> Building video ../data/videos/split/top_17.mp4\n",
      "[MoviePy] Writing audio in top_17TEMP_MPY_wvf_snd.mp3\n"
     ]
    },
    {
     "name": "stderr",
     "output_type": "stream",
     "text": [
      "100%|██████████| 459/459 [00:00<00:00, 889.57it/s]"
     ]
    },
    {
     "name": "stdout",
     "output_type": "stream",
     "text": [
      "[MoviePy] Done.\n",
      "[MoviePy] Writing video ../data/videos/split/top_17.mp4\n"
     ]
    },
    {
     "name": "stderr",
     "output_type": "stream",
     "text": [
      "\n",
      "100%|██████████| 520/520 [00:10<00:00, 48.24it/s]\n"
     ]
    },
    {
     "name": "stdout",
     "output_type": "stream",
     "text": [
      "[MoviePy] Done.\n",
      "[MoviePy] >>>> Video ready: ../data/videos/split/top_17.mp4 \n",
      "\n",
      "(750412.9, 763423.62, 'top_18')\n",
      "(940.8329, 953.84362)\n",
      "[MoviePy] >>>> Building video ../data/videos/split/top_18.mp4\n",
      "[MoviePy] Writing audio in top_18TEMP_MPY_wvf_snd.mp3\n"
     ]
    },
    {
     "name": "stderr",
     "output_type": "stream",
     "text": [
      "100%|██████████| 287/287 [00:00<00:00, 780.74it/s]"
     ]
    },
    {
     "name": "stdout",
     "output_type": "stream",
     "text": [
      "[MoviePy] Done.\n",
      "[MoviePy] Writing video ../data/videos/split/top_18.mp4\n"
     ]
    },
    {
     "name": "stderr",
     "output_type": "stream",
     "text": [
      "\n",
      "100%|██████████| 326/326 [00:05<00:00, 56.00it/s]\n"
     ]
    },
    {
     "name": "stdout",
     "output_type": "stream",
     "text": [
      "[MoviePy] Done.\n",
      "[MoviePy] >>>> Video ready: ../data/videos/split/top_18.mp4 \n",
      "\n",
      "(768365.66, 778048.11, 'top_21')\n",
      "(958.78566, 968.46811)\n",
      "[MoviePy] >>>> Building video ../data/videos/split/top_21.mp4\n",
      "[MoviePy] Writing audio in top_21TEMP_MPY_wvf_snd.mp3\n"
     ]
    },
    {
     "name": "stderr",
     "output_type": "stream",
     "text": [
      "100%|██████████| 214/214 [00:00<00:00, 677.41it/s]"
     ]
    },
    {
     "name": "stdout",
     "output_type": "stream",
     "text": [
      "[MoviePy] Done.\n",
      "[MoviePy] Writing video ../data/videos/split/top_21.mp4\n"
     ]
    },
    {
     "name": "stderr",
     "output_type": "stream",
     "text": [
      "\n",
      "100%|██████████| 243/243 [00:04<00:00, 60.67it/s]\n"
     ]
    },
    {
     "name": "stdout",
     "output_type": "stream",
     "text": [
      "[MoviePy] Done.\n",
      "[MoviePy] >>>> Video ready: ../data/videos/split/top_21.mp4 \n",
      "\n",
      "(779359.3, 788942.4, 'top_22')\n",
      "(969.7793, 979.3624)\n",
      "[MoviePy] >>>> Building video ../data/videos/split/top_22.mp4\n",
      "[MoviePy] Writing audio in top_22TEMP_MPY_wvf_snd.mp3\n"
     ]
    },
    {
     "name": "stderr",
     "output_type": "stream",
     "text": [
      "100%|██████████| 212/212 [00:00<00:00, 578.49it/s]"
     ]
    },
    {
     "name": "stdout",
     "output_type": "stream",
     "text": [
      "[MoviePy] Done.\n",
      "[MoviePy] Writing video ../data/videos/split/top_22.mp4\n"
     ]
    },
    {
     "name": "stderr",
     "output_type": "stream",
     "text": [
      "\n",
      "100%|██████████| 240/240 [00:03<00:00, 60.13it/s]\n"
     ]
    },
    {
     "name": "stdout",
     "output_type": "stream",
     "text": [
      "[MoviePy] Done.\n",
      "[MoviePy] >>>> Video ready: ../data/videos/split/top_22.mp4 \n",
      "\n",
      "(792875.88, 814772.2, 'top_23')\n",
      "(983.29588, 1005.1922)\n",
      "[MoviePy] >>>> Building video ../data/videos/split/top_23.mp4\n",
      "[MoviePy] Writing audio in top_23TEMP_MPY_wvf_snd.mp3\n"
     ]
    },
    {
     "name": "stderr",
     "output_type": "stream",
     "text": [
      "100%|██████████| 483/483 [00:00<00:00, 1036.58it/s]"
     ]
    },
    {
     "name": "stdout",
     "output_type": "stream",
     "text": [
      "[MoviePy] Done.\n",
      "[MoviePy] Writing video ../data/videos/split/top_23.mp4\n"
     ]
    },
    {
     "name": "stderr",
     "output_type": "stream",
     "text": [
      "\n",
      "100%|██████████| 548/548 [00:10<00:00, 53.37it/s] \n"
     ]
    },
    {
     "name": "stdout",
     "output_type": "stream",
     "text": [
      "[MoviePy] Done.\n",
      "[MoviePy] >>>> Video ready: ../data/videos/split/top_23.mp4 \n",
      "\n",
      "(817091.93, 837263.65, 'top_24')\n",
      "(1007.51193, 1027.68365)\n",
      "[MoviePy] >>>> Building video ../data/videos/split/top_24.mp4\n",
      "[MoviePy] Writing audio in top_24TEMP_MPY_wvf_snd.mp3\n"
     ]
    },
    {
     "name": "stderr",
     "output_type": "stream",
     "text": [
      "100%|██████████| 445/445 [00:00<00:00, 784.59it/s]"
     ]
    },
    {
     "name": "stdout",
     "output_type": "stream",
     "text": [
      "[MoviePy] Done.\n",
      "[MoviePy] Writing video ../data/videos/split/top_24.mp4\n"
     ]
    },
    {
     "name": "stderr",
     "output_type": "stream",
     "text": [
      "\n",
      "100%|██████████| 505/505 [00:09<00:00, 53.30it/s]\n"
     ]
    },
    {
     "name": "stdout",
     "output_type": "stream",
     "text": [
      "[MoviePy] Done.\n",
      "[MoviePy] >>>> Video ready: ../data/videos/split/top_24.mp4 \n",
      "\n",
      "(841701.42, 864092.01, 'top_25')\n",
      "(1032.12142, 1054.51201)\n",
      "[MoviePy] >>>> Building video ../data/videos/split/top_25.mp4\n",
      "[MoviePy] Writing audio in top_25TEMP_MPY_wvf_snd.mp3\n"
     ]
    },
    {
     "name": "stderr",
     "output_type": "stream",
     "text": [
      "100%|██████████| 494/494 [00:00<00:00, 871.90it/s]"
     ]
    },
    {
     "name": "stdout",
     "output_type": "stream",
     "text": [
      "[MoviePy] Done.\n",
      "[MoviePy] Writing video ../data/videos/split/top_25.mp4\n"
     ]
    },
    {
     "name": "stderr",
     "output_type": "stream",
     "text": [
      "\n",
      "100%|██████████| 560/560 [00:09<00:00, 59.59it/s]\n"
     ]
    },
    {
     "name": "stdout",
     "output_type": "stream",
     "text": [
      "[MoviePy] Done.\n",
      "[MoviePy] >>>> Video ready: ../data/videos/split/top_25.mp4 \n",
      "\n",
      "(871454.7, 891626.36, 'top_27')\n",
      "(1061.8746999999998, 1082.0463599999998)\n",
      "[MoviePy] >>>> Building video ../data/videos/split/top_27.mp4\n",
      "[MoviePy] Writing audio in top_27TEMP_MPY_wvf_snd.mp3\n"
     ]
    },
    {
     "name": "stderr",
     "output_type": "stream",
     "text": [
      "100%|██████████| 445/445 [00:00<00:00, 786.13it/s]"
     ]
    },
    {
     "name": "stdout",
     "output_type": "stream",
     "text": [
      "[MoviePy] Done.\n",
      "[MoviePy] Writing video ../data/videos/split/top_27.mp4\n"
     ]
    },
    {
     "name": "stderr",
     "output_type": "stream",
     "text": [
      "\n",
      "100%|██████████| 505/505 [00:09<00:00, 55.04it/s]\n"
     ]
    },
    {
     "name": "stdout",
     "output_type": "stream",
     "text": [
      "[MoviePy] Done.\n",
      "[MoviePy] >>>> Video ready: ../data/videos/split/top_27.mp4 \n",
      "\n",
      "(896971.95, 909579.24, 'top_29')\n",
      "(1087.39195, 1099.99924)\n",
      "[MoviePy] >>>> Building video ../data/videos/split/top_29.mp4\n",
      "[MoviePy] Writing audio in top_29TEMP_MPY_wvf_snd.mp3\n"
     ]
    },
    {
     "name": "stderr",
     "output_type": "stream",
     "text": [
      "100%|██████████| 278/278 [00:00<00:00, 666.81it/s]"
     ]
    },
    {
     "name": "stdout",
     "output_type": "stream",
     "text": [
      "[MoviePy] Done.\n",
      "[MoviePy] Writing video ../data/videos/split/top_29.mp4\n"
     ]
    },
    {
     "name": "stderr",
     "output_type": "stream",
     "text": [
      "\n",
      "100%|██████████| 316/316 [00:05<00:00, 54.27it/s]\n"
     ]
    },
    {
     "name": "stdout",
     "output_type": "stream",
     "text": [
      "[MoviePy] Done.\n",
      "[MoviePy] >>>> Video ready: ../data/videos/split/top_29.mp4 \n",
      "\n",
      "(912302.42, 922791.65, 'top_30')\n",
      "(1102.7224199999998, 1113.21165)\n",
      "[MoviePy] >>>> Building video ../data/videos/split/top_30.mp4\n",
      "[MoviePy] Writing audio in top_30TEMP_MPY_wvf_snd.mp3\n"
     ]
    },
    {
     "name": "stderr",
     "output_type": "stream",
     "text": [
      "100%|██████████| 232/232 [00:00<00:00, 630.28it/s]"
     ]
    },
    {
     "name": "stdout",
     "output_type": "stream",
     "text": [
      "[MoviePy] Done.\n",
      "[MoviePy] Writing video ../data/videos/split/top_30.mp4\n"
     ]
    },
    {
     "name": "stderr",
     "output_type": "stream",
     "text": [
      "\n",
      "100%|██████████| 263/263 [00:04<00:00, 55.72it/s]\n"
     ]
    },
    {
     "name": "stdout",
     "output_type": "stream",
     "text": [
      "[MoviePy] Done.\n",
      "[MoviePy] >>>> Video ready: ../data/videos/split/top_30.mp4 \n",
      "\n",
      "(926725.18, 962739.58, 'top_31')\n",
      "(1117.1451800000002, 1153.15958)\n",
      "[MoviePy] >>>> Building video ../data/videos/split/top_31.mp4\n",
      "[MoviePy] Writing audio in top_31TEMP_MPY_wvf_snd.mp3\n"
     ]
    },
    {
     "name": "stderr",
     "output_type": "stream",
     "text": [
      "100%|██████████| 795/795 [00:00<00:00, 1034.40it/s]"
     ]
    },
    {
     "name": "stdout",
     "output_type": "stream",
     "text": [
      "[MoviePy] Done.\n",
      "[MoviePy] Writing video ../data/videos/split/top_31.mp4\n"
     ]
    },
    {
     "name": "stderr",
     "output_type": "stream",
     "text": [
      "\n",
      "100%|██████████| 901/901 [00:16<00:00, 53.23it/s]\n"
     ]
    },
    {
     "name": "stdout",
     "output_type": "stream",
     "text": [
      "[MoviePy] Done.\n",
      "[MoviePy] >>>> Video ready: ../data/videos/split/top_31.mp4 \n",
      "\n",
      "(967883.38, 980896.03, 'top_32')\n",
      "(1158.3033799999998, 1171.31603)\n",
      "[MoviePy] >>>> Building video ../data/videos/split/top_32.mp4\n",
      "[MoviePy] Writing audio in top_32TEMP_MPY_wvf_snd.mp3\n"
     ]
    },
    {
     "name": "stderr",
     "output_type": "stream",
     "text": [
      "100%|██████████| 287/287 [00:00<00:00, 783.83it/s]"
     ]
    },
    {
     "name": "stdout",
     "output_type": "stream",
     "text": [
      "[MoviePy] Done.\n",
      "[MoviePy] Writing video ../data/videos/split/top_32.mp4\n"
     ]
    },
    {
     "name": "stderr",
     "output_type": "stream",
     "text": [
      "\n",
      "100%|██████████| 326/326 [00:05<00:00, 64.45it/s]\n"
     ]
    },
    {
     "name": "stdout",
     "output_type": "stream",
     "text": [
      "[MoviePy] Done.\n",
      "[MoviePy] >>>> Video ready: ../data/videos/split/top_32.mp4 \n",
      "\n",
      "(986951.92, 998348.93, 'top_33')\n",
      "(1177.3719199999998, 1188.7689300000002)\n",
      "[MoviePy] >>>> Building video ../data/videos/split/top_33.mp4\n",
      "[MoviePy] Writing audio in top_33TEMP_MPY_wvf_snd.mp3\n"
     ]
    },
    {
     "name": "stderr",
     "output_type": "stream",
     "text": [
      "100%|██████████| 252/252 [00:00<00:00, 687.93it/s]"
     ]
    },
    {
     "name": "stdout",
     "output_type": "stream",
     "text": [
      "[MoviePy] Done.\n",
      "[MoviePy] Writing video ../data/videos/split/top_33.mp4\n"
     ]
    },
    {
     "name": "stderr",
     "output_type": "stream",
     "text": [
      "\n",
      "100%|██████████| 285/285 [00:04<00:00, 62.89it/s]\n"
     ]
    },
    {
     "name": "stdout",
     "output_type": "stream",
     "text": [
      "[MoviePy] Done.\n",
      "[MoviePy] >>>> Video ready: ../data/videos/split/top_33.mp4 \n",
      "\n",
      "(1000366.14, 1013679.45, 'top_34')\n",
      "(1190.7861400000002, 1204.09945)\n",
      "[MoviePy] >>>> Building video ../data/videos/split/top_34.mp4\n",
      "[MoviePy] Writing audio in top_34TEMP_MPY_wvf_snd.mp3\n"
     ]
    },
    {
     "name": "stderr",
     "output_type": "stream",
     "text": [
      "100%|██████████| 294/294 [00:00<00:00, 803.69it/s]"
     ]
    },
    {
     "name": "stdout",
     "output_type": "stream",
     "text": [
      "[MoviePy] Done.\n",
      "[MoviePy] Writing video ../data/videos/split/top_34.mp4\n"
     ]
    },
    {
     "name": "stderr",
     "output_type": "stream",
     "text": [
      "\n",
      "100%|██████████| 333/333 [00:05<00:00, 56.70it/s]\n"
     ]
    },
    {
     "name": "stdout",
     "output_type": "stream",
     "text": [
      "[MoviePy] Done.\n",
      "[MoviePy] >>>> Video ready: ../data/videos/split/top_34.mp4 \n",
      "\n",
      "(1018318.93, 1039706.04, 'top_36')\n",
      "(1208.7389300000002, 1230.12604)\n",
      "[MoviePy] >>>> Building video ../data/videos/split/top_36.mp4\n",
      "[MoviePy] Writing audio in top_36TEMP_MPY_wvf_snd.mp3\n"
     ]
    },
    {
     "name": "stderr",
     "output_type": "stream",
     "text": [
      "100%|██████████| 472/472 [00:00<00:00, 706.42it/s]"
     ]
    },
    {
     "name": "stdout",
     "output_type": "stream",
     "text": [
      "[MoviePy] Done.\n",
      "[MoviePy] Writing video ../data/videos/split/top_36.mp4\n"
     ]
    },
    {
     "name": "stderr",
     "output_type": "stream",
     "text": [
      "\n",
      "100%|██████████| 535/535 [00:10<00:00, 53.48it/s]\n"
     ]
    },
    {
     "name": "stdout",
     "output_type": "stream",
     "text": [
      "[MoviePy] Done.\n",
      "[MoviePy] >>>> Video ready: ../data/videos/split/top_36.mp4 \n",
      "\n",
      "(1046867.01, 1066030.07, 'top_38')\n",
      "(1237.28701, 1256.45007)\n",
      "[MoviePy] >>>> Building video ../data/videos/split/top_38.mp4\n",
      "[MoviePy] Writing audio in top_38TEMP_MPY_wvf_snd.mp3\n"
     ]
    },
    {
     "name": "stderr",
     "output_type": "stream",
     "text": [
      "100%|██████████| 423/423 [00:00<00:00, 907.28it/s]"
     ]
    },
    {
     "name": "stdout",
     "output_type": "stream",
     "text": [
      "[MoviePy] Done.\n",
      "[MoviePy] Writing video ../data/videos/split/top_38.mp4\n"
     ]
    },
    {
     "name": "stderr",
     "output_type": "stream",
     "text": [
      "\n",
      "100%|██████████| 480/480 [00:07<00:00, 61.22it/s]\n"
     ]
    },
    {
     "name": "stdout",
     "output_type": "stream",
     "text": [
      "[MoviePy] Done.\n",
      "[MoviePy] >>>> Video ready: ../data/videos/split/top_38.mp4 \n",
      "\n",
      "(1069862.75, 1122510.84, 'top_40')\n",
      "(1260.28275, 1312.93084)\n",
      "[MoviePy] >>>> Building video ../data/videos/split/top_40.mp4\n",
      "[MoviePy] Writing audio in top_40TEMP_MPY_wvf_snd.mp3\n"
     ]
    },
    {
     "name": "stderr",
     "output_type": "stream",
     "text": [
      "100%|██████████| 1161/1161 [00:01<00:00, 1035.73it/s]"
     ]
    },
    {
     "name": "stdout",
     "output_type": "stream",
     "text": [
      "[MoviePy] Done.\n",
      "[MoviePy] Writing video ../data/videos/split/top_40.mp4\n"
     ]
    },
    {
     "name": "stderr",
     "output_type": "stream",
     "text": [
      "\n",
      "100%|██████████| 1317/1317 [00:24<00:00, 54.09it/s]\n"
     ]
    },
    {
     "name": "stdout",
     "output_type": "stream",
     "text": [
      "[MoviePy] Done.\n",
      "[MoviePy] >>>> Video ready: ../data/videos/split/top_40.mp4 \n",
      "\n",
      "(1125334.89, 1149036.73, 'top_41')\n",
      "(1315.75489, 1339.4567299999999)\n",
      "[MoviePy] >>>> Building video ../data/videos/split/top_41.mp4\n",
      "[MoviePy] Writing audio in top_41TEMP_MPY_wvf_snd.mp3\n"
     ]
    },
    {
     "name": "stderr",
     "output_type": "stream",
     "text": [
      "100%|██████████| 523/523 [00:00<00:00, 783.21it/s]"
     ]
    },
    {
     "name": "stdout",
     "output_type": "stream",
     "text": [
      "[MoviePy] Done.\n",
      "[MoviePy] Writing video ../data/videos/split/top_41.mp4\n"
     ]
    },
    {
     "name": "stderr",
     "output_type": "stream",
     "text": [
      "\n",
      "100%|██████████| 593/593 [00:10<00:00, 58.02it/s]\n"
     ]
    },
    {
     "name": "stdout",
     "output_type": "stream",
     "text": [
      "[MoviePy] Done.\n",
      "[MoviePy] >>>> Video ready: ../data/videos/split/top_41.mp4 \n",
      "\n",
      "(1151356.37, 1164266.32, 'top_44')\n",
      "(1341.77637, 1354.68632)\n",
      "[MoviePy] >>>> Building video ../data/videos/split/top_44.mp4\n",
      "[MoviePy] Writing audio in top_44TEMP_MPY_wvf_snd.mp3\n"
     ]
    },
    {
     "name": "stderr",
     "output_type": "stream",
     "text": [
      "100%|██████████| 285/285 [00:00<00:00, 776.47it/s]"
     ]
    },
    {
     "name": "stdout",
     "output_type": "stream",
     "text": [
      "[MoviePy] Done.\n",
      "[MoviePy] Writing video ../data/videos/split/top_44.mp4\n"
     ]
    },
    {
     "name": "stderr",
     "output_type": "stream",
     "text": [
      "\n",
      "100%|██████████| 323/323 [00:05<00:00, 54.10it/s]\n"
     ]
    },
    {
     "name": "stdout",
     "output_type": "stream",
     "text": [
      "[MoviePy] Done.\n",
      "[MoviePy] >>>> Video ready: ../data/videos/split/top_44.mp4 \n",
      "\n",
      "(1165880.0, 1186354.31, 'top_43')\n",
      "(1356.3, 1376.77431)\n",
      "[MoviePy] >>>> Building video ../data/videos/split/top_43.mp4\n",
      "[MoviePy] Writing audio in top_43TEMP_MPY_wvf_snd.mp3\n"
     ]
    },
    {
     "name": "stderr",
     "output_type": "stream",
     "text": [
      "100%|██████████| 452/452 [00:00<00:00, 793.93it/s]"
     ]
    },
    {
     "name": "stdout",
     "output_type": "stream",
     "text": [
      "[MoviePy] Done.\n",
      "[MoviePy] Writing video ../data/videos/split/top_43.mp4\n"
     ]
    },
    {
     "name": "stderr",
     "output_type": "stream",
     "text": [
      "\n",
      "100%|██████████| 512/512 [00:08<00:00, 57.76it/s]\n"
     ]
    },
    {
     "name": "stdout",
     "output_type": "stream",
     "text": [
      "[MoviePy] Done.\n",
      "[MoviePy] >>>> Video ready: ../data/videos/split/top_43.mp4 \n",
      "\n",
      "(1192506.64, 1226705.21, 'top_45')\n",
      "(1382.92664, 1417.12521)\n",
      "[MoviePy] >>>> Building video ../data/videos/split/top_45.mp4\n",
      "[MoviePy] Writing audio in top_45TEMP_MPY_wvf_snd.mp3\n"
     ]
    },
    {
     "name": "stderr",
     "output_type": "stream",
     "text": [
      "100%|██████████| 755/755 [00:00<00:00, 1050.59it/s]"
     ]
    },
    {
     "name": "stdout",
     "output_type": "stream",
     "text": [
      "[MoviePy] Done.\n",
      "[MoviePy] Writing video ../data/videos/split/top_45.mp4\n"
     ]
    },
    {
     "name": "stderr",
     "output_type": "stream",
     "text": [
      "\n",
      "100%|██████████| 855/855 [00:16<00:00, 50.57it/s]\n"
     ]
    },
    {
     "name": "stdout",
     "output_type": "stream",
     "text": [
      "[MoviePy] Done.\n",
      "[MoviePy] >>>> Video ready: ../data/videos/split/top_45.mp4 \n",
      "\n",
      "(1233966.98, 1245166.71, 'top_20')\n",
      "(1424.38698, 1435.58671)\n",
      "[MoviePy] >>>> Building video ../data/videos/split/top_20.mp4\n",
      "[MoviePy] Writing audio in top_20TEMP_MPY_wvf_snd.mp3\n"
     ]
    },
    {
     "name": "stderr",
     "output_type": "stream",
     "text": [
      "100%|██████████| 247/247 [00:00<00:00, 672.29it/s]"
     ]
    },
    {
     "name": "stdout",
     "output_type": "stream",
     "text": [
      "[MoviePy] Done.\n",
      "[MoviePy] Writing video ../data/videos/split/top_20.mp4\n"
     ]
    },
    {
     "name": "stderr",
     "output_type": "stream",
     "text": [
      "\n",
      "100%|██████████| 280/280 [00:04<00:00, 60.47it/s]\n"
     ]
    },
    {
     "name": "stdout",
     "output_type": "stream",
     "text": [
      "[MoviePy] Done.\n",
      "[MoviePy] >>>> Video ready: ../data/videos/split/top_20.mp4 \n",
      "\n",
      "(1250108.74, 1305379.2, 'top_19')\n",
      "(1440.52874, 1495.7992)\n",
      "[MoviePy] >>>> Building video ../data/videos/split/top_19.mp4\n",
      "[MoviePy] Writing audio in top_19TEMP_MPY_wvf_snd.mp3\n"
     ]
    },
    {
     "name": "stderr",
     "output_type": "stream",
     "text": [
      "100%|██████████| 1219/1219 [00:01<00:00, 1197.38it/s]"
     ]
    },
    {
     "name": "stdout",
     "output_type": "stream",
     "text": [
      "[MoviePy] Done.\n",
      "[MoviePy] Writing video ../data/videos/split/top_19.mp4\n"
     ]
    },
    {
     "name": "stderr",
     "output_type": "stream",
     "text": [
      "\n",
      "  5%|▍         | 67/1382 [00:00<00:07, 164.74it/s]"
     ]
    }
   ],
   "source": [
    "conn_string = \"host='localhost' dbname='indoor_position' user='postgres' password='tiancai' port='5432'\"\n",
    "conn = psycopg2.connect(conn_string)\n",
    "cur = conn.cursor()\n",
    "query = '''select time_abs, category from gare_st_lazare.images order by time_abs asc'''\n",
    "cur.execute(query)\n",
    "results = cur.fetchall()\n",
    "conn.commit()\n",
    "\n",
    "start_time = 0\n",
    "end_time   = 0\n",
    "category   = ''\n",
    "\n",
    "for idx, item in enumerate(results):\n",
    "    if idx == 0:\n",
    "        start_time = item[0]\n",
    "        category   = item[1]\n",
    "        continue\n",
    "    if results[idx][1] != results[idx - 1][1]:\n",
    "        end_time   = results[idx - 1][0]\n",
    "        \n",
    "        query = '''select time_relative from gare_st_lazare.lazare_frame_list where time_abs = '%s' ''' % (start_time)\n",
    "        cur.execute(query)\n",
    "        start_time = cur.fetchone()[0]\n",
    "        conn.commit()\n",
    "        \n",
    "        query = '''select time_relative from gare_st_lazare.lazare_frame_list where time_abs = '%s' ''' % (end_time)\n",
    "        cur.execute(query)\n",
    "        end_time = cur.fetchone()[0]\n",
    "        conn.commit()\n",
    "        \n",
    "        print(start_time, end_time, category)\n",
    "        split_video(start_time, end_time, category)\n",
    "        category   = results[idx + 1][1]\n",
    "        start_time = results[idx + 1][0]\n",
    "    if idx == len(results) - 1:\n",
    "        end_time   = results[idx][0]\n",
    "        split_video(start_time, end_time, category)"
   ]
  },
  {
   "cell_type": "code",
   "execution_count": null,
   "metadata": {},
   "outputs": [],
   "source": []
  }
 ],
 "metadata": {
  "kernelspec": {
   "display_name": "conda_python_3",
   "language": "python",
   "name": "python3"
  },
  "language_info": {
   "codemirror_mode": {
    "name": "ipython",
    "version": 2
   },
   "file_extension": ".py",
   "mimetype": "text/x-python",
   "name": "python",
   "nbconvert_exporter": "python",
   "pygments_lexer": "ipython2",
   "version": "2.7.14"
  }
 },
 "nbformat": 4,
 "nbformat_minor": 2
}
