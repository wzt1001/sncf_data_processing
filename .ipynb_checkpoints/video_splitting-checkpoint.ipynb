{
 "cells": [
  {
   "cell_type": "code",
   "execution_count": 3,
   "metadata": {},
   "outputs": [],
   "source": [
    "import psycopg2\n",
    "import argparse\n",
    "from moviepy.editor import *"
   ]
  },
  {
   "cell_type": "code",
   "execution_count": 4,
   "metadata": {},
   "outputs": [],
   "source": [
    "parser = argparse.ArgumentParser(description='dividing as regenerate video samples as different categories')\n",
    "\n",
    "parser.add_argument('-s', '--schema', default='gare_st_lazare', \n",
    "                    help='schema for the station')\n",
    "parser.add_argument('-i', '--imagelist', default='images_225', \n",
    "                    help='image list table name')\n",
    "parser.add_argument('-f', '--framelist', default='images_225', \n",
    "                    help='frame list table name')\n",
    "parser.add_argument('-v', '--video', default=\"../data/videos/lazare.mp4\", \n",
    "                    help='video path')\n",
    "parser.add_argument('-o', '--output', default='../data/videos/split', \n",
    "                    help='output image path')\n",
    "args = parser.parse_args()\n",
    "video = args.video\n",
    "output = args.output\n",
    "schema = args.schema\n",
    "image_list_tablename = args.imagelist\n",
    "frame_list_tablename = args.framelist\n"
   ]
  },
  {
   "cell_type": "code",
   "execution_count": null,
   "metadata": {},
   "outputs": [],
   "source": [
    "def split_video(start, end, zone):\n",
    "    start = (start + 190420)/1000\n",
    "    end   = (end + 190420)/1000\n",
    "    print(start, end)\n",
    "    video = VideoFileClip(video).subclip(start, end)\n",
    "\n",
    "#     result = CompositeVideoClip([video, txt_clip]) # Overlay text on video\n",
    "    video.write_videofile(os.path.join(output, \"/%s.mp4\" % zone), fps=25) # Many options...\n"
   ]
  },
  {
   "cell_type": "code",
   "execution_count": 17,
   "metadata": {
    "scrolled": true
   },
   "outputs": [
    {
     "name": "stdout",
     "output_type": "stream",
     "text": [
      "(100.96, 47605.37, 'top_0')\n",
      "(190.52096, 238.02537)\n",
      "[MoviePy] >>>> Building video ../data/videos/split/top_0.mp4\n",
      "[MoviePy] Writing audio in top_0TEMP_MPY_wvf_snd.mp3\n"
     ]
    },
    {
     "name": "stderr",
     "output_type": "stream",
     "text": [
      "100%|██████████| 1048/1048 [00:00<00:00, 1259.54it/s]"
     ]
    },
    {
     "name": "stdout",
     "output_type": "stream",
     "text": [
      "[MoviePy] Done.\n",
      "[MoviePy] Writing video ../data/videos/split/top_0.mp4\n"
     ]
    },
    {
     "name": "stderr",
     "output_type": "stream",
     "text": [
      "\n",
      "100%|██████████| 1188/1188 [00:17<00:00, 66.99it/s]\n"
     ]
    },
    {
     "name": "stdout",
     "output_type": "stream",
     "text": [
      "[MoviePy] Done.\n",
      "[MoviePy] >>>> Video ready: ../data/videos/split/top_0.mp4 \n",
      "\n",
      "(62935.83, 74938.04, 'top_1')\n",
      "(253.35583000000003, 265.35803999999996)\n",
      "[MoviePy] >>>> Building video ../data/videos/split/top_1.mp4\n",
      "[MoviePy] Writing audio in top_1TEMP_MPY_wvf_snd.mp3\n"
     ]
    },
    {
     "name": "stderr",
     "output_type": "stream",
     "text": [
      "100%|██████████| 265/265 [00:00<00:00, 843.53it/s]"
     ]
    },
    {
     "name": "stdout",
     "output_type": "stream",
     "text": [
      "[MoviePy] Done.\n",
      "[MoviePy] Writing video ../data/videos/split/top_1.mp4\n"
     ]
    },
    {
     "name": "stderr",
     "output_type": "stream",
     "text": [
      "\n",
      "100%|██████████| 301/301 [00:04<00:00, 65.31it/s] \n"
     ]
    },
    {
     "name": "stdout",
     "output_type": "stream",
     "text": [
      "[MoviePy] Done.\n",
      "[MoviePy] >>>> Video ready: ../data/videos/split/top_1.mp4 \n",
      "\n",
      "(76450.88, 93496.03, 'top_2')\n",
      "(266.87088, 283.91603000000003)\n",
      "[MoviePy] >>>> Building video ../data/videos/split/top_2.mp4\n",
      "[MoviePy] Writing audio in top_2TEMP_MPY_wvf_snd.mp3\n"
     ]
    },
    {
     "name": "stderr",
     "output_type": "stream",
     "text": [
      "100%|██████████| 376/376 [00:00<00:00, 907.75it/s] \n"
     ]
    },
    {
     "name": "stdout",
     "output_type": "stream",
     "text": [
      "[MoviePy] Done.\n",
      "[MoviePy] Writing video ../data/videos/split/top_2.mp4\n"
     ]
    },
    {
     "name": "stderr",
     "output_type": "stream",
     "text": [
      "100%|██████████| 427/427 [00:07<00:00, 58.49it/s]\n"
     ]
    },
    {
     "name": "stdout",
     "output_type": "stream",
     "text": [
      "[MoviePy] Done.\n",
      "[MoviePy] >>>> Video ready: ../data/videos/split/top_2.mp4 \n",
      "\n",
      "(99951.0, 134345.34, 'top_3')\n",
      "(290.371, 324.76534)\n",
      "[MoviePy] >>>> Building video ../data/videos/split/top_3.mp4\n",
      "[MoviePy] Writing audio in top_3TEMP_MPY_wvf_snd.mp3\n"
     ]
    },
    {
     "name": "stderr",
     "output_type": "stream",
     "text": [
      "100%|██████████| 759/759 [00:00<00:00, 1141.15it/s]"
     ]
    },
    {
     "name": "stdout",
     "output_type": "stream",
     "text": [
      "[MoviePy] Done.\n",
      "[MoviePy] Writing video ../data/videos/split/top_3.mp4\n"
     ]
    },
    {
     "name": "stderr",
     "output_type": "stream",
     "text": [
      "\n",
      "100%|██████████| 860/860 [00:14<00:00, 57.74it/s]\n"
     ]
    },
    {
     "name": "stdout",
     "output_type": "stream",
     "text": [
      "[MoviePy] Done.\n",
      "[MoviePy] >>>> Video ready: ../data/videos/split/top_3.mp4 \n",
      "\n",
      "(140396.8, 179028.06, 'top_4')\n",
      "(330.8168, 369.44806)\n",
      "[MoviePy] >>>> Building video ../data/videos/split/top_4.mp4\n",
      "[MoviePy] Writing audio in top_4TEMP_MPY_wvf_snd.mp3\n"
     ]
    },
    {
     "name": "stderr",
     "output_type": "stream",
     "text": [
      "100%|██████████| 852/852 [00:00<00:00, 1190.64it/s]"
     ]
    },
    {
     "name": "stdout",
     "output_type": "stream",
     "text": [
      "[MoviePy] Done.\n",
      "[MoviePy] Writing video ../data/videos/split/top_4.mp4\n"
     ]
    },
    {
     "name": "stderr",
     "output_type": "stream",
     "text": [
      "\n",
      "100%|██████████| 966/966 [00:18<00:00, 51.48it/s]\n"
     ]
    },
    {
     "name": "stdout",
     "output_type": "stream",
     "text": [
      "[MoviePy] Done.\n",
      "[MoviePy] >>>> Video ready: ../data/videos/split/top_4.mp4 \n",
      "\n",
      "(182763.47, 219175.36, 'top_5')\n",
      "(373.18347, 409.59535999999997)\n",
      "[MoviePy] >>>> Building video ../data/videos/split/top_5.mp4\n",
      "[MoviePy] Writing audio in top_5TEMP_MPY_wvf_snd.mp3\n"
     ]
    },
    {
     "name": "stderr",
     "output_type": "stream",
     "text": [
      "100%|██████████| 803/803 [00:00<00:00, 982.71it/s]"
     ]
    },
    {
     "name": "stdout",
     "output_type": "stream",
     "text": [
      "[MoviePy] Done.\n",
      "[MoviePy] Writing video ../data/videos/split/top_5.mp4\n"
     ]
    },
    {
     "name": "stderr",
     "output_type": "stream",
     "text": [
      "\n",
      "100%|██████████| 911/911 [00:18<00:00, 49.05it/s]\n"
     ]
    },
    {
     "name": "stdout",
     "output_type": "stream",
     "text": [
      "[MoviePy] Done.\n",
      "[MoviePy] >>>> Video ready: ../data/videos/split/top_5.mp4 \n",
      "\n",
      "(224016.72, 259823.17, 'top_6')\n",
      "(414.43672, 450.24317)\n",
      "[MoviePy] >>>> Building video ../data/videos/split/top_6.mp4\n",
      "[MoviePy] Writing audio in top_6TEMP_MPY_wvf_snd.mp3\n"
     ]
    },
    {
     "name": "stderr",
     "output_type": "stream",
     "text": [
      "100%|██████████| 790/790 [00:00<00:00, 967.16it/s] "
     ]
    },
    {
     "name": "stdout",
     "output_type": "stream",
     "text": [
      "[MoviePy] Done.\n",
      "[MoviePy] Writing video ../data/videos/split/top_6.mp4\n"
     ]
    },
    {
     "name": "stderr",
     "output_type": "stream",
     "text": [
      "\n",
      "100%|██████████| 896/896 [00:15<00:00, 57.92it/s]\n"
     ]
    },
    {
     "name": "stdout",
     "output_type": "stream",
     "text": [
      "[MoviePy] Done.\n",
      "[MoviePy] >>>> Video ready: ../data/videos/split/top_6.mp4 \n",
      "\n",
      "(263353.27, 295426.26, 'top_7')\n",
      "(453.77327, 485.84626000000003)\n",
      "[MoviePy] >>>> Building video ../data/videos/split/top_7.mp4\n",
      "[MoviePy] Writing audio in top_7TEMP_MPY_wvf_snd.mp3\n"
     ]
    },
    {
     "name": "stderr",
     "output_type": "stream",
     "text": [
      "100%|██████████| 708/708 [00:00<00:00, 989.80it/s] "
     ]
    },
    {
     "name": "stdout",
     "output_type": "stream",
     "text": [
      "[MoviePy] Done.\n",
      "[MoviePy] Writing video ../data/videos/split/top_7.mp4\n"
     ]
    },
    {
     "name": "stderr",
     "output_type": "stream",
     "text": [
      "\n",
      "100%|██████████| 802/802 [00:13<00:00, 57.77it/s]\n"
     ]
    },
    {
     "name": "stdout",
     "output_type": "stream",
     "text": [
      "[MoviePy] Done.\n",
      "[MoviePy] >>>> Video ready: ../data/videos/split/top_7.mp4 \n",
      "\n",
      "(302486.34, 328608.75, 'top_8')\n",
      "(492.90634, 519.02875)\n",
      "[MoviePy] >>>> Building video ../data/videos/split/top_8.mp4\n",
      "[MoviePy] Writing audio in top_8TEMP_MPY_wvf_snd.mp3\n"
     ]
    },
    {
     "name": "stderr",
     "output_type": "stream",
     "text": [
      "100%|██████████| 576/576 [00:00<00:00, 865.14it/s]"
     ]
    },
    {
     "name": "stdout",
     "output_type": "stream",
     "text": [
      "[MoviePy] Done.\n",
      "[MoviePy] Writing video ../data/videos/split/top_8.mp4\n"
     ]
    },
    {
     "name": "stderr",
     "output_type": "stream",
     "text": [
      "\n",
      "100%|██████████| 654/654 [00:13<00:00, 48.42it/s]\n"
     ]
    },
    {
     "name": "stdout",
     "output_type": "stream",
     "text": [
      "[MoviePy] Done.\n",
      "[MoviePy] >>>> Video ready: ../data/videos/split/top_8.mp4 \n",
      "\n",
      "(334357.62, 391746.17, 'top_9')\n",
      "(524.77762, 582.16617)\n",
      "[MoviePy] >>>> Building video ../data/videos/split/top_9.mp4\n",
      "[MoviePy] Writing audio in top_9TEMP_MPY_wvf_snd.mp3\n"
     ]
    },
    {
     "name": "stderr",
     "output_type": "stream",
     "text": [
      "100%|██████████| 1266/1266 [00:01<00:00, 1246.15it/s]"
     ]
    },
    {
     "name": "stdout",
     "output_type": "stream",
     "text": [
      "[MoviePy] Done.\n",
      "[MoviePy] Writing video ../data/videos/split/top_9.mp4\n"
     ]
    },
    {
     "name": "stderr",
     "output_type": "stream",
     "text": [
      "\n",
      "100%|██████████| 1435/1435 [00:25<00:00, 55.43it/s]\n"
     ]
    },
    {
     "name": "stdout",
     "output_type": "stream",
     "text": [
      "[MoviePy] Done.\n",
      "[MoviePy] >>>> Video ready: ../data/videos/split/top_9.mp4 \n",
      "\n",
      "(398907.18, 439855.62, 'top_10')\n",
      "(589.3271799999999, 630.27562)\n",
      "[MoviePy] >>>> Building video ../data/videos/split/top_10.mp4\n",
      "[MoviePy] Writing audio in top_10TEMP_MPY_wvf_snd.mp3\n"
     ]
    },
    {
     "name": "stderr",
     "output_type": "stream",
     "text": [
      "100%|██████████| 903/903 [00:00<00:00, 1179.63it/s]"
     ]
    },
    {
     "name": "stdout",
     "output_type": "stream",
     "text": [
      "[MoviePy] Done.\n",
      "[MoviePy] Writing video ../data/videos/split/top_10.mp4\n"
     ]
    },
    {
     "name": "stderr",
     "output_type": "stream",
     "text": [
      "\n",
      "100%|██████████| 1024/1024 [00:21<00:00, 48.10it/s]\n"
     ]
    },
    {
     "name": "stdout",
     "output_type": "stream",
     "text": [
      "[MoviePy] Done.\n",
      "[MoviePy] >>>> Video ready: ../data/videos/split/top_10.mp4 \n",
      "\n",
      "(445100.36, 483124.04, 'top_11')\n",
      "(635.52036, 673.54404)\n",
      "[MoviePy] >>>> Building video ../data/videos/split/top_11.mp4\n",
      "[MoviePy] Writing audio in top_11TEMP_MPY_wvf_snd.mp3\n"
     ]
    },
    {
     "name": "stderr",
     "output_type": "stream",
     "text": [
      "100%|██████████| 839/839 [00:00<00:00, 1026.46it/s]"
     ]
    },
    {
     "name": "stdout",
     "output_type": "stream",
     "text": [
      "[MoviePy] Done.\n"
     ]
    },
    {
     "name": "stderr",
     "output_type": "stream",
     "text": [
      "\n"
     ]
    },
    {
     "name": "stdout",
     "output_type": "stream",
     "text": [
      "[MoviePy] Writing video ../data/videos/split/top_11.mp4\n"
     ]
    },
    {
     "name": "stderr",
     "output_type": "stream",
     "text": [
      "100%|██████████| 951/951 [00:16<00:00, 57.98it/s]\n"
     ]
    },
    {
     "name": "stdout",
     "output_type": "stream",
     "text": [
      "[MoviePy] Done.\n",
      "[MoviePy] >>>> Video ready: ../data/videos/split/top_11.mp4 \n",
      "\n",
      "(487561.76, 519840.24, 'top_12')\n",
      "(677.98176, 710.26024)\n",
      "[MoviePy] >>>> Building video ../data/videos/split/top_12.mp4\n",
      "[MoviePy] Writing audio in top_12TEMP_MPY_wvf_snd.mp3\n"
     ]
    },
    {
     "name": "stderr",
     "output_type": "stream",
     "text": [
      "100%|██████████| 712/712 [00:00<00:00, 1069.35it/s]"
     ]
    },
    {
     "name": "stdout",
     "output_type": "stream",
     "text": [
      "[MoviePy] Done.\n",
      "[MoviePy] Writing video ../data/videos/split/top_12.mp4\n"
     ]
    },
    {
     "name": "stderr",
     "output_type": "stream",
     "text": [
      "\n",
      "100%|██████████| 807/807 [00:16<00:00, 49.94it/s]\n"
     ]
    },
    {
     "name": "stdout",
     "output_type": "stream",
     "text": [
      "[MoviePy] Done.\n",
      "[MoviePy] >>>> Video ready: ../data/videos/split/top_12.mp4 \n",
      "\n",
      "(524277.97, 551913.26, 'top_13')\n",
      "(714.6979699999999, 742.33326)\n",
      "[MoviePy] >>>> Building video ../data/videos/split/top_13.mp4\n",
      "[MoviePy] Writing audio in top_13TEMP_MPY_wvf_snd.mp3\n"
     ]
    },
    {
     "name": "stderr",
     "output_type": "stream",
     "text": [
      "100%|██████████| 610/610 [00:00<00:00, 990.13it/s]\n"
     ]
    },
    {
     "name": "stdout",
     "output_type": "stream",
     "text": [
      "[MoviePy] Done.\n",
      "[MoviePy] Writing video ../data/videos/split/top_13.mp4\n"
     ]
    },
    {
     "name": "stderr",
     "output_type": "stream",
     "text": [
      "100%|██████████| 691/691 [00:12<00:00, 53.46it/s]\n"
     ]
    },
    {
     "name": "stdout",
     "output_type": "stream",
     "text": [
      "[MoviePy] Done.\n",
      "[MoviePy] >>>> Video ready: ../data/videos/split/top_13.mp4 \n",
      "\n",
      "(554636.43, 584494.71, 'top_14')\n",
      "(745.0564300000001, 774.91471)\n",
      "[MoviePy] >>>> Building video ../data/videos/split/top_14.mp4\n",
      "[MoviePy] Writing audio in top_14TEMP_MPY_wvf_snd.mp3\n"
     ]
    },
    {
     "name": "stderr",
     "output_type": "stream",
     "text": [
      "100%|██████████| 659/659 [00:00<00:00, 859.07it/s]"
     ]
    },
    {
     "name": "stdout",
     "output_type": "stream",
     "text": [
      "[MoviePy] Done.\n",
      "[MoviePy] Writing video ../data/videos/split/top_14.mp4\n"
     ]
    },
    {
     "name": "stderr",
     "output_type": "stream",
     "text": [
      "\n",
      "100%|██████████| 747/747 [00:13<00:00, 53.37it/s]\n"
     ]
    },
    {
     "name": "stdout",
     "output_type": "stream",
     "text": [
      "[MoviePy] Done.\n",
      "[MoviePy] >>>> Video ready: ../data/videos/split/top_14.mp4 \n",
      "\n",
      "(588831.67, 615057.16, 'top_15')\n",
      "(779.25167, 805.47716)\n",
      "[MoviePy] >>>> Building video ../data/videos/split/top_15.mp4\n",
      "[MoviePy] Writing audio in top_15TEMP_MPY_wvf_snd.mp3\n"
     ]
    },
    {
     "name": "stderr",
     "output_type": "stream",
     "text": [
      "100%|██████████| 579/579 [00:00<00:00, 869.01it/s]"
     ]
    },
    {
     "name": "stdout",
     "output_type": "stream",
     "text": [
      "[MoviePy] Done.\n",
      "[MoviePy] Writing video ../data/videos/split/top_15.mp4\n"
     ]
    },
    {
     "name": "stderr",
     "output_type": "stream",
     "text": [
      "\n",
      "100%|██████████| 656/656 [00:11<00:00, 57.68it/s]\n"
     ]
    },
    {
     "name": "stdout",
     "output_type": "stream",
     "text": [
      "[MoviePy] Done.\n",
      "[MoviePy] >>>> Video ready: ../data/videos/split/top_15.mp4 \n",
      "\n",
      "(617074.24, 694735.3, 'top_1')\n",
      "(807.49424, 885.1553)\n",
      "[MoviePy] >>>> Building video ../data/videos/split/top_1.mp4\n",
      "[MoviePy] Writing audio in top_1TEMP_MPY_wvf_snd.mp3\n"
     ]
    },
    {
     "name": "stderr",
     "output_type": "stream",
     "text": [
      "100%|██████████| 1713/1713 [00:01<00:00, 1092.28it/s]"
     ]
    },
    {
     "name": "stdout",
     "output_type": "stream",
     "text": [
      "[MoviePy] Done.\n",
      "[MoviePy] Writing video ../data/videos/split/top_1.mp4\n"
     ]
    },
    {
     "name": "stderr",
     "output_type": "stream",
     "text": [
      "\n",
      "100%|██████████| 1942/1942 [00:30<00:00, 64.17it/s]\n"
     ]
    },
    {
     "name": "stdout",
     "output_type": "stream",
     "text": [
      "[MoviePy] Done.\n",
      "[MoviePy] >>>> Video ready: ../data/videos/split/top_1.mp4 \n",
      "\n",
      "(696248.21, 708956.37, 'top_16')\n",
      "(886.6682099999999, 899.37637)\n",
      "[MoviePy] >>>> Building video ../data/videos/split/top_16.mp4\n",
      "[MoviePy] Writing audio in top_16TEMP_MPY_wvf_snd.mp3\n"
     ]
    },
    {
     "name": "stderr",
     "output_type": "stream",
     "text": [
      "100%|██████████| 281/281 [00:00<00:00, 768.62it/s]"
     ]
    },
    {
     "name": "stdout",
     "output_type": "stream",
     "text": [
      "[MoviePy] Done.\n",
      "[MoviePy] Writing video ../data/videos/split/top_16.mp4\n"
     ]
    },
    {
     "name": "stderr",
     "output_type": "stream",
     "text": [
      "\n",
      "100%|██████████| 318/318 [00:04<00:00, 67.61it/s]\n"
     ]
    },
    {
     "name": "stdout",
     "output_type": "stream",
     "text": [
      "[MoviePy] Done.\n",
      "[MoviePy] >>>> Video ready: ../data/videos/split/top_16.mp4 \n",
      "\n",
      "(727415.61, 748193.99, 'top_17')\n",
      "(917.83561, 938.61399)\n",
      "[MoviePy] >>>> Building video ../data/videos/split/top_17.mp4\n",
      "[MoviePy] Writing audio in top_17TEMP_MPY_wvf_snd.mp3\n"
     ]
    },
    {
     "name": "stderr",
     "output_type": "stream",
     "text": [
      "100%|██████████| 459/459 [00:00<00:00, 889.57it/s]"
     ]
    },
    {
     "name": "stdout",
     "output_type": "stream",
     "text": [
      "[MoviePy] Done.\n",
      "[MoviePy] Writing video ../data/videos/split/top_17.mp4\n"
     ]
    },
    {
     "name": "stderr",
     "output_type": "stream",
     "text": [
      "\n",
      "100%|██████████| 520/520 [00:10<00:00, 48.24it/s]\n"
     ]
    },
    {
     "name": "stdout",
     "output_type": "stream",
     "text": [
      "[MoviePy] Done.\n",
      "[MoviePy] >>>> Video ready: ../data/videos/split/top_17.mp4 \n",
      "\n",
      "(750412.9, 763423.62, 'top_18')\n",
      "(940.8329, 953.84362)\n",
      "[MoviePy] >>>> Building video ../data/videos/split/top_18.mp4\n",
      "[MoviePy] Writing audio in top_18TEMP_MPY_wvf_snd.mp3\n"
     ]
    },
    {
     "name": "stderr",
     "output_type": "stream",
     "text": [
      "100%|██████████| 287/287 [00:00<00:00, 780.74it/s]"
     ]
    },
    {
     "name": "stdout",
     "output_type": "stream",
     "text": [
      "[MoviePy] Done.\n",
      "[MoviePy] Writing video ../data/videos/split/top_18.mp4\n"
     ]
    },
    {
     "name": "stderr",
     "output_type": "stream",
     "text": [
      "\n",
      "100%|██████████| 326/326 [00:05<00:00, 56.00it/s]\n"
     ]
    },
    {
     "name": "stdout",
     "output_type": "stream",
     "text": [
      "[MoviePy] Done.\n",
      "[MoviePy] >>>> Video ready: ../data/videos/split/top_18.mp4 \n",
      "\n",
      "(768365.66, 778048.11, 'top_21')\n",
      "(958.78566, 968.46811)\n",
      "[MoviePy] >>>> Building video ../data/videos/split/top_21.mp4\n",
      "[MoviePy] Writing audio in top_21TEMP_MPY_wvf_snd.mp3\n"
     ]
    },
    {
     "name": "stderr",
     "output_type": "stream",
     "text": [
      "100%|██████████| 214/214 [00:00<00:00, 677.41it/s]"
     ]
    },
    {
     "name": "stdout",
     "output_type": "stream",
     "text": [
      "[MoviePy] Done.\n",
      "[MoviePy] Writing video ../data/videos/split/top_21.mp4\n"
     ]
    },
    {
     "name": "stderr",
     "output_type": "stream",
     "text": [
      "\n",
      "100%|██████████| 243/243 [00:04<00:00, 60.67it/s]\n"
     ]
    },
    {
     "name": "stdout",
     "output_type": "stream",
     "text": [
      "[MoviePy] Done.\n",
      "[MoviePy] >>>> Video ready: ../data/videos/split/top_21.mp4 \n",
      "\n",
      "(779359.3, 788942.4, 'top_22')\n",
      "(969.7793, 979.3624)\n",
      "[MoviePy] >>>> Building video ../data/videos/split/top_22.mp4\n",
      "[MoviePy] Writing audio in top_22TEMP_MPY_wvf_snd.mp3\n"
     ]
    },
    {
     "name": "stderr",
     "output_type": "stream",
     "text": [
      "100%|██████████| 212/212 [00:00<00:00, 578.49it/s]"
     ]
    },
    {
     "name": "stdout",
     "output_type": "stream",
     "text": [
      "[MoviePy] Done.\n",
      "[MoviePy] Writing video ../data/videos/split/top_22.mp4\n"
     ]
    },
    {
     "name": "stderr",
     "output_type": "stream",
     "text": [
      "\n",
      "100%|██████████| 240/240 [00:03<00:00, 60.13it/s]\n"
     ]
    },
    {
     "name": "stdout",
     "output_type": "stream",
     "text": [
      "[MoviePy] Done.\n",
      "[MoviePy] >>>> Video ready: ../data/videos/split/top_22.mp4 \n",
      "\n",
      "(792875.88, 814772.2, 'top_23')\n",
      "(983.29588, 1005.1922)\n",
      "[MoviePy] >>>> Building video ../data/videos/split/top_23.mp4\n",
      "[MoviePy] Writing audio in top_23TEMP_MPY_wvf_snd.mp3\n"
     ]
    },
    {
     "name": "stderr",
     "output_type": "stream",
     "text": [
      "100%|██████████| 483/483 [00:00<00:00, 1036.58it/s]"
     ]
    },
    {
     "name": "stdout",
     "output_type": "stream",
     "text": [
      "[MoviePy] Done.\n",
      "[MoviePy] Writing video ../data/videos/split/top_23.mp4\n"
     ]
    },
    {
     "name": "stderr",
     "output_type": "stream",
     "text": [
      "\n",
      "100%|██████████| 548/548 [00:10<00:00, 53.37it/s] \n"
     ]
    },
    {
     "name": "stdout",
     "output_type": "stream",
     "text": [
      "[MoviePy] Done.\n",
      "[MoviePy] >>>> Video ready: ../data/videos/split/top_23.mp4 \n",
      "\n",
      "(817091.93, 837263.65, 'top_24')\n",
      "(1007.51193, 1027.68365)\n",
      "[MoviePy] >>>> Building video ../data/videos/split/top_24.mp4\n",
      "[MoviePy] Writing audio in top_24TEMP_MPY_wvf_snd.mp3\n"
     ]
    },
    {
     "name": "stderr",
     "output_type": "stream",
     "text": [
      "100%|██████████| 445/445 [00:00<00:00, 784.59it/s]"
     ]
    },
    {
     "name": "stdout",
     "output_type": "stream",
     "text": [
      "[MoviePy] Done.\n",
      "[MoviePy] Writing video ../data/videos/split/top_24.mp4\n"
     ]
    },
    {
     "name": "stderr",
     "output_type": "stream",
     "text": [
      "\n",
      "100%|██████████| 505/505 [00:09<00:00, 53.30it/s]\n"
     ]
    },
    {
     "name": "stdout",
     "output_type": "stream",
     "text": [
      "[MoviePy] Done.\n",
      "[MoviePy] >>>> Video ready: ../data/videos/split/top_24.mp4 \n",
      "\n",
      "(841701.42, 864092.01, 'top_25')\n",
      "(1032.12142, 1054.51201)\n",
      "[MoviePy] >>>> Building video ../data/videos/split/top_25.mp4\n",
      "[MoviePy] Writing audio in top_25TEMP_MPY_wvf_snd.mp3\n"
     ]
    },
    {
     "name": "stderr",
     "output_type": "stream",
     "text": [
      "100%|██████████| 494/494 [00:00<00:00, 871.90it/s]"
     ]
    },
    {
     "name": "stdout",
     "output_type": "stream",
     "text": [
      "[MoviePy] Done.\n",
      "[MoviePy] Writing video ../data/videos/split/top_25.mp4\n"
     ]
    },
    {
     "name": "stderr",
     "output_type": "stream",
     "text": [
      "\n",
      "100%|██████████| 560/560 [00:09<00:00, 59.59it/s]\n"
     ]
    },
    {
     "name": "stdout",
     "output_type": "stream",
     "text": [
      "[MoviePy] Done.\n",
      "[MoviePy] >>>> Video ready: ../data/videos/split/top_25.mp4 \n",
      "\n",
      "(871454.7, 891626.36, 'top_27')\n",
      "(1061.8746999999998, 1082.0463599999998)\n",
      "[MoviePy] >>>> Building video ../data/videos/split/top_27.mp4\n",
      "[MoviePy] Writing audio in top_27TEMP_MPY_wvf_snd.mp3\n"
     ]
    },
    {
     "name": "stderr",
     "output_type": "stream",
     "text": [
      "100%|██████████| 445/445 [00:00<00:00, 786.13it/s]"
     ]
    },
    {
     "name": "stdout",
     "output_type": "stream",
     "text": [
      "[MoviePy] Done.\n",
      "[MoviePy] Writing video ../data/videos/split/top_27.mp4\n"
     ]
    },
    {
     "name": "stderr",
     "output_type": "stream",
     "text": [
      "\n",
      "100%|██████████| 505/505 [00:09<00:00, 55.04it/s]\n"
     ]
    },
    {
     "name": "stdout",
     "output_type": "stream",
     "text": [
      "[MoviePy] Done.\n",
      "[MoviePy] >>>> Video ready: ../data/videos/split/top_27.mp4 \n",
      "\n",
      "(896971.95, 909579.24, 'top_29')\n",
      "(1087.39195, 1099.99924)\n",
      "[MoviePy] >>>> Building video ../data/videos/split/top_29.mp4\n",
      "[MoviePy] Writing audio in top_29TEMP_MPY_wvf_snd.mp3\n"
     ]
    },
    {
     "name": "stderr",
     "output_type": "stream",
     "text": [
      "100%|██████████| 278/278 [00:00<00:00, 666.81it/s]"
     ]
    },
    {
     "name": "stdout",
     "output_type": "stream",
     "text": [
      "[MoviePy] Done.\n",
      "[MoviePy] Writing video ../data/videos/split/top_29.mp4\n"
     ]
    },
    {
     "name": "stderr",
     "output_type": "stream",
     "text": [
      "\n",
      "100%|██████████| 316/316 [00:05<00:00, 54.27it/s]\n"
     ]
    },
    {
     "name": "stdout",
     "output_type": "stream",
     "text": [
      "[MoviePy] Done.\n",
      "[MoviePy] >>>> Video ready: ../data/videos/split/top_29.mp4 \n",
      "\n",
      "(912302.42, 922791.65, 'top_30')\n",
      "(1102.7224199999998, 1113.21165)\n",
      "[MoviePy] >>>> Building video ../data/videos/split/top_30.mp4\n",
      "[MoviePy] Writing audio in top_30TEMP_MPY_wvf_snd.mp3\n"
     ]
    },
    {
     "name": "stderr",
     "output_type": "stream",
     "text": [
      "100%|██████████| 232/232 [00:00<00:00, 630.28it/s]"
     ]
    },
    {
     "name": "stdout",
     "output_type": "stream",
     "text": [
      "[MoviePy] Done.\n",
      "[MoviePy] Writing video ../data/videos/split/top_30.mp4\n"
     ]
    },
    {
     "name": "stderr",
     "output_type": "stream",
     "text": [
      "\n",
      "100%|██████████| 263/263 [00:04<00:00, 55.72it/s]\n"
     ]
    },
    {
     "name": "stdout",
     "output_type": "stream",
     "text": [
      "[MoviePy] Done.\n",
      "[MoviePy] >>>> Video ready: ../data/videos/split/top_30.mp4 \n",
      "\n",
      "(926725.18, 962739.58, 'top_31')\n",
      "(1117.1451800000002, 1153.15958)\n",
      "[MoviePy] >>>> Building video ../data/videos/split/top_31.mp4\n",
      "[MoviePy] Writing audio in top_31TEMP_MPY_wvf_snd.mp3\n"
     ]
    },
    {
     "name": "stderr",
     "output_type": "stream",
     "text": [
      "100%|██████████| 795/795 [00:00<00:00, 1034.40it/s]"
     ]
    },
    {
     "name": "stdout",
     "output_type": "stream",
     "text": [
      "[MoviePy] Done.\n",
      "[MoviePy] Writing video ../data/videos/split/top_31.mp4\n"
     ]
    },
    {
     "name": "stderr",
     "output_type": "stream",
     "text": [
      "\n",
      "100%|██████████| 901/901 [00:16<00:00, 53.23it/s]\n"
     ]
    },
    {
     "name": "stdout",
     "output_type": "stream",
     "text": [
      "[MoviePy] Done.\n",
      "[MoviePy] >>>> Video ready: ../data/videos/split/top_31.mp4 \n",
      "\n",
      "(967883.38, 980896.03, 'top_32')\n",
      "(1158.3033799999998, 1171.31603)\n",
      "[MoviePy] >>>> Building video ../data/videos/split/top_32.mp4\n",
      "[MoviePy] Writing audio in top_32TEMP_MPY_wvf_snd.mp3\n"
     ]
    },
    {
     "name": "stderr",
     "output_type": "stream",
     "text": [
      "100%|██████████| 287/287 [00:00<00:00, 783.83it/s]"
     ]
    },
    {
     "name": "stdout",
     "output_type": "stream",
     "text": [
      "[MoviePy] Done.\n",
      "[MoviePy] Writing video ../data/videos/split/top_32.mp4\n"
     ]
    },
    {
     "name": "stderr",
     "output_type": "stream",
     "text": [
      "\n",
      "100%|██████████| 326/326 [00:05<00:00, 64.45it/s]\n"
     ]
    },
    {
     "name": "stdout",
     "output_type": "stream",
     "text": [
      "[MoviePy] Done.\n",
      "[MoviePy] >>>> Video ready: ../data/videos/split/top_32.mp4 \n",
      "\n",
      "(986951.92, 998348.93, 'top_33')\n",
      "(1177.3719199999998, 1188.7689300000002)\n",
      "[MoviePy] >>>> Building video ../data/videos/split/top_33.mp4\n",
      "[MoviePy] Writing audio in top_33TEMP_MPY_wvf_snd.mp3\n"
     ]
    },
    {
     "name": "stderr",
     "output_type": "stream",
     "text": [
      "100%|██████████| 252/252 [00:00<00:00, 687.93it/s]"
     ]
    },
    {
     "name": "stdout",
     "output_type": "stream",
     "text": [
      "[MoviePy] Done.\n",
      "[MoviePy] Writing video ../data/videos/split/top_33.mp4\n"
     ]
    },
    {
     "name": "stderr",
     "output_type": "stream",
     "text": [
      "\n",
      "100%|██████████| 285/285 [00:04<00:00, 62.89it/s]\n"
     ]
    },
    {
     "name": "stdout",
     "output_type": "stream",
     "text": [
      "[MoviePy] Done.\n",
      "[MoviePy] >>>> Video ready: ../data/videos/split/top_33.mp4 \n",
      "\n",
      "(1000366.14, 1013679.45, 'top_34')\n",
      "(1190.7861400000002, 1204.09945)\n",
      "[MoviePy] >>>> Building video ../data/videos/split/top_34.mp4\n",
      "[MoviePy] Writing audio in top_34TEMP_MPY_wvf_snd.mp3\n"
     ]
    },
    {
     "name": "stderr",
     "output_type": "stream",
     "text": [
      "100%|██████████| 294/294 [00:00<00:00, 803.69it/s]"
     ]
    },
    {
     "name": "stdout",
     "output_type": "stream",
     "text": [
      "[MoviePy] Done.\n",
      "[MoviePy] Writing video ../data/videos/split/top_34.mp4\n"
     ]
    },
    {
     "name": "stderr",
     "output_type": "stream",
     "text": [
      "\n",
      "100%|██████████| 333/333 [00:05<00:00, 56.70it/s]\n"
     ]
    },
    {
     "name": "stdout",
     "output_type": "stream",
     "text": [
      "[MoviePy] Done.\n",
      "[MoviePy] >>>> Video ready: ../data/videos/split/top_34.mp4 \n",
      "\n",
      "(1018318.93, 1039706.04, 'top_36')\n",
      "(1208.7389300000002, 1230.12604)\n",
      "[MoviePy] >>>> Building video ../data/videos/split/top_36.mp4\n",
      "[MoviePy] Writing audio in top_36TEMP_MPY_wvf_snd.mp3\n"
     ]
    },
    {
     "name": "stderr",
     "output_type": "stream",
     "text": [
      "100%|██████████| 472/472 [00:00<00:00, 706.42it/s]"
     ]
    },
    {
     "name": "stdout",
     "output_type": "stream",
     "text": [
      "[MoviePy] Done.\n",
      "[MoviePy] Writing video ../data/videos/split/top_36.mp4\n"
     ]
    },
    {
     "name": "stderr",
     "output_type": "stream",
     "text": [
      "\n",
      "100%|██████████| 535/535 [00:10<00:00, 53.48it/s]\n"
     ]
    },
    {
     "name": "stdout",
     "output_type": "stream",
     "text": [
      "[MoviePy] Done.\n",
      "[MoviePy] >>>> Video ready: ../data/videos/split/top_36.mp4 \n",
      "\n",
      "(1046867.01, 1066030.07, 'top_38')\n",
      "(1237.28701, 1256.45007)\n",
      "[MoviePy] >>>> Building video ../data/videos/split/top_38.mp4\n",
      "[MoviePy] Writing audio in top_38TEMP_MPY_wvf_snd.mp3\n"
     ]
    },
    {
     "name": "stderr",
     "output_type": "stream",
     "text": [
      "100%|██████████| 423/423 [00:00<00:00, 907.28it/s]"
     ]
    },
    {
     "name": "stdout",
     "output_type": "stream",
     "text": [
      "[MoviePy] Done.\n",
      "[MoviePy] Writing video ../data/videos/split/top_38.mp4\n"
     ]
    },
    {
     "name": "stderr",
     "output_type": "stream",
     "text": [
      "\n",
      "100%|██████████| 480/480 [00:07<00:00, 61.22it/s]\n"
     ]
    },
    {
     "name": "stdout",
     "output_type": "stream",
     "text": [
      "[MoviePy] Done.\n",
      "[MoviePy] >>>> Video ready: ../data/videos/split/top_38.mp4 \n",
      "\n",
      "(1069862.75, 1122510.84, 'top_40')\n",
      "(1260.28275, 1312.93084)\n",
      "[MoviePy] >>>> Building video ../data/videos/split/top_40.mp4\n",
      "[MoviePy] Writing audio in top_40TEMP_MPY_wvf_snd.mp3\n"
     ]
    },
    {
     "name": "stderr",
     "output_type": "stream",
     "text": [
      "100%|██████████| 1161/1161 [00:01<00:00, 1035.73it/s]"
     ]
    },
    {
     "name": "stdout",
     "output_type": "stream",
     "text": [
      "[MoviePy] Done.\n",
      "[MoviePy] Writing video ../data/videos/split/top_40.mp4\n"
     ]
    },
    {
     "name": "stderr",
     "output_type": "stream",
     "text": [
      "\n",
      "100%|██████████| 1317/1317 [00:24<00:00, 54.09it/s]\n"
     ]
    },
    {
     "name": "stdout",
     "output_type": "stream",
     "text": [
      "[MoviePy] Done.\n",
      "[MoviePy] >>>> Video ready: ../data/videos/split/top_40.mp4 \n",
      "\n",
      "(1125334.89, 1149036.73, 'top_41')\n",
      "(1315.75489, 1339.4567299999999)\n",
      "[MoviePy] >>>> Building video ../data/videos/split/top_41.mp4\n",
      "[MoviePy] Writing audio in top_41TEMP_MPY_wvf_snd.mp3\n"
     ]
    },
    {
     "name": "stderr",
     "output_type": "stream",
     "text": [
      "100%|██████████| 523/523 [00:00<00:00, 783.21it/s]"
     ]
    },
    {
     "name": "stdout",
     "output_type": "stream",
     "text": [
      "[MoviePy] Done.\n",
      "[MoviePy] Writing video ../data/videos/split/top_41.mp4\n"
     ]
    },
    {
     "name": "stderr",
     "output_type": "stream",
     "text": [
      "\n",
      "100%|██████████| 593/593 [00:10<00:00, 58.02it/s]\n"
     ]
    },
    {
     "name": "stdout",
     "output_type": "stream",
     "text": [
      "[MoviePy] Done.\n",
      "[MoviePy] >>>> Video ready: ../data/videos/split/top_41.mp4 \n",
      "\n",
      "(1151356.37, 1164266.32, 'top_44')\n",
      "(1341.77637, 1354.68632)\n",
      "[MoviePy] >>>> Building video ../data/videos/split/top_44.mp4\n",
      "[MoviePy] Writing audio in top_44TEMP_MPY_wvf_snd.mp3\n"
     ]
    },
    {
     "name": "stderr",
     "output_type": "stream",
     "text": [
      "100%|██████████| 285/285 [00:00<00:00, 776.47it/s]"
     ]
    },
    {
     "name": "stdout",
     "output_type": "stream",
     "text": [
      "[MoviePy] Done.\n",
      "[MoviePy] Writing video ../data/videos/split/top_44.mp4\n"
     ]
    },
    {
     "name": "stderr",
     "output_type": "stream",
     "text": [
      "\n",
      "100%|██████████| 323/323 [00:05<00:00, 54.10it/s]\n"
     ]
    },
    {
     "name": "stdout",
     "output_type": "stream",
     "text": [
      "[MoviePy] Done.\n",
      "[MoviePy] >>>> Video ready: ../data/videos/split/top_44.mp4 \n",
      "\n",
      "(1165880.0, 1186354.31, 'top_43')\n",
      "(1356.3, 1376.77431)\n",
      "[MoviePy] >>>> Building video ../data/videos/split/top_43.mp4\n",
      "[MoviePy] Writing audio in top_43TEMP_MPY_wvf_snd.mp3\n"
     ]
    },
    {
     "name": "stderr",
     "output_type": "stream",
     "text": [
      "100%|██████████| 452/452 [00:00<00:00, 793.93it/s]"
     ]
    },
    {
     "name": "stdout",
     "output_type": "stream",
     "text": [
      "[MoviePy] Done.\n",
      "[MoviePy] Writing video ../data/videos/split/top_43.mp4\n"
     ]
    },
    {
     "name": "stderr",
     "output_type": "stream",
     "text": [
      "\n",
      "100%|██████████| 512/512 [00:08<00:00, 57.76it/s]\n"
     ]
    },
    {
     "name": "stdout",
     "output_type": "stream",
     "text": [
      "[MoviePy] Done.\n",
      "[MoviePy] >>>> Video ready: ../data/videos/split/top_43.mp4 \n",
      "\n",
      "(1192506.64, 1226705.21, 'top_45')\n",
      "(1382.92664, 1417.12521)\n",
      "[MoviePy] >>>> Building video ../data/videos/split/top_45.mp4\n",
      "[MoviePy] Writing audio in top_45TEMP_MPY_wvf_snd.mp3\n"
     ]
    },
    {
     "name": "stderr",
     "output_type": "stream",
     "text": [
      "100%|██████████| 755/755 [00:00<00:00, 1050.59it/s]"
     ]
    },
    {
     "name": "stdout",
     "output_type": "stream",
     "text": [
      "[MoviePy] Done.\n",
      "[MoviePy] Writing video ../data/videos/split/top_45.mp4\n"
     ]
    },
    {
     "name": "stderr",
     "output_type": "stream",
     "text": [
      "\n",
      "100%|██████████| 855/855 [00:16<00:00, 50.57it/s]\n"
     ]
    },
    {
     "name": "stdout",
     "output_type": "stream",
     "text": [
      "[MoviePy] Done.\n",
      "[MoviePy] >>>> Video ready: ../data/videos/split/top_45.mp4 \n",
      "\n",
      "(1233966.98, 1245166.71, 'top_20')\n",
      "(1424.38698, 1435.58671)\n",
      "[MoviePy] >>>> Building video ../data/videos/split/top_20.mp4\n",
      "[MoviePy] Writing audio in top_20TEMP_MPY_wvf_snd.mp3\n"
     ]
    },
    {
     "name": "stderr",
     "output_type": "stream",
     "text": [
      "100%|██████████| 247/247 [00:00<00:00, 672.29it/s]"
     ]
    },
    {
     "name": "stdout",
     "output_type": "stream",
     "text": [
      "[MoviePy] Done.\n",
      "[MoviePy] Writing video ../data/videos/split/top_20.mp4\n"
     ]
    },
    {
     "name": "stderr",
     "output_type": "stream",
     "text": [
      "\n",
      "100%|██████████| 280/280 [00:04<00:00, 60.47it/s]\n"
     ]
    },
    {
     "name": "stdout",
     "output_type": "stream",
     "text": [
      "[MoviePy] Done.\n",
      "[MoviePy] >>>> Video ready: ../data/videos/split/top_20.mp4 \n",
      "\n",
      "(1250108.74, 1305379.2, 'top_19')\n",
      "(1440.52874, 1495.7992)\n",
      "[MoviePy] >>>> Building video ../data/videos/split/top_19.mp4\n",
      "[MoviePy] Writing audio in top_19TEMP_MPY_wvf_snd.mp3\n"
     ]
    },
    {
     "name": "stderr",
     "output_type": "stream",
     "text": [
      "100%|██████████| 1219/1219 [00:01<00:00, 1197.38it/s]"
     ]
    },
    {
     "name": "stdout",
     "output_type": "stream",
     "text": [
      "[MoviePy] Done.\n",
      "[MoviePy] Writing video ../data/videos/split/top_19.mp4\n"
     ]
    },
    {
     "name": "stderr",
     "output_type": "stream",
     "text": [
      "\n",
      "100%|██████████| 1382/1382 [00:24<00:00, 56.97it/s]\n"
     ]
    },
    {
     "name": "stdout",
     "output_type": "stream",
     "text": [
      "[MoviePy] Done.\n",
      "[MoviePy] >>>> Video ready: ../data/videos/split/top_19.mp4 \n",
      "\n",
      "(1309413.56, 1324049.95, 'top_14')\n",
      "(1499.83356, 1514.46995)\n",
      "[MoviePy] >>>> Building video ../data/videos/split/top_14.mp4\n",
      "[MoviePy] Writing audio in top_14TEMP_MPY_wvf_snd.mp3\n"
     ]
    },
    {
     "name": "stderr",
     "output_type": "stream",
     "text": [
      "100%|██████████| 323/323 [00:00<00:00, 687.22it/s]"
     ]
    },
    {
     "name": "stdout",
     "output_type": "stream",
     "text": [
      "[MoviePy] Done.\n",
      "[MoviePy] Writing video ../data/videos/split/top_14.mp4\n"
     ]
    },
    {
     "name": "stderr",
     "output_type": "stream",
     "text": [
      "\n",
      "100%|██████████| 366/366 [00:06<00:00, 55.51it/s]\n"
     ]
    },
    {
     "name": "stdout",
     "output_type": "stream",
     "text": [
      "[MoviePy] Done.\n",
      "[MoviePy] >>>> Video ready: ../data/videos/split/top_14.mp4 \n",
      "\n",
      "(1328286.06, 1379019.32, 'top_26')\n",
      "(1518.70606, 1569.43932)\n",
      "[MoviePy] >>>> Building video ../data/videos/split/top_26.mp4\n",
      "[MoviePy] Writing audio in top_26TEMP_MPY_wvf_snd.mp3\n"
     ]
    },
    {
     "name": "stderr",
     "output_type": "stream",
     "text": [
      "100%|██████████| 1119/1119 [00:01<00:00, 989.50it/s]"
     ]
    },
    {
     "name": "stdout",
     "output_type": "stream",
     "text": [
      "[MoviePy] Done.\n",
      "[MoviePy] Writing video ../data/videos/split/top_26.mp4\n"
     ]
    },
    {
     "name": "stderr",
     "output_type": "stream",
     "text": [
      "\n",
      "100%|██████████| 1269/1269 [00:24<00:00, 52.14it/s]\n"
     ]
    },
    {
     "name": "stdout",
     "output_type": "stream",
     "text": [
      "[MoviePy] Done.\n",
      "[MoviePy] >>>> Video ready: ../data/videos/split/top_26.mp4 \n",
      "\n",
      "(1390315.44, 1405444.24, 'top_39')\n",
      "(1580.73544, 1595.8642399999999)\n",
      "[MoviePy] >>>> Building video ../data/videos/split/top_39.mp4\n",
      "[MoviePy] Writing audio in top_39TEMP_MPY_wvf_snd.mp3\n"
     ]
    },
    {
     "name": "stderr",
     "output_type": "stream",
     "text": [
      "100%|██████████| 334/334 [00:00<00:00, 800.62it/s]"
     ]
    },
    {
     "name": "stdout",
     "output_type": "stream",
     "text": [
      "[MoviePy] Done.\n",
      "[MoviePy] Writing video ../data/videos/split/top_39.mp4\n"
     ]
    },
    {
     "name": "stderr",
     "output_type": "stream",
     "text": [
      "\n",
      "100%|██████████| 379/379 [00:05<00:00, 64.65it/s]\n"
     ]
    },
    {
     "name": "stdout",
     "output_type": "stream",
     "text": [
      "[MoviePy] Done.\n",
      "[MoviePy] >>>> Video ready: ../data/videos/split/top_39.mp4 \n",
      "\n",
      "(1408974.24, 1426624.54, 'top_38')\n",
      "(1599.39424, 1617.04454)\n",
      "[MoviePy] >>>> Building video ../data/videos/split/top_38.mp4\n",
      "[MoviePy] Writing audio in top_38TEMP_MPY_wvf_snd.mp3\n"
     ]
    },
    {
     "name": "stderr",
     "output_type": "stream",
     "text": [
      "100%|██████████| 390/390 [00:00<00:00, 935.46it/s]"
     ]
    },
    {
     "name": "stdout",
     "output_type": "stream",
     "text": [
      "[MoviePy] Done.\n",
      "[MoviePy] Writing video ../data/videos/split/top_38.mp4\n"
     ]
    },
    {
     "name": "stderr",
     "output_type": "stream",
     "text": [
      "\n",
      "100%|██████████| 442/442 [00:07<00:00, 59.42it/s] \n"
     ]
    },
    {
     "name": "stdout",
     "output_type": "stream",
     "text": [
      "[MoviePy] Done.\n",
      "[MoviePy] >>>> Video ready: ../data/videos/split/top_38.mp4 \n",
      "\n",
      "(1431465.73, 1441753.26, 'top_37')\n",
      "(1621.88573, 1632.17326)\n",
      "[MoviePy] >>>> Building video ../data/videos/split/top_37.mp4\n",
      "[MoviePy] Writing audio in top_37TEMP_MPY_wvf_snd.mp3\n"
     ]
    },
    {
     "name": "stderr",
     "output_type": "stream",
     "text": [
      "100%|██████████| 227/227 [00:00<00:00, 484.06it/s]\n"
     ]
    },
    {
     "name": "stdout",
     "output_type": "stream",
     "text": [
      "[MoviePy] Done.\n",
      "[MoviePy] Writing video ../data/videos/split/top_37.mp4\n"
     ]
    },
    {
     "name": "stderr",
     "output_type": "stream",
     "text": [
      "100%|██████████| 258/258 [00:04<00:00, 54.04it/s]\n"
     ]
    },
    {
     "name": "stdout",
     "output_type": "stream",
     "text": [
      "[MoviePy] Done.\n",
      "[MoviePy] >>>> Video ready: ../data/videos/split/top_37.mp4 \n",
      "\n",
      "(1450225.36, 1498334.88, 'top_28')\n",
      "(1640.6453600000002, 1688.75488)\n",
      "[MoviePy] >>>> Building video ../data/videos/split/top_28.mp4\n",
      "[MoviePy] Writing audio in top_28TEMP_MPY_wvf_snd.mp3\n"
     ]
    },
    {
     "name": "stderr",
     "output_type": "stream",
     "text": [
      "100%|██████████| 1061/1061 [00:00<00:00, 1095.38it/s]"
     ]
    },
    {
     "name": "stdout",
     "output_type": "stream",
     "text": [
      "[MoviePy] Done.\n",
      "[MoviePy] Writing video ../data/videos/split/top_28.mp4\n"
     ]
    },
    {
     "name": "stderr",
     "output_type": "stream",
     "text": [
      "\n",
      "100%|██████████| 1203/1203 [00:22<00:00, 53.88it/s]\n"
     ]
    },
    {
     "name": "stdout",
     "output_type": "stream",
     "text": [
      "[MoviePy] Done.\n",
      "[MoviePy] >>>> Video ready: ../data/videos/split/top_28.mp4 \n",
      "\n",
      "(1505193.25, 1537669.61, 'top_35')\n",
      "(1695.61325, 1728.08961)\n",
      "[MoviePy] >>>> Building video ../data/videos/split/top_35.mp4\n",
      "[MoviePy] Writing audio in top_35TEMP_MPY_wvf_snd.mp3\n"
     ]
    },
    {
     "name": "stderr",
     "output_type": "stream",
     "text": [
      "100%|██████████| 717/717 [00:00<00:00, 779.95it/s]"
     ]
    },
    {
     "name": "stdout",
     "output_type": "stream",
     "text": [
      "[MoviePy] Done.\n",
      "[MoviePy] Writing video ../data/videos/split/top_35.mp4\n"
     ]
    },
    {
     "name": "stderr",
     "output_type": "stream",
     "text": [
      "\n",
      "100%|██████████| 812/812 [00:14<00:00, 55.73it/s]\n"
     ]
    },
    {
     "name": "stdout",
     "output_type": "stream",
     "text": [
      "[MoviePy] Done.\n",
      "[MoviePy] >>>> Video ready: ../data/videos/split/top_35.mp4 \n",
      "\n",
      "(1544427.15, 1564397.14, 'top_27')\n",
      "(1734.8471499999998, 1754.8171399999999)\n",
      "[MoviePy] >>>> Building video ../data/videos/split/top_27.mp4\n",
      "[MoviePy] Writing audio in top_27TEMP_MPY_wvf_snd.mp3\n"
     ]
    },
    {
     "name": "stderr",
     "output_type": "stream",
     "text": [
      "100%|██████████| 441/441 [00:00<00:00, 775.53it/s]"
     ]
    },
    {
     "name": "stdout",
     "output_type": "stream",
     "text": [
      "[MoviePy] Done.\n",
      "[MoviePy] Writing video ../data/videos/split/top_27.mp4\n"
     ]
    },
    {
     "name": "stderr",
     "output_type": "stream",
     "text": [
      "\n",
      "100%|██████████| 500/500 [00:08<00:00, 59.39it/s]\n"
     ]
    },
    {
     "name": "stdout",
     "output_type": "stream",
     "text": [
      "[MoviePy] Done.\n",
      "[MoviePy] >>>> Video ready: ../data/videos/split/top_27.mp4 \n",
      "\n",
      "(1568834.99, 1587292.0, 'top_25')\n",
      "(1759.25499, 1777.712)\n",
      "[MoviePy] >>>> Building video ../data/videos/split/top_25.mp4\n",
      "[MoviePy] Writing audio in top_25TEMP_MPY_wvf_snd.mp3\n"
     ]
    },
    {
     "name": "stderr",
     "output_type": "stream",
     "text": [
      "100%|██████████| 407/407 [00:00<00:00, 869.63it/s]"
     ]
    },
    {
     "name": "stdout",
     "output_type": "stream",
     "text": [
      "[MoviePy] Done.\n",
      "[MoviePy] Writing video ../data/videos/split/top_25.mp4\n"
     ]
    },
    {
     "name": "stderr",
     "output_type": "stream",
     "text": [
      "\n",
      "100%|██████████| 462/462 [00:07<00:00, 58.47it/s]\n"
     ]
    },
    {
     "name": "stdout",
     "output_type": "stream",
     "text": [
      "[MoviePy] Done.\n",
      "[MoviePy] >>>> Video ready: ../data/videos/split/top_25.mp4 \n",
      "\n",
      "(1590822.06, 1607766.37, 'top_24')\n",
      "(1781.24206, 1798.1863700000001)\n",
      "[MoviePy] >>>> Building video ../data/videos/split/top_24.mp4\n",
      "[MoviePy] Writing audio in top_24TEMP_MPY_wvf_snd.mp3\n"
     ]
    },
    {
     "name": "stderr",
     "output_type": "stream",
     "text": [
      "100%|██████████| 374/374 [00:00<00:00, 798.79it/s]"
     ]
    },
    {
     "name": "stdout",
     "output_type": "stream",
     "text": [
      "[MoviePy] Done.\n",
      "[MoviePy] Writing video ../data/videos/split/top_24.mp4\n"
     ]
    },
    {
     "name": "stderr",
     "output_type": "stream",
     "text": [
      "\n",
      "100%|██████████| 424/424 [00:06<00:00, 61.37it/s]\n"
     ]
    },
    {
     "name": "stdout",
     "output_type": "stream",
     "text": [
      "[MoviePy] Done.\n",
      "[MoviePy] >>>> Video ready: ../data/videos/split/top_24.mp4 \n",
      "\n",
      "(1609279.12, 1628444.8, 'top_23')\n",
      "(1799.6991200000002, 1818.8648)\n",
      "[MoviePy] >>>> Building video ../data/videos/split/top_23.mp4\n",
      "[MoviePy] Writing audio in top_23TEMP_MPY_wvf_snd.mp3\n"
     ]
    },
    {
     "name": "stderr",
     "output_type": "stream",
     "text": [
      "100%|██████████| 423/423 [00:00<00:00, 901.60it/s]"
     ]
    },
    {
     "name": "stdout",
     "output_type": "stream",
     "text": [
      "[MoviePy] Done.\n",
      "[MoviePy] Writing video ../data/videos/split/top_23.mp4\n"
     ]
    },
    {
     "name": "stderr",
     "output_type": "stream",
     "text": [
      "\n",
      "100%|██████████| 480/480 [00:08<00:00, 57.39it/s]\n"
     ]
    },
    {
     "name": "stdout",
     "output_type": "stream",
     "text": [
      "[MoviePy] Done.\n",
      "[MoviePy] >>>> Video ready: ../data/videos/split/top_23.mp4 \n",
      "\n",
      "(1635605.74, 1646599.33, 'top_42')\n",
      "(1826.02574, 1837.01933)\n",
      "[MoviePy] >>>> Building video ../data/videos/split/top_42.mp4\n",
      "[MoviePy] Writing audio in top_42TEMP_MPY_wvf_snd.mp3\n"
     ]
    },
    {
     "name": "stderr",
     "output_type": "stream",
     "text": [
      "100%|██████████| 243/243 [00:00<00:00, 514.22it/s]"
     ]
    },
    {
     "name": "stdout",
     "output_type": "stream",
     "text": [
      "[MoviePy] Done.\n",
      "[MoviePy] Writing video ../data/videos/split/top_42.mp4\n"
     ]
    },
    {
     "name": "stderr",
     "output_type": "stream",
     "text": [
      "\n",
      "100%|██████████| 275/275 [00:04<00:00, 58.43it/s]\n"
     ]
    },
    {
     "name": "stdout",
     "output_type": "stream",
     "text": [
      "[MoviePy] Done.\n",
      "[MoviePy] >>>> Video ready: ../data/videos/split/top_42.mp4 \n",
      "\n",
      "(1648213.15, 1657391.16, 'top_44')\n",
      "(1838.63315, 1847.81116)\n",
      "[MoviePy] >>>> Building video ../data/videos/split/top_44.mp4\n",
      "[MoviePy] Writing audio in top_44TEMP_MPY_wvf_snd.mp3\n"
     ]
    },
    {
     "name": "stderr",
     "output_type": "stream",
     "text": [
      "100%|██████████| 203/203 [00:00<00:00, 638.25it/s]"
     ]
    },
    {
     "name": "stdout",
     "output_type": "stream",
     "text": [
      "[MoviePy] Done.\n",
      "[MoviePy] Writing video ../data/videos/split/top_44.mp4\n"
     ]
    },
    {
     "name": "stderr",
     "output_type": "stream",
     "text": [
      "\n",
      "100%|██████████| 230/230 [00:03<00:00, 66.12it/s]\n"
     ]
    },
    {
     "name": "stdout",
     "output_type": "stream",
     "text": [
      "[MoviePy] Done.\n",
      "[MoviePy] >>>> Video ready: ../data/videos/split/top_44.mp4 \n",
      "\n",
      "(1658904.02, 1694607.93, 'top_43')\n",
      "(1849.32402, 1885.02793)\n",
      "[MoviePy] >>>> Building video ../data/videos/split/top_43.mp4\n",
      "[MoviePy] Writing audio in top_43TEMP_MPY_wvf_snd.mp3\n"
     ]
    },
    {
     "name": "stderr",
     "output_type": "stream",
     "text": [
      "100%|██████████| 788/788 [00:00<00:00, 963.22it/s]"
     ]
    },
    {
     "name": "stdout",
     "output_type": "stream",
     "text": [
      "[MoviePy] Done.\n"
     ]
    },
    {
     "name": "stderr",
     "output_type": "stream",
     "text": [
      "\n"
     ]
    },
    {
     "name": "stdout",
     "output_type": "stream",
     "text": [
      "[MoviePy] Writing video ../data/videos/split/top_43.mp4\n"
     ]
    },
    {
     "name": "stderr",
     "output_type": "stream",
     "text": [
      "100%|██████████| 893/893 [00:16<00:00, 53.30it/s]\n"
     ]
    },
    {
     "name": "stdout",
     "output_type": "stream",
     "text": [
      "[MoviePy] Done.\n",
      "[MoviePy] >>>> Video ready: ../data/videos/split/top_43.mp4 \n",
      "\n",
      "(1800307.63, 1823404.24, 'second_33')\n",
      "(1990.7276299999999, 2013.82424)\n",
      "[MoviePy] >>>> Building video ../data/videos/split/second_33.mp4\n",
      "[MoviePy] Writing audio in second_33TEMP_MPY_wvf_snd.mp3\n"
     ]
    },
    {
     "name": "stderr",
     "output_type": "stream",
     "text": [
      "100%|██████████| 510/510 [00:00<00:00, 759.33it/s]"
     ]
    },
    {
     "name": "stdout",
     "output_type": "stream",
     "text": [
      "[MoviePy] Done.\n",
      "[MoviePy] Writing video ../data/videos/split/second_33.mp4\n"
     ]
    },
    {
     "name": "stderr",
     "output_type": "stream",
     "text": [
      "\n",
      "100%|██████████| 578/578 [00:08<00:00, 68.03it/s] \n"
     ]
    },
    {
     "name": "stdout",
     "output_type": "stream",
     "text": [
      "[MoviePy] Done.\n",
      "[MoviePy] >>>> Video ready: ../data/videos/split/second_33.mp4 \n",
      "\n",
      "(1829052.28, 1836515.78, 'second_32')\n",
      "(2019.47228, 2026.93578)\n",
      "[MoviePy] >>>> Building video ../data/videos/split/second_32.mp4\n",
      "[MoviePy] Writing audio in second_32TEMP_MPY_wvf_snd.mp3\n"
     ]
    },
    {
     "name": "stderr",
     "output_type": "stream",
     "text": [
      "100%|██████████| 165/165 [00:00<00:00, 394.37it/s]"
     ]
    },
    {
     "name": "stdout",
     "output_type": "stream",
     "text": [
      "[MoviePy] Done.\n",
      "[MoviePy] Writing video ../data/videos/split/second_32.mp4\n"
     ]
    },
    {
     "name": "stderr",
     "output_type": "stream",
     "text": [
      "\n",
      "100%|██████████| 187/187 [00:02<00:00, 66.45it/s]\n"
     ]
    },
    {
     "name": "stdout",
     "output_type": "stream",
     "text": [
      "[MoviePy] Done.\n",
      "[MoviePy] >>>> Video ready: ../data/videos/split/second_32.mp4 \n",
      "\n",
      "(1839743.29, 1850333.38, 'second_29')\n",
      "(2030.16329, 2040.7533799999999)\n",
      "[MoviePy] >>>> Building video ../data/videos/split/second_29.mp4\n",
      "[MoviePy] Writing audio in second_29TEMP_MPY_wvf_snd.mp3\n"
     ]
    },
    {
     "name": "stderr",
     "output_type": "stream",
     "text": [
      "100%|██████████| 234/234 [00:00<00:00, 635.15it/s]"
     ]
    },
    {
     "name": "stdout",
     "output_type": "stream",
     "text": [
      "[MoviePy] Done.\n",
      "[MoviePy] Writing video ../data/videos/split/second_29.mp4\n"
     ]
    },
    {
     "name": "stderr",
     "output_type": "stream",
     "text": [
      "\n",
      "100%|██████████| 265/265 [00:04<00:00, 61.91it/s]\n"
     ]
    },
    {
     "name": "stdout",
     "output_type": "stream",
     "text": [
      "[MoviePy] Done.\n",
      "[MoviePy] >>>> Video ready: ../data/videos/split/second_29.mp4 \n",
      "\n",
      "(1860318.4, 1869899.92, 'second_30')\n",
      "(2050.7383999999997, 2060.31992)\n",
      "[MoviePy] >>>> Building video ../data/videos/split/second_30.mp4\n",
      "[MoviePy] Writing audio in second_30TEMP_MPY_wvf_snd.mp3\n"
     ]
    },
    {
     "name": "stderr",
     "output_type": "stream",
     "text": [
      "100%|██████████| 212/212 [00:00<00:00, 663.17it/s]"
     ]
    },
    {
     "name": "stdout",
     "output_type": "stream",
     "text": [
      "[MoviePy] Done.\n",
      "[MoviePy] Writing video ../data/videos/split/second_30.mp4\n"
     ]
    },
    {
     "name": "stderr",
     "output_type": "stream",
     "text": [
      "\n",
      "100%|██████████| 240/240 [00:03<00:00, 71.76it/s]\n"
     ]
    },
    {
     "name": "stdout",
     "output_type": "stream",
     "text": [
      "[MoviePy] Done.\n",
      "[MoviePy] >>>> Video ready: ../data/videos/split/second_30.mp4 \n",
      "\n",
      "(1871816.22, 1894610.28, 'second_31')\n",
      "(2062.23622, 2085.03028)\n",
      "[MoviePy] >>>> Building video ../data/videos/split/second_31.mp4\n",
      "[MoviePy] Writing audio in second_31TEMP_MPY_wvf_snd.mp3\n"
     ]
    },
    {
     "name": "stderr",
     "output_type": "stream",
     "text": [
      "100%|██████████| 503/503 [00:00<00:00, 885.13it/s]"
     ]
    },
    {
     "name": "stdout",
     "output_type": "stream",
     "text": [
      "[MoviePy] Done.\n",
      "[MoviePy] Writing video ../data/videos/split/second_31.mp4\n"
     ]
    },
    {
     "name": "stderr",
     "output_type": "stream",
     "text": [
      "\n",
      "100%|██████████| 570/570 [00:11<00:00, 50.72it/s]\n"
     ]
    },
    {
     "name": "stdout",
     "output_type": "stream",
     "text": [
      "[MoviePy] Done.\n",
      "[MoviePy] >>>> Video ready: ../data/videos/split/second_31.mp4 \n",
      "\n",
      "(1898947.19, 1907318.38, 'second_30')\n",
      "(2089.36719, 2097.73838)\n",
      "[MoviePy] >>>> Building video ../data/videos/split/second_30.mp4\n",
      "[MoviePy] Writing audio in second_30TEMP_MPY_wvf_snd.mp3\n"
     ]
    },
    {
     "name": "stderr",
     "output_type": "stream",
     "text": [
      "100%|██████████| 185/185 [00:00<00:00, 439.78it/s]"
     ]
    },
    {
     "name": "stdout",
     "output_type": "stream",
     "text": [
      "[MoviePy] Done.\n",
      "[MoviePy] Writing video ../data/videos/split/second_30.mp4\n"
     ]
    },
    {
     "name": "stderr",
     "output_type": "stream",
     "text": [
      "\n",
      "100%|██████████| 210/210 [00:02<00:00, 70.15it/s]\n"
     ]
    },
    {
     "name": "stdout",
     "output_type": "stream",
     "text": [
      "[MoviePy] Done.\n",
      "[MoviePy] >>>> Video ready: ../data/videos/split/second_30.mp4 \n",
      "\n",
      "(1913168.18, 1923556.6, 'second_29')\n",
      "(2103.5881799999997, 2113.9766)\n",
      "[MoviePy] >>>> Building video ../data/videos/split/second_29.mp4\n",
      "[MoviePy] Writing audio in second_29TEMP_MPY_wvf_snd.mp3\n"
     ]
    },
    {
     "name": "stderr",
     "output_type": "stream",
     "text": [
      "100%|██████████| 230/230 [00:00<00:00, 724.31it/s]"
     ]
    },
    {
     "name": "stdout",
     "output_type": "stream",
     "text": [
      "[MoviePy] Done.\n",
      "[MoviePy] Writing video ../data/videos/split/second_29.mp4\n"
     ]
    },
    {
     "name": "stderr",
     "output_type": "stream",
     "text": [
      "\n",
      "100%|██████████| 260/260 [00:04<00:00, 63.57it/s]\n"
     ]
    },
    {
     "name": "stdout",
     "output_type": "stream",
     "text": [
      "[MoviePy] Done.\n",
      "[MoviePy] >>>> Video ready: ../data/videos/split/second_29.mp4 \n",
      "\n",
      "(1925372.08, 1935558.76, 'second_28')\n",
      "(2115.79208, 2125.97876)\n",
      "[MoviePy] >>>> Building video ../data/videos/split/second_28.mp4\n",
      "[MoviePy] Writing audio in second_28TEMP_MPY_wvf_snd.mp3\n"
     ]
    },
    {
     "name": "stderr",
     "output_type": "stream",
     "text": [
      "100%|██████████| 225/225 [00:00<00:00, 540.47it/s]"
     ]
    },
    {
     "name": "stdout",
     "output_type": "stream",
     "text": [
      "[MoviePy] Done.\n",
      "[MoviePy] Writing video ../data/videos/split/second_28.mp4\n"
     ]
    },
    {
     "name": "stderr",
     "output_type": "stream",
     "text": [
      "\n",
      "100%|██████████| 255/255 [00:04<00:00, 53.71it/s]\n"
     ]
    },
    {
     "name": "stdout",
     "output_type": "stream",
     "text": [
      "[MoviePy] Done.\n",
      "[MoviePy] >>>> Video ready: ../data/videos/split/second_28.mp4 \n",
      "\n",
      "(1939694.06, 1951797.01, 'second_27')\n",
      "(2130.11406, 2142.21701)\n",
      "[MoviePy] >>>> Building video ../data/videos/split/second_27.mp4\n",
      "[MoviePy] Writing audio in second_27TEMP_MPY_wvf_snd.mp3\n"
     ]
    },
    {
     "name": "stderr",
     "output_type": "stream",
     "text": [
      "100%|██████████| 267/267 [00:00<00:00, 721.14it/s]"
     ]
    },
    {
     "name": "stdout",
     "output_type": "stream",
     "text": [
      "[MoviePy] Done.\n",
      "[MoviePy] Writing video ../data/videos/split/second_27.mp4\n"
     ]
    },
    {
     "name": "stderr",
     "output_type": "stream",
     "text": [
      "\n",
      "100%|██████████| 303/303 [00:04<00:00, 66.24it/s]\n"
     ]
    },
    {
     "name": "stdout",
     "output_type": "stream",
     "text": [
      "[MoviePy] Done.\n",
      "[MoviePy] >>>> Video ready: ../data/videos/split/second_27.mp4 \n",
      "\n",
      "(1957243.4, 1976811.56, 'second_24')\n",
      "(2147.6634, 2167.23156)\n",
      "[MoviePy] >>>> Building video ../data/videos/split/second_24.mp4\n",
      "[MoviePy] Writing audio in second_24TEMP_MPY_wvf_snd.mp3\n"
     ]
    },
    {
     "name": "stderr",
     "output_type": "stream",
     "text": [
      "100%|██████████| 432/432 [00:00<00:00, 1034.58it/s]"
     ]
    },
    {
     "name": "stdout",
     "output_type": "stream",
     "text": [
      "[MoviePy] Done.\n",
      "[MoviePy] Writing video ../data/videos/split/second_24.mp4\n"
     ]
    },
    {
     "name": "stderr",
     "output_type": "stream",
     "text": [
      "\n",
      "100%|██████████| 490/490 [00:09<00:00, 50.25it/s] \n"
     ]
    },
    {
     "name": "stdout",
     "output_type": "stream",
     "text": [
      "[MoviePy] Done.\n",
      "[MoviePy] >>>> Video ready: ../data/videos/split/second_24.mp4 \n",
      "\n",
      "(1979837.33, 2006564.75, 'second_23')\n",
      "(2170.25733, 2196.98475)\n",
      "[MoviePy] >>>> Building video ../data/videos/split/second_23.mp4\n",
      "[MoviePy] Writing audio in second_23TEMP_MPY_wvf_snd.mp3\n"
     ]
    },
    {
     "name": "stderr",
     "output_type": "stream",
     "text": [
      "100%|██████████| 590/590 [00:00<00:00, 881.25it/s]"
     ]
    },
    {
     "name": "stdout",
     "output_type": "stream",
     "text": [
      "[MoviePy] Done.\n",
      "[MoviePy] Writing video ../data/videos/split/second_23.mp4\n"
     ]
    },
    {
     "name": "stderr",
     "output_type": "stream",
     "text": [
      "\n",
      "100%|██████████| 669/669 [00:11<00:00, 57.66it/s]\n"
     ]
    },
    {
     "name": "stdout",
     "output_type": "stream",
     "text": [
      "[MoviePy] Done.\n",
      "[MoviePy] >>>> Video ready: ../data/videos/split/second_23.mp4 \n",
      "\n",
      "(2009691.42, 2028148.51, 'second_22')\n",
      "(2200.1114199999997, 2218.5685099999996)\n",
      "[MoviePy] >>>> Building video ../data/videos/split/second_22.mp4\n",
      "[MoviePy] Writing audio in second_22TEMP_MPY_wvf_snd.mp3\n"
     ]
    },
    {
     "name": "stderr",
     "output_type": "stream",
     "text": [
      "100%|██████████| 407/407 [00:00<00:00, 974.62it/s] "
     ]
    },
    {
     "name": "stdout",
     "output_type": "stream",
     "text": [
      "[MoviePy] Done.\n",
      "[MoviePy] Writing video ../data/videos/split/second_22.mp4\n"
     ]
    },
    {
     "name": "stderr",
     "output_type": "stream",
     "text": [
      "\n",
      "100%|██████████| 462/462 [00:07<00:00, 59.63it/s]\n"
     ]
    },
    {
     "name": "stdout",
     "output_type": "stream",
     "text": [
      "[MoviePy] Done.\n",
      "[MoviePy] >>>> Video ready: ../data/videos/split/second_22.mp4 \n",
      "\n",
      "(2035813.71, 2053161.37, 'second_21')\n",
      "(2226.23371, 2243.5813700000003)\n",
      "[MoviePy] >>>> Building video ../data/videos/split/second_21.mp4\n",
      "[MoviePy] Writing audio in second_21TEMP_MPY_wvf_snd.mp3\n"
     ]
    },
    {
     "name": "stderr",
     "output_type": "stream",
     "text": [
      "100%|██████████| 383/383 [00:00<00:00, 617.82it/s]"
     ]
    },
    {
     "name": "stdout",
     "output_type": "stream",
     "text": [
      "[MoviePy] Done.\n",
      "[MoviePy] Writing video ../data/videos/split/second_21.mp4\n"
     ]
    },
    {
     "name": "stderr",
     "output_type": "stream",
     "text": [
      "\n",
      "100%|██████████| 434/434 [00:08<00:00, 53.82it/s]\n"
     ]
    },
    {
     "name": "stdout",
     "output_type": "stream",
     "text": [
      "[MoviePy] Done.\n",
      "[MoviePy] >>>> Video ready: ../data/videos/split/second_21.mp4 \n",
      "\n",
      "(2064154.95, 2079082.08, 'second_20')\n",
      "(2254.57495, 2269.50208)\n",
      "[MoviePy] >>>> Building video ../data/videos/split/second_20.mp4\n",
      "[MoviePy] Writing audio in second_20TEMP_MPY_wvf_snd.mp3\n"
     ]
    },
    {
     "name": "stderr",
     "output_type": "stream",
     "text": [
      "100%|██████████| 330/330 [00:00<00:00, 703.42it/s]"
     ]
    },
    {
     "name": "stdout",
     "output_type": "stream",
     "text": [
      "[MoviePy] Done.\n",
      "[MoviePy] Writing video ../data/videos/split/second_20.mp4\n"
     ]
    },
    {
     "name": "stderr",
     "output_type": "stream",
     "text": [
      "\n",
      "100%|██████████| 374/374 [00:06<00:00, 56.47it/s]\n"
     ]
    },
    {
     "name": "stdout",
     "output_type": "stream",
     "text": [
      "[MoviePy] Done.\n",
      "[MoviePy] >>>> Video ready: ../data/videos/split/second_20.mp4 \n",
      "\n",
      "(2109642.09, 2122148.52, 'second_19')\n",
      "(2300.06209, 2312.56852)\n",
      "[MoviePy] >>>> Building video ../data/videos/split/second_19.mp4\n",
      "[MoviePy] Writing audio in second_19TEMP_MPY_wvf_snd.mp3\n"
     ]
    },
    {
     "name": "stderr",
     "output_type": "stream",
     "text": [
      "100%|██████████| 276/276 [00:00<00:00, 745.23it/s]"
     ]
    },
    {
     "name": "stdout",
     "output_type": "stream",
     "text": [
      "[MoviePy] Done.\n",
      "[MoviePy] Writing video ../data/videos/split/second_19.mp4\n"
     ]
    },
    {
     "name": "stderr",
     "output_type": "stream",
     "text": [
      "\n",
      "100%|██████████| 313/313 [00:05<00:00, 61.21it/s]\n"
     ]
    },
    {
     "name": "stdout",
     "output_type": "stream",
     "text": [
      "[MoviePy] Done.\n",
      "[MoviePy] >>>> Video ready: ../data/videos/split/second_19.mp4 \n",
      "\n",
      "(2124770.94, 2136873.99, 'second_18')\n",
      "(2315.19094, 2327.29399)\n",
      "[MoviePy] >>>> Building video ../data/videos/split/second_18.mp4\n",
      "[MoviePy] Writing audio in second_18TEMP_MPY_wvf_snd.mp3\n"
     ]
    },
    {
     "name": "stderr",
     "output_type": "stream",
     "text": [
      "100%|██████████| 267/267 [00:00<00:00, 567.47it/s]"
     ]
    },
    {
     "name": "stdout",
     "output_type": "stream",
     "text": [
      "[MoviePy] Done.\n",
      "[MoviePy] Writing video ../data/videos/split/second_18.mp4\n"
     ]
    },
    {
     "name": "stderr",
     "output_type": "stream",
     "text": [
      "\n",
      "100%|██████████| 303/303 [00:05<00:00, 51.27it/s]\n"
     ]
    },
    {
     "name": "stdout",
     "output_type": "stream",
     "text": [
      "[MoviePy] Done.\n",
      "[MoviePy] >>>> Video ready: ../data/videos/split/second_18.mp4 \n",
      "\n",
      "(2224620.74, 2236118.62, 'second_17')\n",
      "(2415.0407400000004, 2426.5386200000003)\n",
      "[MoviePy] >>>> Building video ../data/videos/split/second_17.mp4\n",
      "[MoviePy] Writing audio in second_17TEMP_MPY_wvf_snd.mp3\n"
     ]
    },
    {
     "name": "stderr",
     "output_type": "stream",
     "text": [
      "100%|██████████| 254/254 [00:00<00:00, 769.96it/s]"
     ]
    },
    {
     "name": "stdout",
     "output_type": "stream",
     "text": [
      "[MoviePy] Done.\n",
      "[MoviePy] Writing video ../data/videos/split/second_17.mp4\n"
     ]
    },
    {
     "name": "stderr",
     "output_type": "stream",
     "text": [
      "\n",
      "100%|██████████| 288/288 [00:04<00:00, 60.93it/s]\n"
     ]
    },
    {
     "name": "stdout",
     "output_type": "stream",
     "text": [
      "[MoviePy] Done.\n",
      "[MoviePy] >>>> Video ready: ../data/videos/split/second_17.mp4 \n",
      "\n",
      "(2238539.19, 2268595.08, 'second_16')\n",
      "(2428.95919, 2459.01508)\n",
      "[MoviePy] >>>> Building video ../data/videos/split/second_16.mp4\n",
      "[MoviePy] Writing audio in second_16TEMP_MPY_wvf_snd.mp3\n"
     ]
    },
    {
     "name": "stderr",
     "output_type": "stream",
     "text": [
      "100%|██████████| 663/663 [00:00<00:00, 920.08it/s]"
     ]
    },
    {
     "name": "stdout",
     "output_type": "stream",
     "text": [
      "[MoviePy] Done.\n",
      "[MoviePy] Writing video ../data/videos/split/second_16.mp4\n"
     ]
    },
    {
     "name": "stderr",
     "output_type": "stream",
     "text": [
      "\n",
      "100%|██████████| 752/752 [00:13<00:00, 55.08it/s]\n"
     ]
    },
    {
     "name": "stdout",
     "output_type": "stream",
     "text": [
      "[MoviePy] Done.\n",
      "[MoviePy] >>>> Video ready: ../data/videos/split/second_16.mp4 \n",
      "\n",
      "(2271217.43, 2288262.44, 'second_14')\n",
      "(2461.63743, 2478.68244)\n",
      "[MoviePy] >>>> Building video ../data/videos/split/second_14.mp4\n",
      "[MoviePy] Writing audio in second_14TEMP_MPY_wvf_snd.mp3\n"
     ]
    },
    {
     "name": "stderr",
     "output_type": "stream",
     "text": [
      "100%|██████████| 376/376 [00:00<00:00, 898.04it/s]"
     ]
    },
    {
     "name": "stdout",
     "output_type": "stream",
     "text": [
      "[MoviePy] Done.\n",
      "[MoviePy] Writing video ../data/videos/split/second_14.mp4\n"
     ]
    },
    {
     "name": "stderr",
     "output_type": "stream",
     "text": [
      "\n",
      "100%|██████████| 427/427 [00:07<00:00, 55.50it/s]\n"
     ]
    },
    {
     "name": "stdout",
     "output_type": "stream",
     "text": [
      "[MoviePy] Done.\n",
      "[MoviePy] >>>> Video ready: ../data/videos/split/second_14.mp4 \n",
      "\n",
      "(2291489.86, 2300768.89, 'second_13')\n",
      "(2481.9098599999998, 2491.1888900000004)\n",
      "[MoviePy] >>>> Building video ../data/videos/split/second_13.mp4\n",
      "[MoviePy] Writing audio in second_13TEMP_MPY_wvf_snd.mp3\n"
     ]
    },
    {
     "name": "stderr",
     "output_type": "stream",
     "text": [
      "100%|██████████| 205/205 [00:00<00:00, 554.45it/s]"
     ]
    },
    {
     "name": "stdout",
     "output_type": "stream",
     "text": [
      "[MoviePy] Done.\n",
      "[MoviePy] Writing video ../data/videos/split/second_13.mp4\n"
     ]
    },
    {
     "name": "stderr",
     "output_type": "stream",
     "text": [
      "\n",
      "100%|██████████| 232/232 [00:03<00:00, 61.89it/s]\n"
     ]
    },
    {
     "name": "stdout",
     "output_type": "stream",
     "text": [
      "[MoviePy] Done.\n",
      "[MoviePy] >>>> Video ready: ../data/videos/split/second_13.mp4 \n",
      "\n",
      "(2304601.57, 2361183.03, 'second_12')\n",
      "(2495.02157, 2551.6030299999998)\n",
      "[MoviePy] >>>> Building video ../data/videos/split/second_12.mp4\n",
      "[MoviePy] Writing audio in second_12TEMP_MPY_wvf_snd.mp3\n"
     ]
    },
    {
     "name": "stderr",
     "output_type": "stream",
     "text": [
      "100%|██████████| 1248/1248 [00:01<00:00, 876.89it/s]"
     ]
    },
    {
     "name": "stdout",
     "output_type": "stream",
     "text": [
      "[MoviePy] Done.\n",
      "[MoviePy] Writing video ../data/videos/split/second_12.mp4\n"
     ]
    },
    {
     "name": "stderr",
     "output_type": "stream",
     "text": [
      "\n",
      "100%|██████████| 1415/1415 [00:21<00:00, 65.57it/s]\n"
     ]
    },
    {
     "name": "stdout",
     "output_type": "stream",
     "text": [
      "[MoviePy] Done.\n",
      "[MoviePy] >>>> Video ready: ../data/videos/split/second_12.mp4 \n",
      "\n",
      "(2364107.96, 2390432.03, 'second_11')\n",
      "(2554.52796, 2580.85203)\n",
      "[MoviePy] >>>> Building video ../data/videos/split/second_11.mp4\n",
      "[MoviePy] Writing audio in second_11TEMP_MPY_wvf_snd.mp3\n"
     ]
    },
    {
     "name": "stderr",
     "output_type": "stream",
     "text": [
      "100%|██████████| 581/581 [00:00<00:00, 936.40it/s] "
     ]
    },
    {
     "name": "stdout",
     "output_type": "stream",
     "text": [
      "[MoviePy] Done.\n",
      "[MoviePy] Writing video ../data/videos/split/second_11.mp4\n"
     ]
    },
    {
     "name": "stderr",
     "output_type": "stream",
     "text": [
      "\n",
      "100%|██████████| 659/659 [00:12<00:00, 53.85it/s] \n"
     ]
    },
    {
     "name": "stdout",
     "output_type": "stream",
     "text": [
      "[MoviePy] Done.\n",
      "[MoviePy] >>>> Video ready: ../data/videos/split/second_11.mp4 \n",
      "\n",
      "(2395273.2, 2410200.31, 'second_10')\n",
      "(2585.6932, 2600.6203100000002)\n",
      "[MoviePy] >>>> Building video ../data/videos/split/second_10.mp4\n",
      "[MoviePy] Writing audio in second_10TEMP_MPY_wvf_snd.mp3\n"
     ]
    },
    {
     "name": "stderr",
     "output_type": "stream",
     "text": [
      "100%|██████████| 330/330 [00:00<00:00, 634.36it/s]"
     ]
    },
    {
     "name": "stdout",
     "output_type": "stream",
     "text": [
      "[MoviePy] Done.\n",
      "[MoviePy] Writing video ../data/videos/split/second_10.mp4\n"
     ]
    },
    {
     "name": "stderr",
     "output_type": "stream",
     "text": [
      "\n",
      "100%|██████████| 374/374 [00:06<00:00, 56.83it/s]\n"
     ]
    },
    {
     "name": "stdout",
     "output_type": "stream",
     "text": [
      "[MoviePy] Done.\n",
      "[MoviePy] >>>> Video ready: ../data/videos/split/second_10.mp4 \n",
      "\n",
      "(2415747.46, 2437835.51, 'second_9')\n",
      "(2606.16746, 2628.25551)\n",
      "[MoviePy] >>>> Building video ../data/videos/split/second_9.mp4\n",
      "[MoviePy] Writing audio in second_9TEMP_MPY_wvf_snd.mp3\n"
     ]
    },
    {
     "name": "stderr",
     "output_type": "stream",
     "text": [
      "100%|██████████| 488/488 [00:00<00:00, 940.28it/s] "
     ]
    },
    {
     "name": "stdout",
     "output_type": "stream",
     "text": [
      "[MoviePy] Done.\n",
      "[MoviePy] Writing video ../data/videos/split/second_9.mp4\n"
     ]
    },
    {
     "name": "stderr",
     "output_type": "stream",
     "text": [
      "\n",
      "100%|██████████| 553/553 [00:10<00:00, 50.47it/s]\n"
     ]
    },
    {
     "name": "stdout",
     "output_type": "stream",
     "text": [
      "[MoviePy] Done.\n",
      "[MoviePy] >>>> Video ready: ../data/videos/split/second_9.mp4 \n",
      "\n",
      "(2441264.68, 2488264.7, 'second_7')\n",
      "(2631.6846800000003, 2678.6847000000002)\n",
      "[MoviePy] >>>> Building video ../data/videos/split/second_7.mp4\n",
      "[MoviePy] Writing audio in second_7TEMP_MPY_wvf_snd.mp3\n"
     ]
    },
    {
     "name": "stderr",
     "output_type": "stream",
     "text": [
      "100%|██████████| 1037/1037 [00:01<00:00, 1015.69it/s]"
     ]
    },
    {
     "name": "stdout",
     "output_type": "stream",
     "text": [
      "[MoviePy] Done.\n"
     ]
    },
    {
     "name": "stderr",
     "output_type": "stream",
     "text": [
      "\n"
     ]
    },
    {
     "name": "stdout",
     "output_type": "stream",
     "text": [
      "[MoviePy] Writing video ../data/videos/split/second_7.mp4\n"
     ]
    },
    {
     "name": "stderr",
     "output_type": "stream",
     "text": [
      "100%|██████████| 1176/1176 [00:20<00:00, 58.04it/s]\n"
     ]
    },
    {
     "name": "stdout",
     "output_type": "stream",
     "text": [
      "[MoviePy] Done.\n",
      "[MoviePy] >>>> Video ready: ../data/videos/split/second_7.mp4 \n",
      "\n",
      "(2492399.86, 2502990.01, 'second_6')\n",
      "(2682.81986, 2693.4100099999996)\n",
      "[MoviePy] >>>> Building video ../data/videos/split/second_6.mp4\n",
      "[MoviePy] Writing audio in second_6TEMP_MPY_wvf_snd.mp3\n"
     ]
    },
    {
     "name": "stderr",
     "output_type": "stream",
     "text": [
      "100%|██████████| 234/234 [00:00<00:00, 726.26it/s]"
     ]
    },
    {
     "name": "stdout",
     "output_type": "stream",
     "text": [
      "[MoviePy] Done.\n",
      "[MoviePy] Writing video ../data/videos/split/second_6.mp4\n"
     ]
    },
    {
     "name": "stderr",
     "output_type": "stream",
     "text": [
      "\n",
      "100%|██████████| 265/265 [00:03<00:00, 68.67it/s]\n"
     ]
    },
    {
     "name": "stdout",
     "output_type": "stream",
     "text": [
      "[MoviePy] Done.\n",
      "[MoviePy] >>>> Video ready: ../data/videos/split/second_6.mp4 \n",
      "\n",
      "(2506721.84, 2525279.72, 'second_5')\n",
      "(2697.14184, 2715.69972)\n",
      "[MoviePy] >>>> Building video ../data/videos/split/second_5.mp4\n",
      "[MoviePy] Writing audio in second_5TEMP_MPY_wvf_snd.mp3\n"
     ]
    },
    {
     "name": "stderr",
     "output_type": "stream",
     "text": [
      "100%|██████████| 410/410 [00:00<00:00, 872.96it/s]"
     ]
    },
    {
     "name": "stdout",
     "output_type": "stream",
     "text": [
      "[MoviePy] Done.\n",
      "[MoviePy] Writing video ../data/videos/split/second_5.mp4\n"
     ]
    },
    {
     "name": "stderr",
     "output_type": "stream",
     "text": [
      "\n",
      "100%|██████████| 464/464 [00:09<00:00, 49.92it/s]\n"
     ]
    },
    {
     "name": "stdout",
     "output_type": "stream",
     "text": [
      "[MoviePy] Done.\n",
      "[MoviePy] >>>> Video ready: ../data/videos/split/second_5.mp4 \n",
      "\n",
      "(2530221.82, 2545955.72, 'second_4')\n",
      "(2720.64182, 2736.37572)\n",
      "[MoviePy] >>>> Building video ../data/videos/split/second_4.mp4\n",
      "[MoviePy] Writing audio in second_4TEMP_MPY_wvf_snd.mp3\n"
     ]
    },
    {
     "name": "stderr",
     "output_type": "stream",
     "text": [
      "100%|██████████| 347/347 [00:00<00:00, 737.66it/s]"
     ]
    },
    {
     "name": "stdout",
     "output_type": "stream",
     "text": [
      "[MoviePy] Done.\n",
      "[MoviePy] Writing video ../data/videos/split/second_4.mp4\n"
     ]
    },
    {
     "name": "stderr",
     "output_type": "stream",
     "text": [
      "\n",
      "100%|██████████| 394/394 [00:06<00:00, 60.54it/s]\n"
     ]
    },
    {
     "name": "stdout",
     "output_type": "stream",
     "text": [
      "[MoviePy] Done.\n",
      "[MoviePy] >>>> Video ready: ../data/videos/split/second_4.mp4 \n",
      "\n",
      "(2550998.64, 2567942.89, 'second_3')\n",
      "(2741.4186400000003, 2758.3628900000003)\n",
      "[MoviePy] >>>> Building video ../data/videos/split/second_3.mp4\n",
      "[MoviePy] Writing audio in second_3TEMP_MPY_wvf_snd.mp3\n"
     ]
    },
    {
     "name": "stderr",
     "output_type": "stream",
     "text": [
      "100%|██████████| 374/374 [00:00<00:00, 794.00it/s]"
     ]
    },
    {
     "name": "stdout",
     "output_type": "stream",
     "text": [
      "[MoviePy] Done.\n",
      "[MoviePy] Writing video ../data/videos/split/second_3.mp4\n"
     ]
    },
    {
     "name": "stderr",
     "output_type": "stream",
     "text": [
      "\n",
      "100%|██████████| 424/424 [00:08<00:00, 50.69it/s]\n"
     ]
    },
    {
     "name": "stdout",
     "output_type": "stream",
     "text": [
      "[MoviePy] Done.\n",
      "[MoviePy] >>>> Video ready: ../data/videos/split/second_3.mp4 \n",
      "\n",
      "(2573590.93, 2590030.88, 'second_2')\n",
      "(2764.0109300000004, 2780.45088)\n",
      "[MoviePy] >>>> Building video ../data/videos/split/second_2.mp4\n",
      "[MoviePy] Writing audio in second_2TEMP_MPY_wvf_snd.mp3\n"
     ]
    },
    {
     "name": "stderr",
     "output_type": "stream",
     "text": [
      "100%|██████████| 363/363 [00:00<00:00, 771.21it/s]"
     ]
    },
    {
     "name": "stdout",
     "output_type": "stream",
     "text": [
      "[MoviePy] Done.\n",
      "[MoviePy] Writing video ../data/videos/split/second_2.mp4\n"
     ]
    },
    {
     "name": "stderr",
     "output_type": "stream",
     "text": [
      "\n",
      "100%|██████████| 411/411 [00:06<00:00, 59.57it/s]\n"
     ]
    },
    {
     "name": "stdout",
     "output_type": "stream",
     "text": [
      "[MoviePy] Done.\n",
      "[MoviePy] >>>> Video ready: ../data/videos/split/second_2.mp4 \n",
      "\n",
      "(2595578.04, 2617867.8, 'second_1')\n",
      "(2785.99804, 2808.2877999999996)\n",
      "[MoviePy] >>>> Building video ../data/videos/split/second_1.mp4\n",
      "[MoviePy] Writing audio in second_1TEMP_MPY_wvf_snd.mp3\n"
     ]
    },
    {
     "name": "stderr",
     "output_type": "stream",
     "text": [
      "100%|██████████| 492/492 [00:00<00:00, 941.81it/s] "
     ]
    },
    {
     "name": "stdout",
     "output_type": "stream",
     "text": [
      "[MoviePy] Done.\n",
      "[MoviePy] Writing video ../data/videos/split/second_1.mp4\n"
     ]
    },
    {
     "name": "stderr",
     "output_type": "stream",
     "text": [
      "\n",
      "100%|██████████| 558/558 [00:09<00:00, 60.63it/s]\n"
     ]
    },
    {
     "name": "stdout",
     "output_type": "stream",
     "text": [
      "[MoviePy] Done.\n",
      "[MoviePy] >>>> Video ready: ../data/videos/split/second_1.mp4 \n",
      "\n",
      "(2620086.67, 2633500.9, 'second_0')\n",
      "(2810.5066699999998, 2823.9209)\n",
      "[MoviePy] >>>> Building video ../data/videos/split/second_0.mp4\n",
      "[MoviePy] Writing audio in second_0TEMP_MPY_wvf_snd.mp3\n"
     ]
    },
    {
     "name": "stderr",
     "output_type": "stream",
     "text": [
      "100%|██████████| 296/296 [00:00<00:00, 800.22it/s]"
     ]
    },
    {
     "name": "stdout",
     "output_type": "stream",
     "text": [
      "[MoviePy] Done.\n",
      "[MoviePy] Writing video ../data/videos/split/second_0.mp4\n"
     ]
    },
    {
     "name": "stderr",
     "output_type": "stream",
     "text": [
      "\n",
      "100%|██████████| 336/336 [00:06<00:00, 48.85it/s]\n"
     ]
    },
    {
     "name": "stdout",
     "output_type": "stream",
     "text": [
      "[MoviePy] Done.\n",
      "[MoviePy] >>>> Video ready: ../data/videos/split/second_0.mp4 \n",
      "\n",
      "(2639249.78, 2662951.5, 'second_26')\n",
      "(2829.6697799999997, 2853.3715)\n",
      "[MoviePy] >>>> Building video ../data/videos/split/second_26.mp4\n",
      "[MoviePy] Writing audio in second_26TEMP_MPY_wvf_snd.mp3\n"
     ]
    },
    {
     "name": "stderr",
     "output_type": "stream",
     "text": [
      "100%|██████████| 523/523 [00:00<00:00, 842.55it/s]"
     ]
    },
    {
     "name": "stdout",
     "output_type": "stream",
     "text": [
      "[MoviePy] Done.\n",
      "[MoviePy] Writing video ../data/videos/split/second_26.mp4\n"
     ]
    },
    {
     "name": "stderr",
     "output_type": "stream",
     "text": [
      "\n",
      "100%|██████████| 593/593 [00:10<00:00, 56.67it/s]\n"
     ]
    },
    {
     "name": "stdout",
     "output_type": "stream",
     "text": [
      "[MoviePy] Done.\n",
      "[MoviePy] >>>> Video ready: ../data/videos/split/second_26.mp4 \n",
      "\n",
      "(2668902.19, 2699764.87, 'second_33')\n",
      "(2859.32219, 2890.18487)\n",
      "[MoviePy] >>>> Building video ../data/videos/split/second_33.mp4\n",
      "[MoviePy] Writing audio in second_33TEMP_MPY_wvf_snd.mp3\n"
     ]
    },
    {
     "name": "stderr",
     "output_type": "stream",
     "text": [
      "100%|██████████| 681/681 [00:00<00:00, 1017.10it/s]"
     ]
    },
    {
     "name": "stdout",
     "output_type": "stream",
     "text": [
      "[MoviePy] Done.\n",
      "[MoviePy] Writing video ../data/videos/split/second_33.mp4\n"
     ]
    },
    {
     "name": "stderr",
     "output_type": "stream",
     "text": [
      "\n",
      "100%|██████████| 772/772 [00:13<00:00, 56.60it/s] \n"
     ]
    },
    {
     "name": "stdout",
     "output_type": "stream",
     "text": [
      "[MoviePy] Done.\n",
      "[MoviePy] >>>> Video ready: ../data/videos/split/second_33.mp4 \n",
      "\n",
      "(2700168.27, 2734863.57, 'bottom_31')\n",
      "(2890.58827, 2925.28357)\n",
      "[MoviePy] >>>> Building video ../data/videos/split/bottom_31.mp4\n",
      "[MoviePy] Writing audio in bottom_31TEMP_MPY_wvf_snd.mp3\n"
     ]
    },
    {
     "name": "stderr",
     "output_type": "stream",
     "text": [
      "100%|██████████| 766/766 [00:00<00:00, 788.54it/s]"
     ]
    },
    {
     "name": "stdout",
     "output_type": "stream",
     "text": [
      "[MoviePy] Done.\n",
      "[MoviePy] Writing video ../data/videos/split/bottom_31.mp4\n"
     ]
    },
    {
     "name": "stderr",
     "output_type": "stream",
     "text": [
      "\n",
      "100%|██████████| 868/868 [00:13<00:00, 66.21it/s]\n"
     ]
    },
    {
     "name": "stdout",
     "output_type": "stream",
     "text": [
      "[MoviePy] Done.\n",
      "[MoviePy] >>>> Video ready: ../data/videos/split/bottom_31.mp4 \n",
      "\n",
      "(2822812.13, 2838445.16, 'bottom_28')\n",
      "(3013.23213, 3028.8651600000003)\n",
      "[MoviePy] >>>> Building video ../data/videos/split/bottom_28.mp4\n",
      "[MoviePy] Writing audio in bottom_28TEMP_MPY_wvf_snd.mp3\n"
     ]
    },
    {
     "name": "stderr",
     "output_type": "stream",
     "text": [
      "100%|██████████| 345/345 [00:00<00:00, 554.73it/s]"
     ]
    },
    {
     "name": "stdout",
     "output_type": "stream",
     "text": [
      "[MoviePy] Done.\n",
      "[MoviePy] Writing video ../data/videos/split/bottom_28.mp4\n"
     ]
    },
    {
     "name": "stderr",
     "output_type": "stream",
     "text": [
      "\n",
      "100%|██████████| 391/391 [00:06<00:00, 56.75it/s]\n"
     ]
    },
    {
     "name": "stdout",
     "output_type": "stream",
     "text": [
      "[MoviePy] Done.\n",
      "[MoviePy] >>>> Video ready: ../data/videos/split/bottom_28.mp4 \n",
      "\n",
      "(2842882.97, 2854279.95, 'bottom_27')\n",
      "(3033.30297, 3044.69995)\n",
      "[MoviePy] >>>> Building video ../data/videos/split/bottom_27.mp4\n",
      "[MoviePy] Writing audio in bottom_27TEMP_MPY_wvf_snd.mp3\n"
     ]
    },
    {
     "name": "stderr",
     "output_type": "stream",
     "text": [
      "100%|██████████| 252/252 [00:00<00:00, 680.92it/s]"
     ]
    },
    {
     "name": "stdout",
     "output_type": "stream",
     "text": [
      "[MoviePy] Done.\n",
      "[MoviePy] Writing video ../data/videos/split/bottom_27.mp4\n"
     ]
    },
    {
     "name": "stderr",
     "output_type": "stream",
     "text": [
      "\n",
      "100%|██████████| 285/285 [00:04<00:00, 57.20it/s]\n"
     ]
    },
    {
     "name": "stdout",
     "output_type": "stream",
     "text": [
      "[MoviePy] Done.\n",
      "[MoviePy] >>>> Video ready: ../data/videos/split/bottom_27.mp4 \n",
      "\n",
      "(2858818.58, 2872131.92, 'bottom_26')\n",
      "(3049.23858, 3062.55192)\n",
      "[MoviePy] >>>> Building video ../data/videos/split/bottom_26.mp4\n",
      "[MoviePy] Writing audio in bottom_26TEMP_MPY_wvf_snd.mp3\n"
     ]
    },
    {
     "name": "stderr",
     "output_type": "stream",
     "text": [
      "100%|██████████| 294/294 [00:00<00:00, 699.89it/s]"
     ]
    },
    {
     "name": "stdout",
     "output_type": "stream",
     "text": [
      "[MoviePy] Done.\n",
      "[MoviePy] Writing video ../data/videos/split/bottom_26.mp4\n"
     ]
    },
    {
     "name": "stderr",
     "output_type": "stream",
     "text": [
      "\n",
      "100%|██████████| 333/333 [00:05<00:00, 63.91it/s]\n"
     ]
    },
    {
     "name": "stdout",
     "output_type": "stream",
     "text": [
      "[MoviePy] Done.\n",
      "[MoviePy] >>>> Video ready: ../data/videos/split/bottom_26.mp4 \n",
      "\n",
      "(2874855.45, 2889177.03, 'bottom_25')\n",
      "(3065.27545, 3079.59703)\n",
      "[MoviePy] >>>> Building video ../data/videos/split/bottom_25.mp4\n",
      "[MoviePy] Writing audio in bottom_25TEMP_MPY_wvf_snd.mp3\n"
     ]
    },
    {
     "name": "stderr",
     "output_type": "stream",
     "text": [
      "100%|██████████| 316/316 [00:00<00:00, 855.59it/s]"
     ]
    },
    {
     "name": "stdout",
     "output_type": "stream",
     "text": [
      "[MoviePy] Done.\n",
      "[MoviePy] Writing video ../data/videos/split/bottom_25.mp4\n"
     ]
    },
    {
     "name": "stderr",
     "output_type": "stream",
     "text": [
      "\n",
      "100%|██████████| 359/359 [00:06<00:00, 54.65it/s]\n"
     ]
    },
    {
     "name": "stdout",
     "output_type": "stream",
     "text": [
      "[MoviePy] Done.\n",
      "[MoviePy] >>>> Video ready: ../data/videos/split/bottom_25.mp4 \n",
      "\n",
      "(2891294.99, 2930327.21, 'bottom_24')\n",
      "(3081.7149900000004, 3120.74721)\n",
      "[MoviePy] >>>> Building video ../data/videos/split/bottom_24.mp4\n",
      "[MoviePy] Writing audio in bottom_24TEMP_MPY_wvf_snd.mp3\n"
     ]
    },
    {
     "name": "stderr",
     "output_type": "stream",
     "text": [
      "100%|██████████| 861/861 [00:01<00:00, 842.92it/s]\n"
     ]
    },
    {
     "name": "stdout",
     "output_type": "stream",
     "text": [
      "[MoviePy] Done.\n",
      "[MoviePy] Writing video ../data/videos/split/bottom_24.mp4\n"
     ]
    },
    {
     "name": "stderr",
     "output_type": "stream",
     "text": [
      "100%|██████████| 976/976 [00:17<00:00, 56.29it/s]\n"
     ]
    },
    {
     "name": "stdout",
     "output_type": "stream",
     "text": [
      "[MoviePy] Done.\n",
      "[MoviePy] >>>> Video ready: ../data/videos/split/bottom_24.mp4 \n",
      "\n",
      "(2936378.74, 2953625.54, 'bottom_23')\n",
      "(3126.79874, 3144.04554)\n",
      "[MoviePy] >>>> Building video ../data/videos/split/bottom_23.mp4\n",
      "[MoviePy] Writing audio in bottom_23TEMP_MPY_wvf_snd.mp3\n"
     ]
    },
    {
     "name": "stderr",
     "output_type": "stream",
     "text": [
      "100%|██████████| 381/381 [00:00<00:00, 731.66it/s]"
     ]
    },
    {
     "name": "stdout",
     "output_type": "stream",
     "text": [
      "[MoviePy] Done.\n",
      "[MoviePy] Writing video ../data/videos/split/bottom_23.mp4\n"
     ]
    },
    {
     "name": "stderr",
     "output_type": "stream",
     "text": [
      "\n",
      "100%|██████████| 432/432 [00:06<00:00, 61.87it/s]\n"
     ]
    },
    {
     "name": "stdout",
     "output_type": "stream",
     "text": [
      "[MoviePy] Done.\n",
      "[MoviePy] >>>> Video ready: ../data/videos/split/bottom_23.mp4 \n",
      "\n",
      "(2958265.03, 2971981.74, 'bottom_22')\n",
      "(3148.6850299999996, 3162.4017400000002)\n",
      "[MoviePy] >>>> Building video ../data/videos/split/bottom_22.mp4\n",
      "[MoviePy] Writing audio in bottom_22TEMP_MPY_wvf_snd.mp3\n"
     ]
    },
    {
     "name": "stderr",
     "output_type": "stream",
     "text": [
      "100%|██████████| 303/303 [00:00<00:00, 716.37it/s]"
     ]
    },
    {
     "name": "stdout",
     "output_type": "stream",
     "text": [
      "[MoviePy] Done.\n",
      "[MoviePy] Writing video ../data/videos/split/bottom_22.mp4\n"
     ]
    },
    {
     "name": "stderr",
     "output_type": "stream",
     "text": [
      "\n",
      "100%|██████████| 343/343 [00:05<00:00, 65.53it/s]\n"
     ]
    },
    {
     "name": "stdout",
     "output_type": "stream",
     "text": [
      "[MoviePy] Done.\n",
      "[MoviePy] >>>> Video ready: ../data/videos/split/bottom_22.mp4 \n",
      "\n",
      "(2974402.36, 2987413.1, 'bottom_21')\n",
      "(3164.8223599999997, 3177.8331000000003)\n",
      "[MoviePy] >>>> Building video ../data/videos/split/bottom_21.mp4\n",
      "[MoviePy] Writing audio in bottom_21TEMP_MPY_wvf_snd.mp3\n"
     ]
    },
    {
     "name": "stderr",
     "output_type": "stream",
     "text": [
      "100%|██████████| 287/287 [00:00<00:00, 682.80it/s]"
     ]
    },
    {
     "name": "stdout",
     "output_type": "stream",
     "text": [
      "[MoviePy] Done.\n",
      "[MoviePy] Writing video ../data/videos/split/bottom_21.mp4\n"
     ]
    },
    {
     "name": "stderr",
     "output_type": "stream",
     "text": [
      "\n",
      "100%|██████████| 326/326 [00:05<00:00, 63.52it/s]\n"
     ]
    },
    {
     "name": "stdout",
     "output_type": "stream",
     "text": [
      "[MoviePy] Done.\n",
      "[MoviePy] >>>> Video ready: ../data/videos/split/bottom_21.mp4 \n",
      "\n",
      "(2989631.98, 3003752.13, 'bottom_20')\n",
      "(3180.05198, 3194.17213)\n",
      "[MoviePy] >>>> Building video ../data/videos/split/bottom_20.mp4\n",
      "[MoviePy] Writing audio in bottom_20TEMP_MPY_wvf_snd.mp3\n"
     ]
    },
    {
     "name": "stderr",
     "output_type": "stream",
     "text": [
      "100%|██████████| 312/312 [00:00<00:00, 738.85it/s]"
     ]
    },
    {
     "name": "stdout",
     "output_type": "stream",
     "text": [
      "[MoviePy] Done.\n",
      "[MoviePy] Writing video ../data/videos/split/bottom_20.mp4\n"
     ]
    },
    {
     "name": "stderr",
     "output_type": "stream",
     "text": [
      "\n",
      "100%|██████████| 354/354 [00:05<00:00, 63.19it/s]\n"
     ]
    },
    {
     "name": "stdout",
     "output_type": "stream",
     "text": [
      "[MoviePy] Done.\n",
      "[MoviePy] >>>> Video ready: ../data/videos/split/bottom_20.mp4 \n",
      "\n",
      "(3006374.52, 3018679.2, 'bottom_19')\n",
      "(3196.79452, 3209.0992)\n",
      "[MoviePy] >>>> Building video ../data/videos/split/bottom_19.mp4\n",
      "[MoviePy] Writing audio in bottom_19TEMP_MPY_wvf_snd.mp3\n"
     ]
    },
    {
     "name": "stderr",
     "output_type": "stream",
     "text": [
      "100%|██████████| 272/272 [00:00<00:00, 844.90it/s]"
     ]
    },
    {
     "name": "stdout",
     "output_type": "stream",
     "text": [
      "[MoviePy] Done.\n",
      "[MoviePy] Writing video ../data/videos/split/bottom_19.mp4\n"
     ]
    },
    {
     "name": "stderr",
     "output_type": "stream",
     "text": [
      "\n",
      "100%|██████████| 308/308 [00:05<00:00, 60.31it/s]\n"
     ]
    },
    {
     "name": "stdout",
     "output_type": "stream",
     "text": [
      "[MoviePy] Done.\n",
      "[MoviePy] >>>> Video ready: ../data/videos/split/bottom_19.mp4 \n",
      "\n",
      "(3020797.28, 3025033.27, 'bottom_11')\n",
      "(3211.21728, 3215.45327)\n",
      "[MoviePy] >>>> Building video ../data/videos/split/bottom_11.mp4\n",
      "[MoviePy] Writing audio in bottom_11TEMP_MPY_wvf_snd.mp3\n"
     ]
    },
    {
     "name": "stderr",
     "output_type": "stream",
     "text": [
      "100%|██████████| 94/94 [00:00<00:00, 345.92it/s]"
     ]
    },
    {
     "name": "stdout",
     "output_type": "stream",
     "text": [
      "[MoviePy] Done.\n",
      "[MoviePy] Writing video ../data/videos/split/bottom_11.mp4\n"
     ]
    },
    {
     "name": "stderr",
     "output_type": "stream",
     "text": [
      "\n",
      "100%|██████████| 106/106 [00:01<00:00, 67.54it/s]\n"
     ]
    },
    {
     "name": "stdout",
     "output_type": "stream",
     "text": [
      "[MoviePy] Done.\n",
      "[MoviePy] >>>> Video ready: ../data/videos/split/bottom_11.mp4 \n",
      "\n",
      "(3028059.05, 3038144.98, 'bottom_18')\n",
      "(3218.47905, 3228.56498)\n",
      "[MoviePy] >>>> Building video ../data/videos/split/bottom_18.mp4\n",
      "[MoviePy] Writing audio in bottom_18TEMP_MPY_wvf_snd.mp3\n"
     ]
    },
    {
     "name": "stderr",
     "output_type": "stream",
     "text": [
      "100%|██████████| 223/223 [00:00<00:00, 601.07it/s]"
     ]
    },
    {
     "name": "stdout",
     "output_type": "stream",
     "text": [
      "[MoviePy] Done.\n",
      "[MoviePy] Writing video ../data/videos/split/bottom_18.mp4\n"
     ]
    },
    {
     "name": "stderr",
     "output_type": "stream",
     "text": [
      "\n",
      "100%|██████████| 253/253 [00:04<00:00, 60.99it/s]\n"
     ]
    },
    {
     "name": "stdout",
     "output_type": "stream",
     "text": [
      "[MoviePy] Done.\n",
      "[MoviePy] >>>> Video ready: ../data/videos/split/bottom_18.mp4 \n",
      "\n",
      "(3039254.37, 3047827.31, 'bottom_17')\n",
      "(3229.67437, 3238.24731)\n",
      "[MoviePy] >>>> Building video ../data/videos/split/bottom_17.mp4\n",
      "[MoviePy] Writing audio in bottom_17TEMP_MPY_wvf_snd.mp3\n"
     ]
    },
    {
     "name": "stderr",
     "output_type": "stream",
     "text": [
      "100%|██████████| 190/190 [00:00<00:00, 705.16it/s]"
     ]
    },
    {
     "name": "stdout",
     "output_type": "stream",
     "text": [
      "[MoviePy] Done.\n",
      "[MoviePy] Writing video ../data/videos/split/bottom_17.mp4\n"
     ]
    },
    {
     "name": "stderr",
     "output_type": "stream",
     "text": [
      "\n",
      "100%|██████████| 215/215 [00:02<00:00, 75.19it/s] \n"
     ]
    },
    {
     "name": "stdout",
     "output_type": "stream",
     "text": [
      "[MoviePy] Done.\n",
      "[MoviePy] >>>> Video ready: ../data/videos/split/bottom_17.mp4 \n",
      "\n",
      "(3051659.88, 3058921.75, 'bottom_16')\n",
      "(3242.07988, 3249.34175)\n",
      "[MoviePy] >>>> Building video ../data/videos/split/bottom_16.mp4\n",
      "[MoviePy] Writing audio in bottom_16TEMP_MPY_wvf_snd.mp3\n"
     ]
    },
    {
     "name": "stderr",
     "output_type": "stream",
     "text": [
      "100%|██████████| 161/161 [00:00<00:00, 502.47it/s]"
     ]
    },
    {
     "name": "stdout",
     "output_type": "stream",
     "text": [
      "[MoviePy] Done.\n",
      "[MoviePy] Writing video ../data/videos/split/bottom_16.mp4\n"
     ]
    },
    {
     "name": "stderr",
     "output_type": "stream",
     "text": [
      "\n",
      "100%|██████████| 182/182 [00:02<00:00, 71.66it/s]\n"
     ]
    },
    {
     "name": "stdout",
     "output_type": "stream",
     "text": [
      "[MoviePy] Done.\n",
      "[MoviePy] >>>> Video ready: ../data/videos/split/bottom_16.mp4 \n",
      "\n",
      "(3061443.28, 3068301.62, 'bottom_15')\n",
      "(3251.8632799999996, 3258.7216200000003)\n",
      "[MoviePy] >>>> Building video ../data/videos/split/bottom_15.mp4\n",
      "[MoviePy] Writing audio in bottom_15TEMP_MPY_wvf_snd.mp3\n"
     ]
    },
    {
     "name": "stderr",
     "output_type": "stream",
     "text": [
      "100%|██████████| 152/152 [00:00<00:00, 407.99it/s]"
     ]
    },
    {
     "name": "stdout",
     "output_type": "stream",
     "text": [
      "[MoviePy] Done.\n",
      "[MoviePy] Writing video ../data/videos/split/bottom_15.mp4\n"
     ]
    },
    {
     "name": "stderr",
     "output_type": "stream",
     "text": [
      "\n",
      "100%|██████████| 172/172 [00:03<00:00, 57.23it/s]\n"
     ]
    },
    {
     "name": "stdout",
     "output_type": "stream",
     "text": [
      "[MoviePy] Done.\n",
      "[MoviePy] >>>> Video ready: ../data/videos/split/bottom_15.mp4 \n",
      "\n",
      "(3070419.6, 3086657.78, 'bottom_14')\n",
      "(3260.8396000000002, 3277.0777799999996)\n",
      "[MoviePy] >>>> Building video ../data/videos/split/bottom_14.mp4\n",
      "[MoviePy] Writing audio in bottom_14TEMP_MPY_wvf_snd.mp3\n"
     ]
    },
    {
     "name": "stderr",
     "output_type": "stream",
     "text": [
      "100%|██████████| 359/359 [00:00<00:00, 760.50it/s]"
     ]
    },
    {
     "name": "stdout",
     "output_type": "stream",
     "text": [
      "[MoviePy] Done.\n",
      "[MoviePy] Writing video ../data/videos/split/bottom_14.mp4\n"
     ]
    },
    {
     "name": "stderr",
     "output_type": "stream",
     "text": [
      "\n",
      "100%|██████████| 406/406 [00:06<00:00, 61.97it/s]\n"
     ]
    },
    {
     "name": "stdout",
     "output_type": "stream",
     "text": [
      "[MoviePy] Done.\n",
      "[MoviePy] >>>> Video ready: ../data/videos/split/bottom_14.mp4 \n",
      "\n",
      "(3088775.86, 3097046.23, 'bottom_13')\n",
      "(3279.19586, 3287.46623)\n",
      "[MoviePy] >>>> Building video ../data/videos/split/bottom_13.mp4\n",
      "[MoviePy] Writing audio in bottom_13TEMP_MPY_wvf_snd.mp3\n"
     ]
    },
    {
     "name": "stderr",
     "output_type": "stream",
     "text": [
      "100%|██████████| 183/183 [00:00<00:00, 670.49it/s]"
     ]
    },
    {
     "name": "stdout",
     "output_type": "stream",
     "text": [
      "[MoviePy] Done.\n",
      "[MoviePy] Writing video ../data/videos/split/bottom_13.mp4\n"
     ]
    },
    {
     "name": "stderr",
     "output_type": "stream",
     "text": [
      "\n",
      "100%|██████████| 207/207 [00:03<00:00, 68.28it/s]\n"
     ]
    },
    {
     "name": "stdout",
     "output_type": "stream",
     "text": [
      "[MoviePy] Done.\n",
      "[MoviePy] >>>> Video ready: ../data/videos/split/bottom_13.mp4 \n",
      "\n",
      "(3099971.1, 3107132.14, 'bottom_12')\n",
      "(3290.3911000000003, 3297.5521400000002)\n",
      "[MoviePy] >>>> Building video ../data/videos/split/bottom_12.mp4\n",
      "[MoviePy] Writing audio in bottom_12TEMP_MPY_wvf_snd.mp3\n"
     ]
    },
    {
     "name": "stderr",
     "output_type": "stream",
     "text": [
      "100%|██████████| 158/158 [00:00<00:00, 583.85it/s]"
     ]
    },
    {
     "name": "stdout",
     "output_type": "stream",
     "text": [
      "[MoviePy] Done.\n",
      "[MoviePy] Writing video ../data/videos/split/bottom_12.mp4\n"
     ]
    },
    {
     "name": "stderr",
     "output_type": "stream",
     "text": [
      "\n",
      "100%|██████████| 180/180 [00:02<00:00, 79.18it/s] \n"
     ]
    },
    {
     "name": "stdout",
     "output_type": "stream",
     "text": [
      "[MoviePy] Done.\n",
      "[MoviePy] >>>> Video ready: ../data/videos/split/bottom_12.mp4 \n",
      "\n",
      "(3112275.81, 3126093.46, 'bottom_11')\n",
      "(3302.69581, 3316.51346)\n",
      "[MoviePy] >>>> Building video ../data/videos/split/bottom_11.mp4\n",
      "[MoviePy] Writing audio in bottom_11TEMP_MPY_wvf_snd.mp3\n"
     ]
    },
    {
     "name": "stderr",
     "output_type": "stream",
     "text": [
      "100%|██████████| 305/305 [00:00<00:00, 719.06it/s]"
     ]
    },
    {
     "name": "stdout",
     "output_type": "stream",
     "text": [
      "[MoviePy] Done.\n",
      "[MoviePy] Writing video ../data/videos/split/bottom_11.mp4\n"
     ]
    },
    {
     "name": "stderr",
     "output_type": "stream",
     "text": [
      "\n",
      "100%|██████████| 346/346 [00:06<00:00, 53.70it/s]\n"
     ]
    },
    {
     "name": "stdout",
     "output_type": "stream",
     "text": [
      "[MoviePy] Done.\n",
      "[MoviePy] >>>> Video ready: ../data/videos/split/bottom_11.mp4 \n",
      "\n",
      "(3134363.87, 3171278.03, 'bottom_10')\n",
      "(3324.78387, 3361.69803)\n",
      "[MoviePy] >>>> Building video ../data/videos/split/bottom_10.mp4\n",
      "[MoviePy] Writing audio in bottom_10TEMP_MPY_wvf_snd.mp3\n"
     ]
    },
    {
     "name": "stderr",
     "output_type": "stream",
     "text": [
      "100%|██████████| 814/814 [00:00<00:00, 878.73it/s]"
     ]
    },
    {
     "name": "stdout",
     "output_type": "stream",
     "text": [
      "[MoviePy] Done.\n",
      "[MoviePy] Writing video ../data/videos/split/bottom_10.mp4\n"
     ]
    },
    {
     "name": "stderr",
     "output_type": "stream",
     "text": [
      "\n",
      "100%|██████████| 923/923 [00:16<00:00, 55.64it/s]\n"
     ]
    },
    {
     "name": "stdout",
     "output_type": "stream",
     "text": [
      "[MoviePy] Done.\n",
      "[MoviePy] >>>> Video ready: ../data/videos/split/bottom_10.mp4 \n",
      "\n",
      "(3173295.19, 3178640.71, 'bottom_9')\n",
      "(3363.71519, 3369.0607099999997)\n",
      "[MoviePy] >>>> Building video ../data/videos/split/bottom_9.mp4\n",
      "[MoviePy] Writing audio in bottom_9TEMP_MPY_wvf_snd.mp3\n"
     ]
    },
    {
     "name": "stderr",
     "output_type": "stream",
     "text": [
      "100%|██████████| 118/118 [00:00<00:00, 366.35it/s]"
     ]
    },
    {
     "name": "stdout",
     "output_type": "stream",
     "text": [
      "[MoviePy] Done.\n",
      "[MoviePy] Writing video ../data/videos/split/bottom_9.mp4\n"
     ]
    },
    {
     "name": "stderr",
     "output_type": "stream",
     "text": [
      "\n",
      "100%|██████████| 134/134 [00:01<00:00, 68.11it/s]\n"
     ]
    },
    {
     "name": "stdout",
     "output_type": "stream",
     "text": [
      "[MoviePy] Done.\n",
      "[MoviePy] >>>> Video ready: ../data/videos/split/bottom_9.mp4 \n",
      "\n",
      "(3181464.73, 3197803.83, 'bottom_8')\n",
      "(3371.8847299999998, 3388.22383)\n",
      "[MoviePy] >>>> Building video ../data/videos/split/bottom_8.mp4\n",
      "[MoviePy] Writing audio in bottom_8TEMP_MPY_wvf_snd.mp3\n"
     ]
    },
    {
     "name": "stderr",
     "output_type": "stream",
     "text": [
      "100%|██████████| 361/361 [00:00<00:00, 764.41it/s]"
     ]
    },
    {
     "name": "stdout",
     "output_type": "stream",
     "text": [
      "[MoviePy] Done.\n",
      "[MoviePy] Writing video ../data/videos/split/bottom_8.mp4\n"
     ]
    },
    {
     "name": "stderr",
     "output_type": "stream",
     "text": [
      "\n",
      "100%|██████████| 409/409 [00:07<00:00, 55.53it/s]\n"
     ]
    },
    {
     "name": "stdout",
     "output_type": "stream",
     "text": [
      "[MoviePy] Done.\n",
      "[MoviePy] >>>> Video ready: ../data/videos/split/bottom_8.mp4 \n",
      "\n",
      "(3203351.03, 3216160.08, 'bottom_7')\n",
      "(3393.77103, 3406.58008)\n",
      "[MoviePy] >>>> Building video ../data/videos/split/bottom_7.mp4\n",
      "[MoviePy] Writing audio in bottom_7TEMP_MPY_wvf_snd.mp3\n"
     ]
    },
    {
     "name": "stderr",
     "output_type": "stream",
     "text": [
      "100%|██████████| 283/283 [00:00<00:00, 762.47it/s]"
     ]
    },
    {
     "name": "stdout",
     "output_type": "stream",
     "text": [
      "[MoviePy] Done.\n",
      "[MoviePy] Writing video ../data/videos/split/bottom_7.mp4\n"
     ]
    },
    {
     "name": "stderr",
     "output_type": "stream",
     "text": [
      "\n",
      "100%|██████████| 321/321 [00:05<00:00, 55.94it/s]\n"
     ]
    },
    {
     "name": "stdout",
     "output_type": "stream",
     "text": [
      "[MoviePy] Done.\n",
      "[MoviePy] >>>> Video ready: ../data/videos/split/bottom_7.mp4 \n",
      "\n",
      "(3220396.09, 3232297.39, 'bottom_6')\n",
      "(3410.81609, 3422.7173900000003)\n",
      "[MoviePy] >>>> Building video ../data/videos/split/bottom_6.mp4\n",
      "[MoviePy] Writing audio in bottom_6TEMP_MPY_wvf_snd.mp3\n"
     ]
    },
    {
     "name": "stderr",
     "output_type": "stream",
     "text": [
      "100%|██████████| 263/263 [00:00<00:00, 707.98it/s]"
     ]
    },
    {
     "name": "stdout",
     "output_type": "stream",
     "text": [
      "[MoviePy] Done.\n",
      "[MoviePy] Writing video ../data/videos/split/bottom_6.mp4\n"
     ]
    },
    {
     "name": "stderr",
     "output_type": "stream",
     "text": [
      "\n",
      "100%|██████████| 298/298 [00:04<00:00, 64.30it/s]\n"
     ]
    },
    {
     "name": "stdout",
     "output_type": "stream",
     "text": [
      "[MoviePy] Done.\n",
      "[MoviePy] >>>> Video ready: ../data/videos/split/bottom_6.mp4 \n",
      "\n",
      "(3236533.44, 3242584.93, 'bottom_5')\n",
      "(3426.95344, 3433.00493)\n",
      "[MoviePy] >>>> Building video ../data/videos/split/bottom_5.mp4\n",
      "[MoviePy] Writing audio in bottom_5TEMP_MPY_wvf_snd.mp3\n"
     ]
    },
    {
     "name": "stderr",
     "output_type": "stream",
     "text": [
      "100%|██████████| 134/134 [00:00<00:00, 493.70it/s]"
     ]
    },
    {
     "name": "stdout",
     "output_type": "stream",
     "text": [
      "[MoviePy] Done.\n",
      "[MoviePy] Writing video ../data/videos/split/bottom_5.mp4\n"
     ]
    },
    {
     "name": "stderr",
     "output_type": "stream",
     "text": [
      "\n",
      "100%|██████████| 152/152 [00:02<00:00, 71.44it/s]\n"
     ]
    },
    {
     "name": "stdout",
     "output_type": "stream",
     "text": [
      "[MoviePy] Done.\n",
      "[MoviePy] >>>> Video ready: ../data/videos/split/bottom_5.mp4 \n",
      "\n",
      "(3245610.65, 3254486.24, 'bottom_4')\n",
      "(3436.0306499999997, 3444.9062400000003)\n",
      "[MoviePy] >>>> Building video ../data/videos/split/bottom_4.mp4\n",
      "[MoviePy] Writing audio in bottom_4TEMP_MPY_wvf_snd.mp3\n"
     ]
    },
    {
     "name": "stderr",
     "output_type": "stream",
     "text": [
      "100%|██████████| 196/196 [00:00<00:00, 724.17it/s]"
     ]
    },
    {
     "name": "stdout",
     "output_type": "stream",
     "text": [
      "[MoviePy] Done.\n",
      "[MoviePy] Writing video ../data/videos/split/bottom_4.mp4\n"
     ]
    },
    {
     "name": "stderr",
     "output_type": "stream",
     "text": [
      "\n",
      "100%|██████████| 222/222 [00:03<00:00, 72.14it/s]\n"
     ]
    },
    {
     "name": "stdout",
     "output_type": "stream",
     "text": [
      "[MoviePy] Done.\n",
      "[MoviePy] >>>> Video ready: ../data/videos/split/bottom_4.mp4 \n",
      "\n",
      "(3259428.28, 3268908.98, 'bottom_3')\n",
      "(3449.8482799999997, 3459.32898)\n",
      "[MoviePy] >>>> Building video ../data/videos/split/bottom_3.mp4\n",
      "[MoviePy] Writing audio in bottom_3TEMP_MPY_wvf_snd.mp3\n"
     ]
    },
    {
     "name": "stderr",
     "output_type": "stream",
     "text": [
      "100%|██████████| 210/210 [00:00<00:00, 564.52it/s]"
     ]
    },
    {
     "name": "stdout",
     "output_type": "stream",
     "text": [
      "[MoviePy] Done.\n",
      "[MoviePy] Writing video ../data/videos/split/bottom_3.mp4\n"
     ]
    },
    {
     "name": "stderr",
     "output_type": "stream",
     "text": [
      "\n",
      "100%|██████████| 238/238 [00:03<00:00, 65.89it/s]\n"
     ]
    },
    {
     "name": "stdout",
     "output_type": "stream",
     "text": [
      "[MoviePy] Done.\n",
      "[MoviePy] >>>> Video ready: ../data/videos/split/bottom_3.mp4 \n",
      "\n",
      "(3270018.4, 3278087.08, 'bottom_2')\n",
      "(3460.4384, 3468.50708)\n",
      "[MoviePy] >>>> Building video ../data/videos/split/bottom_2.mp4\n",
      "[MoviePy] Writing audio in bottom_2TEMP_MPY_wvf_snd.mp3\n"
     ]
    },
    {
     "name": "stderr",
     "output_type": "stream",
     "text": [
      "100%|██████████| 178/178 [00:00<00:00, 649.50it/s]"
     ]
    },
    {
     "name": "stdout",
     "output_type": "stream",
     "text": [
      "[MoviePy] Done.\n",
      "[MoviePy] Writing video ../data/videos/split/bottom_2.mp4\n"
     ]
    },
    {
     "name": "stderr",
     "output_type": "stream",
     "text": [
      "\n",
      "100%|██████████| 202/202 [00:02<00:00, 71.46it/s] \n"
     ]
    },
    {
     "name": "stdout",
     "output_type": "stream",
     "text": [
      "[MoviePy] Done.\n",
      "[MoviePy] >>>> Video ready: ../data/videos/split/bottom_2.mp4 \n",
      "\n",
      "(3279196.52, 3289786.65, 'bottom_1')\n",
      "(3469.61652, 3480.20665)\n",
      "[MoviePy] >>>> Building video ../data/videos/split/bottom_1.mp4\n",
      "[MoviePy] Writing audio in bottom_1TEMP_MPY_wvf_snd.mp3\n"
     ]
    },
    {
     "name": "stderr",
     "output_type": "stream",
     "text": [
      "100%|██████████| 234/234 [00:00<00:00, 629.33it/s]"
     ]
    },
    {
     "name": "stdout",
     "output_type": "stream",
     "text": [
      "[MoviePy] Done.\n",
      "[MoviePy] Writing video ../data/videos/split/bottom_1.mp4\n"
     ]
    },
    {
     "name": "stderr",
     "output_type": "stream",
     "text": [
      "\n",
      "100%|██████████| 265/265 [00:03<00:00, 68.41it/s]\n"
     ]
    },
    {
     "name": "stdout",
     "output_type": "stream",
     "text": [
      "[MoviePy] Done.\n",
      "[MoviePy] >>>> Video ready: ../data/videos/split/bottom_1.mp4 \n",
      "\n",
      "(3293518.5, 3316009.82, 'bottom_0')\n",
      "(3483.9385, 3506.42982)\n",
      "[MoviePy] >>>> Building video ../data/videos/split/bottom_0.mp4\n",
      "[MoviePy] Writing audio in bottom_0TEMP_MPY_wvf_snd.mp3\n"
     ]
    },
    {
     "name": "stderr",
     "output_type": "stream",
     "text": [
      "100%|██████████| 496/496 [00:00<00:00, 867.24it/s]"
     ]
    },
    {
     "name": "stdout",
     "output_type": "stream",
     "text": [
      "[MoviePy] Done.\n",
      "[MoviePy] Writing video ../data/videos/split/bottom_0.mp4\n"
     ]
    },
    {
     "name": "stderr",
     "output_type": "stream",
     "text": [
      "\n",
      "100%|██████████| 563/563 [00:11<00:00, 48.41it/s]\n"
     ]
    },
    {
     "name": "stdout",
     "output_type": "stream",
     "text": [
      "[MoviePy] Done.\n",
      "[MoviePy] >>>> Video ready: ../data/videos/split/bottom_0.mp4 \n",
      "\n",
      "(3319943.33, 3330230.9, 'bottom_32')\n",
      "(3510.36333, 3520.6509)\n",
      "[MoviePy] >>>> Building video ../data/videos/split/bottom_32.mp4\n",
      "[MoviePy] Writing audio in bottom_32TEMP_MPY_wvf_snd.mp3\n"
     ]
    },
    {
     "name": "stderr",
     "output_type": "stream",
     "text": [
      "100%|██████████| 227/227 [00:00<00:00, 610.52it/s]"
     ]
    },
    {
     "name": "stdout",
     "output_type": "stream",
     "text": [
      "[MoviePy] Done.\n",
      "[MoviePy] Writing video ../data/videos/split/bottom_32.mp4\n"
     ]
    },
    {
     "name": "stderr",
     "output_type": "stream",
     "text": [
      "\n",
      "100%|██████████| 258/258 [00:03<00:00, 65.56it/s]\n"
     ]
    },
    {
     "name": "stdout",
     "output_type": "stream",
     "text": [
      "[MoviePy] Done.\n",
      "[MoviePy] >>>> Video ready: ../data/videos/split/bottom_32.mp4 \n",
      "\n",
      "(3341022.72, 3345662.24, 'bottom_30')\n",
      "(3531.44272, 3536.08224)\n",
      "[MoviePy] >>>> Building video ../data/videos/split/bottom_30.mp4\n",
      "[MoviePy] Writing audio in bottom_30TEMP_MPY_wvf_snd.mp3\n"
     ]
    },
    {
     "name": "stderr",
     "output_type": "stream",
     "text": [
      "100%|██████████| 103/103 [00:00<00:00, 379.16it/s]"
     ]
    },
    {
     "name": "stdout",
     "output_type": "stream",
     "text": [
      "[MoviePy] Done.\n",
      "[MoviePy] Writing video ../data/videos/split/bottom_30.mp4\n"
     ]
    },
    {
     "name": "stderr",
     "output_type": "stream",
     "text": [
      "\n",
      "100%|██████████| 116/116 [00:01<00:00, 81.04it/s]\n"
     ]
    },
    {
     "name": "stdout",
     "output_type": "stream",
     "text": [
      "[MoviePy] Done.\n",
      "[MoviePy] >>>> Video ready: ../data/videos/split/bottom_30.mp4 \n",
      "\n",
      "(3349091.41, 3389535.68, 'bottom_29')\n",
      "(3539.51141, 3579.95568)\n",
      "[MoviePy] >>>> Building video ../data/videos/split/bottom_29.mp4\n",
      "[MoviePy] Writing audio in bottom_29TEMP_MPY_wvf_snd.mp3\n"
     ]
    },
    {
     "name": "stderr",
     "output_type": "stream",
     "text": [
      "100%|██████████| 892/892 [00:00<00:00, 1155.99it/s]"
     ]
    },
    {
     "name": "stdout",
     "output_type": "stream",
     "text": [
      "[MoviePy] Done.\n",
      "[MoviePy] Writing video ../data/videos/split/bottom_29.mp4\n"
     ]
    },
    {
     "name": "stderr",
     "output_type": "stream",
     "text": [
      "\n",
      "100%|██████████| 1012/1012 [00:19<00:00, 51.05it/s]\n"
     ]
    },
    {
     "name": "stdout",
     "output_type": "stream",
     "text": [
      "[MoviePy] Done.\n",
      "[MoviePy] >>>> Video ready: ../data/videos/split/bottom_29.mp4 \n",
      "\n",
      "(3393872.58, 3399520.68, 'bottom_30')\n",
      "(3584.2925800000003, 3589.94068)\n",
      "[MoviePy] >>>> Building video ../data/videos/split/bottom_30.mp4\n",
      "[MoviePy] Writing audio in bottom_30TEMP_MPY_wvf_snd.mp3\n"
     ]
    },
    {
     "name": "stderr",
     "output_type": "stream",
     "text": [
      "100%|██████████| 125/125 [00:00<00:00, 386.62it/s]"
     ]
    },
    {
     "name": "stdout",
     "output_type": "stream",
     "text": [
      "[MoviePy] Done.\n",
      "[MoviePy] Writing video ../data/videos/split/bottom_30.mp4\n"
     ]
    },
    {
     "name": "stderr",
     "output_type": "stream",
     "text": [
      "\n",
      "100%|██████████| 142/142 [00:02<00:00, 70.44it/s]\n"
     ]
    },
    {
     "name": "stdout",
     "output_type": "stream",
     "text": [
      "[MoviePy] Done.\n",
      "[MoviePy] >>>> Video ready: ../data/videos/split/bottom_30.mp4 \n",
      "\n"
     ]
    },
    {
     "ename": "TypeError",
     "evalue": "cannot concatenate 'str' and 'int' objects",
     "output_type": "error",
     "traceback": [
      "\u001b[0;31m---------------------------------------------------------------------------\u001b[0m",
      "\u001b[0;31mTypeError\u001b[0m                                 Traceback (most recent call last)",
      "\u001b[0;32m<ipython-input-17-954b819baa7f>\u001b[0m in \u001b[0;36m<module>\u001b[0;34m()\u001b[0m\n\u001b[1;32m     35\u001b[0m     \u001b[0;32mif\u001b[0m \u001b[0midx\u001b[0m \u001b[0;34m==\u001b[0m \u001b[0mlen\u001b[0m\u001b[0;34m(\u001b[0m\u001b[0mresults\u001b[0m\u001b[0;34m)\u001b[0m \u001b[0;34m-\u001b[0m \u001b[0;36m1\u001b[0m\u001b[0;34m:\u001b[0m\u001b[0;34m\u001b[0m\u001b[0m\n\u001b[1;32m     36\u001b[0m         \u001b[0mend_time\u001b[0m   \u001b[0;34m=\u001b[0m \u001b[0mresults\u001b[0m\u001b[0;34m[\u001b[0m\u001b[0midx\u001b[0m\u001b[0;34m]\u001b[0m\u001b[0;34m[\u001b[0m\u001b[0;36m0\u001b[0m\u001b[0;34m]\u001b[0m\u001b[0;34m\u001b[0m\u001b[0m\n\u001b[0;32m---> 37\u001b[0;31m         \u001b[0msplit_video\u001b[0m\u001b[0;34m(\u001b[0m\u001b[0mstart_time\u001b[0m\u001b[0;34m,\u001b[0m \u001b[0mend_time\u001b[0m\u001b[0;34m,\u001b[0m \u001b[0mcategory\u001b[0m\u001b[0;34m)\u001b[0m\u001b[0;34m\u001b[0m\u001b[0m\n\u001b[0m",
      "\u001b[0;32m<ipython-input-16-072d29fc66a1>\u001b[0m in \u001b[0;36msplit_video\u001b[0;34m(start, end, zone)\u001b[0m\n\u001b[1;32m      1\u001b[0m \u001b[0;32mdef\u001b[0m \u001b[0msplit_video\u001b[0m\u001b[0;34m(\u001b[0m\u001b[0mstart\u001b[0m\u001b[0;34m,\u001b[0m \u001b[0mend\u001b[0m\u001b[0;34m,\u001b[0m \u001b[0mzone\u001b[0m\u001b[0;34m)\u001b[0m\u001b[0;34m:\u001b[0m\u001b[0;34m\u001b[0m\u001b[0m\n\u001b[0;32m----> 2\u001b[0;31m     \u001b[0mstart\u001b[0m \u001b[0;34m=\u001b[0m \u001b[0;34m(\u001b[0m\u001b[0mstart\u001b[0m \u001b[0;34m+\u001b[0m \u001b[0;36m190420\u001b[0m\u001b[0;34m)\u001b[0m\u001b[0;34m/\u001b[0m\u001b[0;36m1000\u001b[0m\u001b[0;34m\u001b[0m\u001b[0m\n\u001b[0m\u001b[1;32m      3\u001b[0m     \u001b[0mend\u001b[0m   \u001b[0;34m=\u001b[0m \u001b[0;34m(\u001b[0m\u001b[0mend\u001b[0m \u001b[0;34m+\u001b[0m \u001b[0;36m190420\u001b[0m\u001b[0;34m)\u001b[0m\u001b[0;34m/\u001b[0m\u001b[0;36m1000\u001b[0m\u001b[0;34m\u001b[0m\u001b[0m\n\u001b[1;32m      4\u001b[0m     \u001b[0;32mprint\u001b[0m\u001b[0;34m(\u001b[0m\u001b[0mstart\u001b[0m\u001b[0;34m,\u001b[0m \u001b[0mend\u001b[0m\u001b[0;34m)\u001b[0m\u001b[0;34m\u001b[0m\u001b[0m\n\u001b[1;32m      5\u001b[0m     \u001b[0mvideo\u001b[0m \u001b[0;34m=\u001b[0m \u001b[0mVideoFileClip\u001b[0m\u001b[0;34m(\u001b[0m\u001b[0;34m\"../data/videos/lazare.mp4\"\u001b[0m\u001b[0;34m)\u001b[0m\u001b[0;34m.\u001b[0m\u001b[0msubclip\u001b[0m\u001b[0;34m(\u001b[0m\u001b[0mstart\u001b[0m\u001b[0;34m,\u001b[0m \u001b[0mend\u001b[0m\u001b[0;34m)\u001b[0m\u001b[0;34m\u001b[0m\u001b[0m\n",
      "\u001b[0;31mTypeError\u001b[0m: cannot concatenate 'str' and 'int' objects"
     ]
    }
   ],
   "source": [
    "conn_string = \"host='localhost' dbname='indoor_position' user='postgres' password='tiancai' port='5432'\"\n",
    "conn = psycopg2.connect(conn_string)\n",
    "cur = conn.cursor()\n",
    "query = '''select time_abs, category from gare_st_lazare.images order by time_abs asc'''\n",
    "cur.execute(query)\n",
    "results = cur.fetchall()\n",
    "conn.commit()\n",
    "\n",
    "start_time = 0\n",
    "end_time   = 0\n",
    "category   = ''\n",
    "\n",
    "for idx, item in enumerate(results):\n",
    "    if idx == 0:\n",
    "        start_time = item[0]\n",
    "        category   = item[1]\n",
    "        continue\n",
    "    if results[idx][1] != results[idx - 1][1]:\n",
    "        end_time   = results[idx - 1][0]\n",
    "        \n",
    "        query = '''select time_relative from %s.%s where time_abs = '%s' ''' % (schema, frame_list_tablename, start_time)\n",
    "        cur.execute(query)\n",
    "        start_time = cur.fetchone()[0]\n",
    "        conn.commit()\n",
    "        \n",
    "        query = '''select time_relative from %s.%s where time_abs = '%s' ''' % (schema, frame_list_tablename, end_time)\n",
    "        cur.execute(query)\n",
    "        end_time = cur.fetchone()[0]\n",
    "        conn.commit()\n",
    "        \n",
    "        print(start_time, end_time, category)\n",
    "        split_video(start_time, end_time, category)\n",
    "        category   = results[idx + 1][1]\n",
    "        start_time = results[idx + 1][0]\n",
    "    if idx == len(results) - 1:\n",
    "        end_time   = results[idx][0]\n",
    "        split_video(start_time, end_time, category)"
   ]
  },
  {
   "cell_type": "code",
   "execution_count": null,
   "metadata": {},
   "outputs": [],
   "source": []
  }
 ],
 "metadata": {
  "kernelspec": {
   "display_name": "conda_python_3",
   "language": "python",
   "name": "python3"
  },
  "language_info": {
   "codemirror_mode": {
    "name": "ipython",
    "version": 2
   },
   "file_extension": ".py",
   "mimetype": "text/x-python",
   "name": "python",
   "nbconvert_exporter": "python",
   "pygments_lexer": "ipython2",
   "version": "2.7.14"
  }
 },
 "nbformat": 4,
 "nbformat_minor": 2
}
