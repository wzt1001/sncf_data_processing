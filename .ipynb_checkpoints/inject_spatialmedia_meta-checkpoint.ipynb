{
 "cells": [
  {
   "cell_type": "code",
   "execution_count": 10,
   "metadata": {},
   "outputs": [],
   "source": [
    "import psycopg2\n",
    "from moviepy.editor import *\n",
    "import os\n",
    "from subprocess import call"
   ]
  },
  {
   "cell_type": "code",
   "execution_count": 14,
   "metadata": {
    "scrolled": true
   },
   "outputs": [
    {
     "name": "stdout",
     "output_type": "stream",
     "text": [
      "python2 /usr/local/lib/python2.7/dist-packages/spatialmedia/__main__.py -i ../data/videos/split/top_22.mp4 ../data/sncf/videos/split_meta/top_22.mp4\n"
     ]
    },
    {
     "ename": "OSError",
     "evalue": "[Errno 2] No such file or directory",
     "output_type": "error",
     "traceback": [
      "\u001b[0;31m---------------------------------------------------------------------------\u001b[0m",
      "\u001b[0;31mOSError\u001b[0m                                   Traceback (most recent call last)",
      "\u001b[0;32m<ipython-input-14-fcc21a4b9ca1>\u001b[0m in \u001b[0;36m<module>\u001b[0;34m()\u001b[0m\n\u001b[1;32m      5\u001b[0m \u001b[0;32mfor\u001b[0m \u001b[0mfilename\u001b[0m \u001b[0;32min\u001b[0m \u001b[0mfiles\u001b[0m\u001b[0;34m:\u001b[0m\u001b[0;34m\u001b[0m\u001b[0m\n\u001b[1;32m      6\u001b[0m     \u001b[0;32mprint\u001b[0m\u001b[0;34m(\u001b[0m\u001b[0;34m'python2 /usr/local/lib/python2.7/dist-packages/spatialmedia/__main__.py -i ../data/videos/split/%s ../data/sncf/videos/split_meta/%s'\u001b[0m \u001b[0;34m%\u001b[0m \u001b[0;34m(\u001b[0m\u001b[0mfilename\u001b[0m\u001b[0;34m,\u001b[0m \u001b[0mfilename\u001b[0m\u001b[0;34m)\u001b[0m\u001b[0;34m)\u001b[0m\u001b[0;34m\u001b[0m\u001b[0m\n\u001b[0;32m----> 7\u001b[0;31m     \u001b[0mcall\u001b[0m\u001b[0;34m(\u001b[0m\u001b[0;34m'python2 /usr/local/lib/python2.7/dist-packages/spatialmedia/__main__.py -i ../data/videos/split/%s ../data/sncf/videos/split_meta/%s'\u001b[0m \u001b[0;34m%\u001b[0m \u001b[0;34m(\u001b[0m\u001b[0mfilename\u001b[0m\u001b[0;34m,\u001b[0m \u001b[0mfilename\u001b[0m\u001b[0;34m)\u001b[0m\u001b[0;34m)\u001b[0m\u001b[0;34m\u001b[0m\u001b[0m\n\u001b[0m\u001b[1;32m      8\u001b[0m \u001b[0;31m#     os.system('python2 /usr/local/lib/python2.7/dist-packages/spatialmedia/__main__.py -i %s ../split_meta/%s' % (filename, filename))\u001b[0m\u001b[0;34m\u001b[0m\u001b[0;34m\u001b[0m\u001b[0m\n",
      "\u001b[0;32m/home/ztwang/anaconda3/envs/python3/lib/python2.7/subprocess.pyc\u001b[0m in \u001b[0;36mcall\u001b[0;34m(*popenargs, **kwargs)\u001b[0m\n\u001b[1;32m    166\u001b[0m     \u001b[0mretcode\u001b[0m \u001b[0;34m=\u001b[0m \u001b[0mcall\u001b[0m\u001b[0;34m(\u001b[0m\u001b[0;34m[\u001b[0m\u001b[0;34m\"ls\"\u001b[0m\u001b[0;34m,\u001b[0m \u001b[0;34m\"-l\"\u001b[0m\u001b[0;34m]\u001b[0m\u001b[0;34m)\u001b[0m\u001b[0;34m\u001b[0m\u001b[0m\n\u001b[1;32m    167\u001b[0m     \"\"\"\n\u001b[0;32m--> 168\u001b[0;31m     \u001b[0;32mreturn\u001b[0m \u001b[0mPopen\u001b[0m\u001b[0;34m(\u001b[0m\u001b[0;34m*\u001b[0m\u001b[0mpopenargs\u001b[0m\u001b[0;34m,\u001b[0m \u001b[0;34m**\u001b[0m\u001b[0mkwargs\u001b[0m\u001b[0;34m)\u001b[0m\u001b[0;34m.\u001b[0m\u001b[0mwait\u001b[0m\u001b[0;34m(\u001b[0m\u001b[0;34m)\u001b[0m\u001b[0;34m\u001b[0m\u001b[0m\n\u001b[0m\u001b[1;32m    169\u001b[0m \u001b[0;34m\u001b[0m\u001b[0m\n\u001b[1;32m    170\u001b[0m \u001b[0;34m\u001b[0m\u001b[0m\n",
      "\u001b[0;32m/home/ztwang/anaconda3/envs/python3/lib/python2.7/subprocess.pyc\u001b[0m in \u001b[0;36m__init__\u001b[0;34m(self, args, bufsize, executable, stdin, stdout, stderr, preexec_fn, close_fds, shell, cwd, env, universal_newlines, startupinfo, creationflags)\u001b[0m\n\u001b[1;32m    388\u001b[0m                                 \u001b[0mp2cread\u001b[0m\u001b[0;34m,\u001b[0m \u001b[0mp2cwrite\u001b[0m\u001b[0;34m,\u001b[0m\u001b[0;34m\u001b[0m\u001b[0m\n\u001b[1;32m    389\u001b[0m                                 \u001b[0mc2pread\u001b[0m\u001b[0;34m,\u001b[0m \u001b[0mc2pwrite\u001b[0m\u001b[0;34m,\u001b[0m\u001b[0;34m\u001b[0m\u001b[0m\n\u001b[0;32m--> 390\u001b[0;31m                                 errread, errwrite)\n\u001b[0m\u001b[1;32m    391\u001b[0m         \u001b[0;32mexcept\u001b[0m \u001b[0mException\u001b[0m\u001b[0;34m:\u001b[0m\u001b[0;34m\u001b[0m\u001b[0m\n\u001b[1;32m    392\u001b[0m             \u001b[0;31m# Preserve original exception in case os.close raises.\u001b[0m\u001b[0;34m\u001b[0m\u001b[0;34m\u001b[0m\u001b[0m\n",
      "\u001b[0;32m/home/ztwang/anaconda3/envs/python3/lib/python2.7/subprocess.pyc\u001b[0m in \u001b[0;36m_execute_child\u001b[0;34m(self, args, executable, preexec_fn, close_fds, cwd, env, universal_newlines, startupinfo, creationflags, shell, to_close, p2cread, p2cwrite, c2pread, c2pwrite, errread, errwrite)\u001b[0m\n\u001b[1;32m   1023\u001b[0m                         \u001b[0;32mraise\u001b[0m\u001b[0;34m\u001b[0m\u001b[0m\n\u001b[1;32m   1024\u001b[0m                 \u001b[0mchild_exception\u001b[0m \u001b[0;34m=\u001b[0m \u001b[0mpickle\u001b[0m\u001b[0;34m.\u001b[0m\u001b[0mloads\u001b[0m\u001b[0;34m(\u001b[0m\u001b[0mdata\u001b[0m\u001b[0;34m)\u001b[0m\u001b[0;34m\u001b[0m\u001b[0m\n\u001b[0;32m-> 1025\u001b[0;31m                 \u001b[0;32mraise\u001b[0m \u001b[0mchild_exception\u001b[0m\u001b[0;34m\u001b[0m\u001b[0m\n\u001b[0m\u001b[1;32m   1026\u001b[0m \u001b[0;34m\u001b[0m\u001b[0m\n\u001b[1;32m   1027\u001b[0m \u001b[0;34m\u001b[0m\u001b[0m\n",
      "\u001b[0;31mOSError\u001b[0m: [Errno 2] No such file or directory"
     ]
    }
   ],
   "source": [
    "from os import listdir\n",
    "from os.path import isfile, join\n",
    "output = \"../data/videos/split\"\n",
    "files = [f for f in listdir(output) if isfile(join(output, f))]\n",
    "for filename in files:\n",
    "    print('python2 /usr/local/lib/python2.7/dist-packages/spatialmedia/__main__.py -i ../data/videos/split/%s ../data/videos/split_meta/%s' % (filename, filename))    \n",
    "    call('python2 /usr/local/lib/python2.7/dist-packages/spatialmedia/__main__.py -i ../data/videos/split/%s ../data/videos/split_meta/%s' % (filename, filename))\n",
    "#     os.system('python2 /usr/local/lib/python2.7/dist-packages/spatialmedia/__main__.py -i %s ../split_meta/%s' % (filename, filename))\n"
   ]
  },
  {
   "cell_type": "code",
   "execution_count": null,
   "metadata": {
    "scrolled": true
   },
   "outputs": [
    {
     "name": "stdout",
     "output_type": "stream",
     "text": [
      "(100.96, 47605.37, 'top_0')\n",
      "(190.52096, 238.02537)\n",
      "[MoviePy] >>>> Building video ../data/videos/split/top_0.mp4\n",
      "[MoviePy] Writing audio in top_0TEMP_MPY_wvf_snd.mp3\n"
     ]
    },
    {
     "name": "stderr",
     "output_type": "stream",
     "text": [
      "100%|██████████| 1048/1048 [00:00<00:00, 1259.54it/s]"
     ]
    },
    {
     "name": "stdout",
     "output_type": "stream",
     "text": [
      "[MoviePy] Done.\n",
      "[MoviePy] Writing video ../data/videos/split/top_0.mp4\n"
     ]
    },
    {
     "name": "stderr",
     "output_type": "stream",
     "text": [
      "\n",
      "100%|██████████| 1188/1188 [00:17<00:00, 66.99it/s]\n"
     ]
    },
    {
     "name": "stdout",
     "output_type": "stream",
     "text": [
      "[MoviePy] Done.\n",
      "[MoviePy] >>>> Video ready: ../data/videos/split/top_0.mp4 \n",
      "\n",
      "(62935.83, 74938.04, 'top_1')\n",
      "(253.35583000000003, 265.35803999999996)\n",
      "[MoviePy] >>>> Building video ../data/videos/split/top_1.mp4\n",
      "[MoviePy] Writing audio in top_1TEMP_MPY_wvf_snd.mp3\n"
     ]
    },
    {
     "name": "stderr",
     "output_type": "stream",
     "text": [
      "100%|██████████| 265/265 [00:00<00:00, 843.53it/s]"
     ]
    },
    {
     "name": "stdout",
     "output_type": "stream",
     "text": [
      "[MoviePy] Done.\n",
      "[MoviePy] Writing video ../data/videos/split/top_1.mp4\n"
     ]
    },
    {
     "name": "stderr",
     "output_type": "stream",
     "text": [
      "\n",
      "100%|██████████| 301/301 [00:04<00:00, 65.31it/s] \n"
     ]
    },
    {
     "name": "stdout",
     "output_type": "stream",
     "text": [
      "[MoviePy] Done.\n",
      "[MoviePy] >>>> Video ready: ../data/videos/split/top_1.mp4 \n",
      "\n",
      "(76450.88, 93496.03, 'top_2')\n",
      "(266.87088, 283.91603000000003)\n",
      "[MoviePy] >>>> Building video ../data/videos/split/top_2.mp4\n",
      "[MoviePy] Writing audio in top_2TEMP_MPY_wvf_snd.mp3\n"
     ]
    },
    {
     "name": "stderr",
     "output_type": "stream",
     "text": [
      "100%|██████████| 376/376 [00:00<00:00, 907.75it/s] \n"
     ]
    },
    {
     "name": "stdout",
     "output_type": "stream",
     "text": [
      "[MoviePy] Done.\n",
      "[MoviePy] Writing video ../data/videos/split/top_2.mp4\n"
     ]
    },
    {
     "name": "stderr",
     "output_type": "stream",
     "text": [
      "100%|██████████| 427/427 [00:07<00:00, 58.49it/s]\n"
     ]
    },
    {
     "name": "stdout",
     "output_type": "stream",
     "text": [
      "[MoviePy] Done.\n",
      "[MoviePy] >>>> Video ready: ../data/videos/split/top_2.mp4 \n",
      "\n",
      "(99951.0, 134345.34, 'top_3')\n",
      "(290.371, 324.76534)\n",
      "[MoviePy] >>>> Building video ../data/videos/split/top_3.mp4\n",
      "[MoviePy] Writing audio in top_3TEMP_MPY_wvf_snd.mp3\n"
     ]
    },
    {
     "name": "stderr",
     "output_type": "stream",
     "text": [
      "100%|██████████| 759/759 [00:00<00:00, 1141.15it/s]"
     ]
    },
    {
     "name": "stdout",
     "output_type": "stream",
     "text": [
      "[MoviePy] Done.\n",
      "[MoviePy] Writing video ../data/videos/split/top_3.mp4\n"
     ]
    },
    {
     "name": "stderr",
     "output_type": "stream",
     "text": [
      "\n",
      "100%|██████████| 860/860 [00:14<00:00, 57.74it/s]\n"
     ]
    },
    {
     "name": "stdout",
     "output_type": "stream",
     "text": [
      "[MoviePy] Done.\n",
      "[MoviePy] >>>> Video ready: ../data/videos/split/top_3.mp4 \n",
      "\n",
      "(140396.8, 179028.06, 'top_4')\n",
      "(330.8168, 369.44806)\n",
      "[MoviePy] >>>> Building video ../data/videos/split/top_4.mp4\n",
      "[MoviePy] Writing audio in top_4TEMP_MPY_wvf_snd.mp3\n"
     ]
    },
    {
     "name": "stderr",
     "output_type": "stream",
     "text": [
      "100%|██████████| 852/852 [00:00<00:00, 1190.64it/s]"
     ]
    },
    {
     "name": "stdout",
     "output_type": "stream",
     "text": [
      "[MoviePy] Done.\n",
      "[MoviePy] Writing video ../data/videos/split/top_4.mp4\n"
     ]
    },
    {
     "name": "stderr",
     "output_type": "stream",
     "text": [
      "\n",
      "100%|██████████| 966/966 [00:18<00:00, 51.48it/s]\n"
     ]
    },
    {
     "name": "stdout",
     "output_type": "stream",
     "text": [
      "[MoviePy] Done.\n",
      "[MoviePy] >>>> Video ready: ../data/videos/split/top_4.mp4 \n",
      "\n",
      "(182763.47, 219175.36, 'top_5')\n",
      "(373.18347, 409.59535999999997)\n",
      "[MoviePy] >>>> Building video ../data/videos/split/top_5.mp4\n",
      "[MoviePy] Writing audio in top_5TEMP_MPY_wvf_snd.mp3\n"
     ]
    },
    {
     "name": "stderr",
     "output_type": "stream",
     "text": [
      "100%|██████████| 803/803 [00:00<00:00, 982.71it/s]"
     ]
    },
    {
     "name": "stdout",
     "output_type": "stream",
     "text": [
      "[MoviePy] Done.\n",
      "[MoviePy] Writing video ../data/videos/split/top_5.mp4\n"
     ]
    },
    {
     "name": "stderr",
     "output_type": "stream",
     "text": [
      "\n",
      "100%|██████████| 911/911 [00:18<00:00, 49.05it/s]\n"
     ]
    },
    {
     "name": "stdout",
     "output_type": "stream",
     "text": [
      "[MoviePy] Done.\n",
      "[MoviePy] >>>> Video ready: ../data/videos/split/top_5.mp4 \n",
      "\n",
      "(224016.72, 259823.17, 'top_6')\n",
      "(414.43672, 450.24317)\n",
      "[MoviePy] >>>> Building video ../data/videos/split/top_6.mp4\n",
      "[MoviePy] Writing audio in top_6TEMP_MPY_wvf_snd.mp3\n"
     ]
    },
    {
     "name": "stderr",
     "output_type": "stream",
     "text": [
      "100%|██████████| 790/790 [00:00<00:00, 967.16it/s] "
     ]
    },
    {
     "name": "stdout",
     "output_type": "stream",
     "text": [
      "[MoviePy] Done.\n",
      "[MoviePy] Writing video ../data/videos/split/top_6.mp4\n"
     ]
    },
    {
     "name": "stderr",
     "output_type": "stream",
     "text": [
      "\n",
      "100%|██████████| 896/896 [00:15<00:00, 57.92it/s]\n"
     ]
    },
    {
     "name": "stdout",
     "output_type": "stream",
     "text": [
      "[MoviePy] Done.\n",
      "[MoviePy] >>>> Video ready: ../data/videos/split/top_6.mp4 \n",
      "\n",
      "(263353.27, 295426.26, 'top_7')\n",
      "(453.77327, 485.84626000000003)\n",
      "[MoviePy] >>>> Building video ../data/videos/split/top_7.mp4\n",
      "[MoviePy] Writing audio in top_7TEMP_MPY_wvf_snd.mp3\n"
     ]
    },
    {
     "name": "stderr",
     "output_type": "stream",
     "text": [
      "100%|██████████| 708/708 [00:00<00:00, 989.80it/s] "
     ]
    },
    {
     "name": "stdout",
     "output_type": "stream",
     "text": [
      "[MoviePy] Done.\n",
      "[MoviePy] Writing video ../data/videos/split/top_7.mp4\n"
     ]
    },
    {
     "name": "stderr",
     "output_type": "stream",
     "text": [
      "\n",
      "100%|██████████| 802/802 [00:13<00:00, 57.77it/s]\n"
     ]
    },
    {
     "name": "stdout",
     "output_type": "stream",
     "text": [
      "[MoviePy] Done.\n",
      "[MoviePy] >>>> Video ready: ../data/videos/split/top_7.mp4 \n",
      "\n",
      "(302486.34, 328608.75, 'top_8')\n",
      "(492.90634, 519.02875)\n",
      "[MoviePy] >>>> Building video ../data/videos/split/top_8.mp4\n",
      "[MoviePy] Writing audio in top_8TEMP_MPY_wvf_snd.mp3\n"
     ]
    },
    {
     "name": "stderr",
     "output_type": "stream",
     "text": [
      "100%|██████████| 576/576 [00:00<00:00, 865.14it/s]"
     ]
    },
    {
     "name": "stdout",
     "output_type": "stream",
     "text": [
      "[MoviePy] Done.\n",
      "[MoviePy] Writing video ../data/videos/split/top_8.mp4\n"
     ]
    },
    {
     "name": "stderr",
     "output_type": "stream",
     "text": [
      "\n",
      "100%|██████████| 654/654 [00:13<00:00, 48.42it/s]\n"
     ]
    },
    {
     "name": "stdout",
     "output_type": "stream",
     "text": [
      "[MoviePy] Done.\n",
      "[MoviePy] >>>> Video ready: ../data/videos/split/top_8.mp4 \n",
      "\n",
      "(334357.62, 391746.17, 'top_9')\n",
      "(524.77762, 582.16617)\n",
      "[MoviePy] >>>> Building video ../data/videos/split/top_9.mp4\n",
      "[MoviePy] Writing audio in top_9TEMP_MPY_wvf_snd.mp3\n"
     ]
    },
    {
     "name": "stderr",
     "output_type": "stream",
     "text": [
      "100%|██████████| 1266/1266 [00:01<00:00, 1246.15it/s]"
     ]
    },
    {
     "name": "stdout",
     "output_type": "stream",
     "text": [
      "[MoviePy] Done.\n",
      "[MoviePy] Writing video ../data/videos/split/top_9.mp4\n"
     ]
    },
    {
     "name": "stderr",
     "output_type": "stream",
     "text": [
      "\n",
      "100%|██████████| 1435/1435 [00:25<00:00, 55.43it/s]\n"
     ]
    },
    {
     "name": "stdout",
     "output_type": "stream",
     "text": [
      "[MoviePy] Done.\n",
      "[MoviePy] >>>> Video ready: ../data/videos/split/top_9.mp4 \n",
      "\n",
      "(398907.18, 439855.62, 'top_10')\n",
      "(589.3271799999999, 630.27562)\n",
      "[MoviePy] >>>> Building video ../data/videos/split/top_10.mp4\n",
      "[MoviePy] Writing audio in top_10TEMP_MPY_wvf_snd.mp3\n"
     ]
    },
    {
     "name": "stderr",
     "output_type": "stream",
     "text": [
      "100%|██████████| 903/903 [00:00<00:00, 1179.63it/s]"
     ]
    },
    {
     "name": "stdout",
     "output_type": "stream",
     "text": [
      "[MoviePy] Done.\n",
      "[MoviePy] Writing video ../data/videos/split/top_10.mp4\n"
     ]
    },
    {
     "name": "stderr",
     "output_type": "stream",
     "text": [
      "\n",
      "100%|██████████| 1024/1024 [00:21<00:00, 48.10it/s]\n"
     ]
    },
    {
     "name": "stdout",
     "output_type": "stream",
     "text": [
      "[MoviePy] Done.\n",
      "[MoviePy] >>>> Video ready: ../data/videos/split/top_10.mp4 \n",
      "\n",
      "(445100.36, 483124.04, 'top_11')\n",
      "(635.52036, 673.54404)\n",
      "[MoviePy] >>>> Building video ../data/videos/split/top_11.mp4\n",
      "[MoviePy] Writing audio in top_11TEMP_MPY_wvf_snd.mp3\n"
     ]
    },
    {
     "name": "stderr",
     "output_type": "stream",
     "text": [
      "100%|██████████| 839/839 [00:00<00:00, 1026.46it/s]"
     ]
    },
    {
     "name": "stdout",
     "output_type": "stream",
     "text": [
      "[MoviePy] Done.\n"
     ]
    },
    {
     "name": "stderr",
     "output_type": "stream",
     "text": [
      "\n"
     ]
    },
    {
     "name": "stdout",
     "output_type": "stream",
     "text": [
      "[MoviePy] Writing video ../data/videos/split/top_11.mp4\n"
     ]
    },
    {
     "name": "stderr",
     "output_type": "stream",
     "text": [
      "100%|██████████| 951/951 [00:16<00:00, 57.98it/s]\n"
     ]
    },
    {
     "name": "stdout",
     "output_type": "stream",
     "text": [
      "[MoviePy] Done.\n",
      "[MoviePy] >>>> Video ready: ../data/videos/split/top_11.mp4 \n",
      "\n",
      "(487561.76, 519840.24, 'top_12')\n",
      "(677.98176, 710.26024)\n",
      "[MoviePy] >>>> Building video ../data/videos/split/top_12.mp4\n",
      "[MoviePy] Writing audio in top_12TEMP_MPY_wvf_snd.mp3\n"
     ]
    },
    {
     "name": "stderr",
     "output_type": "stream",
     "text": [
      "100%|██████████| 712/712 [00:00<00:00, 1069.35it/s]"
     ]
    },
    {
     "name": "stdout",
     "output_type": "stream",
     "text": [
      "[MoviePy] Done.\n",
      "[MoviePy] Writing video ../data/videos/split/top_12.mp4\n"
     ]
    },
    {
     "name": "stderr",
     "output_type": "stream",
     "text": [
      "\n",
      "100%|██████████| 807/807 [00:16<00:00, 49.94it/s]\n"
     ]
    },
    {
     "name": "stdout",
     "output_type": "stream",
     "text": [
      "[MoviePy] Done.\n",
      "[MoviePy] >>>> Video ready: ../data/videos/split/top_12.mp4 \n",
      "\n",
      "(524277.97, 551913.26, 'top_13')\n",
      "(714.6979699999999, 742.33326)\n",
      "[MoviePy] >>>> Building video ../data/videos/split/top_13.mp4\n",
      "[MoviePy] Writing audio in top_13TEMP_MPY_wvf_snd.mp3\n"
     ]
    },
    {
     "name": "stderr",
     "output_type": "stream",
     "text": [
      "100%|██████████| 610/610 [00:00<00:00, 990.13it/s]\n"
     ]
    },
    {
     "name": "stdout",
     "output_type": "stream",
     "text": [
      "[MoviePy] Done.\n",
      "[MoviePy] Writing video ../data/videos/split/top_13.mp4\n"
     ]
    },
    {
     "name": "stderr",
     "output_type": "stream",
     "text": [
      "100%|██████████| 691/691 [00:12<00:00, 53.46it/s]\n"
     ]
    },
    {
     "name": "stdout",
     "output_type": "stream",
     "text": [
      "[MoviePy] Done.\n",
      "[MoviePy] >>>> Video ready: ../data/videos/split/top_13.mp4 \n",
      "\n",
      "(554636.43, 584494.71, 'top_14')\n",
      "(745.0564300000001, 774.91471)\n",
      "[MoviePy] >>>> Building video ../data/videos/split/top_14.mp4\n",
      "[MoviePy] Writing audio in top_14TEMP_MPY_wvf_snd.mp3\n"
     ]
    },
    {
     "name": "stderr",
     "output_type": "stream",
     "text": [
      "100%|██████████| 659/659 [00:00<00:00, 859.07it/s]"
     ]
    },
    {
     "name": "stdout",
     "output_type": "stream",
     "text": [
      "[MoviePy] Done.\n",
      "[MoviePy] Writing video ../data/videos/split/top_14.mp4\n"
     ]
    },
    {
     "name": "stderr",
     "output_type": "stream",
     "text": [
      "\n",
      "100%|██████████| 747/747 [00:13<00:00, 53.37it/s]\n"
     ]
    },
    {
     "name": "stdout",
     "output_type": "stream",
     "text": [
      "[MoviePy] Done.\n",
      "[MoviePy] >>>> Video ready: ../data/videos/split/top_14.mp4 \n",
      "\n",
      "(588831.67, 615057.16, 'top_15')\n",
      "(779.25167, 805.47716)\n",
      "[MoviePy] >>>> Building video ../data/videos/split/top_15.mp4\n",
      "[MoviePy] Writing audio in top_15TEMP_MPY_wvf_snd.mp3\n"
     ]
    },
    {
     "name": "stderr",
     "output_type": "stream",
     "text": [
      "100%|██████████| 579/579 [00:00<00:00, 869.01it/s]"
     ]
    },
    {
     "name": "stdout",
     "output_type": "stream",
     "text": [
      "[MoviePy] Done.\n",
      "[MoviePy] Writing video ../data/videos/split/top_15.mp4\n"
     ]
    },
    {
     "name": "stderr",
     "output_type": "stream",
     "text": [
      "\n",
      "100%|██████████| 656/656 [00:11<00:00, 57.68it/s]\n"
     ]
    },
    {
     "name": "stdout",
     "output_type": "stream",
     "text": [
      "[MoviePy] Done.\n",
      "[MoviePy] >>>> Video ready: ../data/videos/split/top_15.mp4 \n",
      "\n",
      "(617074.24, 694735.3, 'top_1')\n",
      "(807.49424, 885.1553)\n",
      "[MoviePy] >>>> Building video ../data/videos/split/top_1.mp4\n",
      "[MoviePy] Writing audio in top_1TEMP_MPY_wvf_snd.mp3\n"
     ]
    },
    {
     "name": "stderr",
     "output_type": "stream",
     "text": [
      "100%|██████████| 1713/1713 [00:01<00:00, 1092.28it/s]"
     ]
    },
    {
     "name": "stdout",
     "output_type": "stream",
     "text": [
      "[MoviePy] Done.\n",
      "[MoviePy] Writing video ../data/videos/split/top_1.mp4\n"
     ]
    },
    {
     "name": "stderr",
     "output_type": "stream",
     "text": [
      "\n",
      " 27%|██▋       | 532/1942 [00:09<00:24, 57.70it/s]"
     ]
    }
   ],
   "source": [
    "# conn_string = \"host='localhost' dbname='indoor_position' user='postgres' password='tiancai' port='5432'\"\n",
    "# conn = psycopg2.connect(conn_string)\n",
    "# cur = conn.cursor()\n",
    "# query = '''select time_abs, category from gare_st_lazare.images order by time_abs asc'''\n",
    "# cur.execute(query)\n",
    "# results = cur.fetchall()\n",
    "# conn.commit()\n",
    "\n",
    "# start_time = 0\n",
    "# end_time   = 0\n",
    "# category   = ''\n",
    "\n",
    "# for idx, item in enumerate(results):\n",
    "#     if idx == 0:\n",
    "#         start_time = item[0]\n",
    "#         category   = item[1]\n",
    "#         continue\n",
    "#     if results[idx][1] != results[idx - 1][1]:\n",
    "#         end_time   = results[idx - 1][0]\n",
    "        \n",
    "#         query = '''select time_relative from gare_st_lazare.lazare_frame_list where time_abs = '%s' ''' % (start_time)\n",
    "#         cur.execute(query)\n",
    "#         start_time = cur.fetchone()[0]\n",
    "#         conn.commit()\n",
    "        \n",
    "#         query = '''select time_relative from gare_st_lazare.lazare_frame_list where time_abs = '%s' ''' % (end_time)\n",
    "#         cur.execute(query)\n",
    "#         end_time = cur.fetchone()[0]\n",
    "#         conn.commit()\n",
    "        \n",
    "#         print(start_time, end_time, category)\n",
    "#         split_video(start_time, end_time, category)\n",
    "#         category   = results[idx + 1][1]\n",
    "#         start_time = results[idx + 1][0]\n",
    "#     if idx == len(results) - 1:\n",
    "#         end_time   = results[idx][0]\n",
    "#         split_video(start_time, end_time, category)"
   ]
  },
  {
   "cell_type": "code",
   "execution_count": null,
   "metadata": {},
   "outputs": [],
   "source": []
  }
 ],
 "metadata": {
  "kernelspec": {
   "display_name": "conda_python_3",
   "language": "python",
   "name": "python3"
  },
  "language_info": {
   "codemirror_mode": {
    "name": "ipython",
    "version": 2
   },
   "file_extension": ".py",
   "mimetype": "text/x-python",
   "name": "python",
   "nbconvert_exporter": "python",
   "pygments_lexer": "ipython2",
   "version": "2.7.14"
  }
 },
 "nbformat": 4,
 "nbformat_minor": 2
}
