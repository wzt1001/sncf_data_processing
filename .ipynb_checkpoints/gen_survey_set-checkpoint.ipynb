{
 "cells": [
  {
   "cell_type": "code",
   "execution_count": 28,
   "metadata": {},
   "outputs": [],
   "source": [
    "import numpy as np\n",
    "import psycopg2\n",
    "import cv2\n",
    "import csv\n",
    "import PIL\n",
    "import os\n",
    "import random\n",
    "from PIL import Image\n",
    "import pickle\n",
    "from sklearn.utils import shuffle\n",
    "cv_table = 'cv_results_225'\n",
    "\n",
    "conn_string = \"host='localhost' dbname='indoor_position' user='postgres' password='tiancai' port='5432'\"\n",
    "conn = psycopg2.connect(conn_string)\n",
    "cur = conn.cursor()\n",
    "\n",
    "query = '''select category, pred1, img_id from gare_st_lazare.cv_results_225 where category = pred0 order by prob0 asc limit 500'''\n",
    "cur.execute(query)\n",
    "results1 = cur.fetchall()\n",
    "conn.commit()\n",
    "upload = []\n",
    "\n",
    "for result in results1:\n",
    "    query = '''select category, pred1, img_id from gare_st_lazare.cv_results_225 where category = '%s' order by random() limit 1''' % (result[1])\n",
    "    cur.execute(query)\n",
    "    result2 = cur.fetchone()\n",
    "    conn.commit()\n",
    "    \n",
    "    query = '''select category, pred1, img_id from gare_st_lazare.cv_results_225 where category = '%s' order by random() limit 1''' % (result[0])\n",
    "    cur.execute(query)\n",
    "    result3 = cur.fetchone()\n",
    "    conn.commit()\n",
    "    \n",
    "    query = '''select category, pred1, img_id from gare_st_lazare.cv_results_225 where category = '%s' order by random() limit 1''' % (result[0])\n",
    "    cur.execute(query)\n",
    "    result3 = cur.fetchone()\n",
    "    conn.commit()\n",
    "    \n",
    "    query = '''select category, pred1, img_id from gare_st_lazare.cv_results_225 where category != '%s' and category != '%s' order by random() limit 1''' % ([result[0], result2[0]) \n",
    "    cur.execute(query)\n",
    "    result4 = cur.fetchone()\n",
    "    conn.commit()\n",
    "    \n",
    "    upload.append([result[0], result[2], result3[2], result2[0], result2[2], result4[0], result4[2]])\n",
    "    \n",
    "for upload_item in upload:\n",
    "    query = '''insert into gare_st_lazare.survey_test_set values('%s', '%s', '%s', '%s', '%s', '%s', '%s', %s)''' %  (upload_item[0], \n",
    "                                upload_item[1], upload_item[2], upload_item[3], upload_item[4], upload_item[5], upload_item[6], 1)\n",
    "    cur.execute(query)\n",
    "    conn.commit()\n"
   ]
  },
  {
   "cell_type": "code",
   "execution_count": null,
   "metadata": {},
   "outputs": [],
   "source": []
  },
  {
   "cell_type": "code",
   "execution_count": null,
   "metadata": {},
   "outputs": [],
   "source": []
  }
 ],
 "metadata": {
  "kernelspec": {
   "display_name": "conda_python_3",
   "language": "python",
   "name": "python3"
  },
  "language_info": {
   "codemirror_mode": {
    "name": "ipython",
    "version": 2
   },
   "file_extension": ".py",
   "mimetype": "text/x-python",
   "name": "python",
   "nbconvert_exporter": "python",
   "pygments_lexer": "ipython2",
   "version": "2.7.14"
  }
 },
 "nbformat": 4,
 "nbformat_minor": 2
}
