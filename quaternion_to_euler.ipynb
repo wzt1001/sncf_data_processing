{
 "cells": [
  {
   "cell_type": "code",
   "execution_count": 8,
   "metadata": {},
   "outputs": [],
   "source": [
    "import numpy as np\n",
    "import psycopg2\n",
    "import cv2\n",
    "import csv\n",
    "import PIL\n",
    "import os\n",
    "import random\n",
    "from PIL import Image\n",
    "import pickle\n",
    "import math"
   ]
  },
  {
   "cell_type": "code",
   "execution_count": 9,
   "metadata": {},
   "outputs": [],
   "source": [
    "def quaternion_to_euler_angle(w, x, y, z):\n",
    "    ysqr = y * y\n",
    "    \n",
    "    t0 = +2.0 * (w * x + y * z)\n",
    "    t1 = +1.0 - 2.0 * (x * x + ysqr)\n",
    "    X = math.degrees(math.atan2(t0, t1))\n",
    "\n",
    "    t2 = +2.0 * (w * y - z * x)\n",
    "    t2 = +1.0 if t2 > +1.0 else t2\n",
    "    t2 = -1.0 if t2 < -1.0 else t2\n",
    "    Y = math.degrees(math.asin(t2))\n",
    "\n",
    "    t3 = +2.0 * (w * z + x * y)\n",
    "    t4 = +1.0 - 2.0 * (ysqr + z * z)\n",
    "    Z = math.degrees(math.atan2(t3, t4))\n",
    "\n",
    "    return X, Y, Z"
   ]
  },
  {
   "cell_type": "code",
   "execution_count": 10,
   "metadata": {},
   "outputs": [],
   "source": [
    "tables = ['lazare_bottom_floor_trajectory', 'lazare_top_floor_trajectory', 'lazare_second_floor_trajectory']"
   ]
  },
  {
   "cell_type": "code",
   "execution_count": 18,
   "metadata": {},
   "outputs": [],
   "source": [
    "for table in tables:\n",
    "    conn_string = \"host='localhost' dbname='indoor_position' user='postgres' password='tiancai' port='5432'\"\n",
    "    conn = psycopg2.connect(conn_string)\n",
    "    cur = conn.cursor()\n",
    "    query = '''select field_8, field_4, field_5, field_6, field_7 from gare_st_lazare.%s''' % table\n",
    "    cur.execute(query)\n",
    "    results = cur.fetchall()\n",
    "    conn.commit()\n",
    "\n",
    "    for item in results:\n",
    "        time  = item[0]\n",
    "        qua_x = float(item[1])\n",
    "        qua_y = float(item[2])\n",
    "        qua_z = float(item[3])\n",
    "        qua_w = float(item[4])\n",
    "        euler_x, euler_y, euler_z = quaternion_to_euler_angle(qua_w, qua_x, qua_y, qua_z)\n",
    "#         print(euler_x, euler_y, euler_z)\n",
    "        \n",
    "        query = '''update gare_st_lazare.lazare_frame_list set orientation = %s where time_abs = '%s'; ''' % (euler_z, time)\n",
    "        cur.execute(query)\n",
    "        \n",
    "    conn.commit()"
   ]
  },
  {
   "cell_type": "code",
   "execution_count": null,
   "metadata": {},
   "outputs": [],
   "source": []
  }
 ],
 "metadata": {
  "kernelspec": {
   "display_name": "conda_python_3",
   "language": "python",
   "name": "python3"
  },
  "language_info": {
   "codemirror_mode": {
    "name": "ipython",
    "version": 2
   },
   "file_extension": ".py",
   "mimetype": "text/x-python",
   "name": "python",
   "nbconvert_exporter": "python",
   "pygments_lexer": "ipython2",
   "version": "2.7.14"
  }
 },
 "nbformat": 4,
 "nbformat_minor": 2
}
