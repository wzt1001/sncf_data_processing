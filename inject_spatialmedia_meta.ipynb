{
 "cells": [
  {
   "cell_type": "code",
   "execution_count": 10,
   "metadata": {},
   "outputs": [],
   "source": [
    "import psycopg2\n",
    "from moviepy.editor import *\n",
    "import os\n",
    "from subprocess import call"
   ]
  },
  {
   "cell_type": "code",
   "execution_count": 16,
   "metadata": {
    "scrolled": true
   },
   "outputs": [
    {
     "name": "stdout",
     "output_type": "stream",
     "text": [
      "python2 /usr/local/lib/python2.7/dist-packages/spatialmedia/__main__.py -i ../data/videos/split/top_22.mp4 ../data/videos/split_meta/top_22.mp4\n",
      "python2 /usr/local/lib/python2.7/dist-packages/spatialmedia/__main__.py -i ../data/videos/split/top_33.mp4 ../data/videos/split_meta/top_33.mp4\n",
      "python2 /usr/local/lib/python2.7/dist-packages/spatialmedia/__main__.py -i ../data/videos/split/bottom_27.mp4 ../data/videos/split_meta/bottom_27.mp4\n",
      "python2 /usr/local/lib/python2.7/dist-packages/spatialmedia/__main__.py -i ../data/videos/split/bottom_28.mp4 ../data/videos/split_meta/bottom_28.mp4\n",
      "python2 /usr/local/lib/python2.7/dist-packages/spatialmedia/__main__.py -i ../data/videos/split/second_10.mp4 ../data/videos/split_meta/second_10.mp4\n",
      "python2 /usr/local/lib/python2.7/dist-packages/spatialmedia/__main__.py -i ../data/videos/split/top_0.mp4 ../data/videos/split_meta/top_0.mp4\n",
      "python2 /usr/local/lib/python2.7/dist-packages/spatialmedia/__main__.py -i ../data/videos/split/second_22.mp4 ../data/videos/split_meta/second_22.mp4\n",
      "python2 /usr/local/lib/python2.7/dist-packages/spatialmedia/__main__.py -i ../data/videos/split/bottom_29.mp4 ../data/videos/split_meta/bottom_29.mp4\n",
      "python2 /usr/local/lib/python2.7/dist-packages/spatialmedia/__main__.py -i ../data/videos/split/second_4.mp4 ../data/videos/split_meta/second_4.mp4\n",
      "python2 /usr/local/lib/python2.7/dist-packages/spatialmedia/__main__.py -i ../data/videos/split/bottom_7.mp4 ../data/videos/split_meta/bottom_7.mp4\n",
      "python2 /usr/local/lib/python2.7/dist-packages/spatialmedia/__main__.py -i ../data/videos/split/second_21.mp4 ../data/videos/split_meta/second_21.mp4\n",
      "python2 /usr/local/lib/python2.7/dist-packages/spatialmedia/__main__.py -i ../data/videos/split/second_2.mp4 ../data/videos/split_meta/second_2.mp4\n",
      "python2 /usr/local/lib/python2.7/dist-packages/spatialmedia/__main__.py -i ../data/videos/split/bottom_3.mp4 ../data/videos/split_meta/bottom_3.mp4\n",
      "python2 /usr/local/lib/python2.7/dist-packages/spatialmedia/__main__.py -i ../data/videos/split/top_26.mp4 ../data/videos/split_meta/top_26.mp4\n",
      "python2 /usr/local/lib/python2.7/dist-packages/spatialmedia/__main__.py -i ../data/videos/split/bottom_14.mp4 ../data/videos/split_meta/bottom_14.mp4\n",
      "python2 /usr/local/lib/python2.7/dist-packages/spatialmedia/__main__.py -i ../data/videos/split/second_33.mp4 ../data/videos/split_meta/second_33.mp4\n",
      "python2 /usr/local/lib/python2.7/dist-packages/spatialmedia/__main__.py -i ../data/videos/split/top_5.mp4 ../data/videos/split_meta/top_5.mp4\n",
      "python2 /usr/local/lib/python2.7/dist-packages/spatialmedia/__main__.py -i ../data/videos/split/top_15.mp4 ../data/videos/split_meta/top_15.mp4\n",
      "python2 /usr/local/lib/python2.7/dist-packages/spatialmedia/__main__.py -i ../data/videos/split/second_12.mp4 ../data/videos/split_meta/second_12.mp4\n",
      "python2 /usr/local/lib/python2.7/dist-packages/spatialmedia/__main__.py -i ../data/videos/split/second_28.mp4 ../data/videos/split_meta/second_28.mp4\n",
      "python2 /usr/local/lib/python2.7/dist-packages/spatialmedia/__main__.py -i ../data/videos/split/bottom_25.mp4 ../data/videos/split_meta/bottom_25.mp4\n",
      "python2 /usr/local/lib/python2.7/dist-packages/spatialmedia/__main__.py -i ../data/videos/split/top_37.mp4 ../data/videos/split_meta/top_37.mp4\n",
      "python2 /usr/local/lib/python2.7/dist-packages/spatialmedia/__main__.py -i ../data/videos/split/bottom_26.mp4 ../data/videos/split_meta/bottom_26.mp4\n",
      "python2 /usr/local/lib/python2.7/dist-packages/spatialmedia/__main__.py -i ../data/videos/split/second_20.mp4 ../data/videos/split_meta/second_20.mp4\n",
      "python2 /usr/local/lib/python2.7/dist-packages/spatialmedia/__main__.py -i ../data/videos/split/second_32.mp4 ../data/videos/split_meta/second_32.mp4\n",
      "python2 /usr/local/lib/python2.7/dist-packages/spatialmedia/__main__.py -i ../data/videos/split/second_6.mp4 ../data/videos/split_meta/second_6.mp4\n",
      "python2 /usr/local/lib/python2.7/dist-packages/spatialmedia/__main__.py -i ../data/videos/split/second_24.mp4 ../data/videos/split_meta/second_24.mp4\n",
      "python2 /usr/local/lib/python2.7/dist-packages/spatialmedia/__main__.py -i ../data/videos/split/second_14.mp4 ../data/videos/split_meta/second_14.mp4\n",
      "python2 /usr/local/lib/python2.7/dist-packages/spatialmedia/__main__.py -i ../data/videos/split/bottom_30.mp4 ../data/videos/split_meta/bottom_30.mp4\n",
      "python2 /usr/local/lib/python2.7/dist-packages/spatialmedia/__main__.py -i ../data/videos/split/bottom_32.mp4 ../data/videos/split_meta/bottom_32.mp4\n",
      "python2 /usr/local/lib/python2.7/dist-packages/spatialmedia/__main__.py -i ../data/videos/split/bottom_5.mp4 ../data/videos/split_meta/bottom_5.mp4\n",
      "python2 /usr/local/lib/python2.7/dist-packages/spatialmedia/__main__.py -i ../data/videos/split/bottom_13.mp4 ../data/videos/split_meta/bottom_13.mp4\n",
      "python2 /usr/local/lib/python2.7/dist-packages/spatialmedia/__main__.py -i ../data/videos/split/top_3.mp4 ../data/videos/split_meta/top_3.mp4\n",
      "python2 /usr/local/lib/python2.7/dist-packages/spatialmedia/__main__.py -i ../data/videos/split/top_27.mp4 ../data/videos/split_meta/top_27.mp4\n",
      "python2 /usr/local/lib/python2.7/dist-packages/spatialmedia/__main__.py -i ../data/videos/split/bottom_2.mp4 ../data/videos/split_meta/bottom_2.mp4\n",
      "python2 /usr/local/lib/python2.7/dist-packages/spatialmedia/__main__.py -i ../data/videos/split/second_9.mp4 ../data/videos/split_meta/second_9.mp4\n",
      "python2 /usr/local/lib/python2.7/dist-packages/spatialmedia/__main__.py -i ../data/videos/split/bottom_11.mp4 ../data/videos/split_meta/bottom_11.mp4\n",
      "python2 /usr/local/lib/python2.7/dist-packages/spatialmedia/__main__.py -i ../data/videos/split/bottom_17.mp4 ../data/videos/split_meta/bottom_17.mp4\n",
      "python2 /usr/local/lib/python2.7/dist-packages/spatialmedia/__main__.py -i ../data/videos/split/top_16.mp4 ../data/videos/split_meta/top_16.mp4\n",
      "python2 /usr/local/lib/python2.7/dist-packages/spatialmedia/__main__.py -i ../data/videos/split/bottom_10.mp4 ../data/videos/split_meta/bottom_10.mp4\n",
      "python2 /usr/local/lib/python2.7/dist-packages/spatialmedia/__main__.py -i ../data/videos/split/top_30.mp4 ../data/videos/split_meta/top_30.mp4\n",
      "python2 /usr/local/lib/python2.7/dist-packages/spatialmedia/__main__.py -i ../data/videos/split/second_26.mp4 ../data/videos/split_meta/second_26.mp4\n",
      "python2 /usr/local/lib/python2.7/dist-packages/spatialmedia/__main__.py -i ../data/videos/split/second_3.mp4 ../data/videos/split_meta/second_3.mp4\n",
      "python2 /usr/local/lib/python2.7/dist-packages/spatialmedia/__main__.py -i ../data/videos/split/top_43.mp4 ../data/videos/split_meta/top_43.mp4\n",
      "python2 /usr/local/lib/python2.7/dist-packages/spatialmedia/__main__.py -i ../data/videos/split/second_18.mp4 ../data/videos/split_meta/second_18.mp4\n",
      "python2 /usr/local/lib/python2.7/dist-packages/spatialmedia/__main__.py -i ../data/videos/split/bottom_1.mp4 ../data/videos/split_meta/bottom_1.mp4\n",
      "python2 /usr/local/lib/python2.7/dist-packages/spatialmedia/__main__.py -i ../data/videos/split/bottom_16.mp4 ../data/videos/split_meta/bottom_16.mp4\n",
      "python2 /usr/local/lib/python2.7/dist-packages/spatialmedia/__main__.py -i ../data/videos/split/top_38.mp4 ../data/videos/split_meta/top_38.mp4\n",
      "python2 /usr/local/lib/python2.7/dist-packages/spatialmedia/__main__.py -i ../data/videos/split/bottom_18.mp4 ../data/videos/split_meta/bottom_18.mp4\n",
      "python2 /usr/local/lib/python2.7/dist-packages/spatialmedia/__main__.py -i ../data/videos/split/top_11.mp4 ../data/videos/split_meta/top_11.mp4\n",
      "python2 /usr/local/lib/python2.7/dist-packages/spatialmedia/__main__.py -i ../data/videos/split/bottom_12.mp4 ../data/videos/split_meta/bottom_12.mp4\n",
      "python2 /usr/local/lib/python2.7/dist-packages/spatialmedia/__main__.py -i ../data/videos/split/bottom_8.mp4 ../data/videos/split_meta/bottom_8.mp4\n",
      "python2 /usr/local/lib/python2.7/dist-packages/spatialmedia/__main__.py -i ../data/videos/split/top_17.mp4 ../data/videos/split_meta/top_17.mp4\n",
      "python2 /usr/local/lib/python2.7/dist-packages/spatialmedia/__main__.py -i ../data/videos/split/top_2.mp4 ../data/videos/split_meta/top_2.mp4\n",
      "python2 /usr/local/lib/python2.7/dist-packages/spatialmedia/__main__.py -i ../data/videos/split/second_16.mp4 ../data/videos/split_meta/second_16.mp4\n",
      "python2 /usr/local/lib/python2.7/dist-packages/spatialmedia/__main__.py -i ../data/videos/split/top_7.mp4 ../data/videos/split_meta/top_7.mp4\n",
      "python2 /usr/local/lib/python2.7/dist-packages/spatialmedia/__main__.py -i ../data/videos/split/second_17.mp4 ../data/videos/split_meta/second_17.mp4\n",
      "python2 /usr/local/lib/python2.7/dist-packages/spatialmedia/__main__.py -i ../data/videos/split/top_21.mp4 ../data/videos/split_meta/top_21.mp4\n"
     ]
    },
    {
     "name": "stdout",
     "output_type": "stream",
     "text": [
      "python2 /usr/local/lib/python2.7/dist-packages/spatialmedia/__main__.py -i ../data/videos/split/second_31.mp4 ../data/videos/split_meta/second_31.mp4\n",
      "python2 /usr/local/lib/python2.7/dist-packages/spatialmedia/__main__.py -i ../data/videos/split/second_13.mp4 ../data/videos/split_meta/second_13.mp4\n",
      "python2 /usr/local/lib/python2.7/dist-packages/spatialmedia/__main__.py -i ../data/videos/split/top_12.mp4 ../data/videos/split_meta/top_12.mp4\n",
      "python2 /usr/local/lib/python2.7/dist-packages/spatialmedia/__main__.py -i ../data/videos/split/top_44.mp4 ../data/videos/split_meta/top_44.mp4\n",
      "python2 /usr/local/lib/python2.7/dist-packages/spatialmedia/__main__.py -i ../data/videos/split/top_1.mp4 ../data/videos/split_meta/top_1.mp4\n",
      "python2 /usr/local/lib/python2.7/dist-packages/spatialmedia/__main__.py -i ../data/videos/split/top_36.mp4 ../data/videos/split_meta/top_36.mp4\n",
      "python2 /usr/local/lib/python2.7/dist-packages/spatialmedia/__main__.py -i ../data/videos/split/top_13.mp4 ../data/videos/split_meta/top_13.mp4\n",
      "python2 /usr/local/lib/python2.7/dist-packages/spatialmedia/__main__.py -i ../data/videos/split/bottom_21.mp4 ../data/videos/split_meta/bottom_21.mp4\n",
      "python2 /usr/local/lib/python2.7/dist-packages/spatialmedia/__main__.py -i ../data/videos/split/top_20.mp4 ../data/videos/split_meta/top_20.mp4\n",
      "python2 /usr/local/lib/python2.7/dist-packages/spatialmedia/__main__.py -i ../data/videos/split/top_8.mp4 ../data/videos/split_meta/top_8.mp4\n",
      "python2 /usr/local/lib/python2.7/dist-packages/spatialmedia/__main__.py -i ../data/videos/split/top_32.mp4 ../data/videos/split_meta/top_32.mp4\n",
      "python2 /usr/local/lib/python2.7/dist-packages/spatialmedia/__main__.py -i ../data/videos/split/top_23.mp4 ../data/videos/split_meta/top_23.mp4\n",
      "python2 /usr/local/lib/python2.7/dist-packages/spatialmedia/__main__.py -i ../data/videos/split/bottom_23.mp4 ../data/videos/split_meta/bottom_23.mp4\n",
      "python2 /usr/local/lib/python2.7/dist-packages/spatialmedia/__main__.py -i ../data/videos/split/bottom_9.mp4 ../data/videos/split_meta/bottom_9.mp4\n",
      "python2 /usr/local/lib/python2.7/dist-packages/spatialmedia/__main__.py -i ../data/videos/split/top_42.mp4 ../data/videos/split_meta/top_42.mp4\n",
      "python2 /usr/local/lib/python2.7/dist-packages/spatialmedia/__main__.py -i ../data/videos/split/second_19.mp4 ../data/videos/split_meta/second_19.mp4\n",
      "python2 /usr/local/lib/python2.7/dist-packages/spatialmedia/__main__.py -i ../data/videos/split/top_25.mp4 ../data/videos/split_meta/top_25.mp4\n",
      "python2 /usr/local/lib/python2.7/dist-packages/spatialmedia/__main__.py -i ../data/videos/split/top_39.mp4 ../data/videos/split_meta/top_39.mp4\n",
      "python2 /usr/local/lib/python2.7/dist-packages/spatialmedia/__main__.py -i ../data/videos/split/top_34.mp4 ../data/videos/split_meta/top_34.mp4\n",
      "python2 /usr/local/lib/python2.7/dist-packages/spatialmedia/__main__.py -i ../data/videos/split/top_6.mp4 ../data/videos/split_meta/top_6.mp4\n",
      "python2 /usr/local/lib/python2.7/dist-packages/spatialmedia/__main__.py -i ../data/videos/split/top_28.mp4 ../data/videos/split_meta/top_28.mp4\n",
      "python2 /usr/local/lib/python2.7/dist-packages/spatialmedia/__main__.py -i ../data/videos/split/top_35.mp4 ../data/videos/split_meta/top_35.mp4\n",
      "python2 /usr/local/lib/python2.7/dist-packages/spatialmedia/__main__.py -i ../data/videos/split/top_9.mp4 ../data/videos/split_meta/top_9.mp4\n",
      "python2 /usr/local/lib/python2.7/dist-packages/spatialmedia/__main__.py -i ../data/videos/split/top_10.mp4 ../data/videos/split_meta/top_10.mp4\n",
      "python2 /usr/local/lib/python2.7/dist-packages/spatialmedia/__main__.py -i ../data/videos/split/second_23.mp4 ../data/videos/split_meta/second_23.mp4\n",
      "python2 /usr/local/lib/python2.7/dist-packages/spatialmedia/__main__.py -i ../data/videos/split/second_30.mp4 ../data/videos/split_meta/second_30.mp4\n",
      "python2 /usr/local/lib/python2.7/dist-packages/spatialmedia/__main__.py -i ../data/videos/split/top_18.mp4 ../data/videos/split_meta/top_18.mp4\n",
      "python2 /usr/local/lib/python2.7/dist-packages/spatialmedia/__main__.py -i ../data/videos/split/bottom_4.mp4 ../data/videos/split_meta/bottom_4.mp4\n",
      "python2 /usr/local/lib/python2.7/dist-packages/spatialmedia/__main__.py -i ../data/videos/split/bottom_31.mp4 ../data/videos/split_meta/bottom_31.mp4\n",
      "python2 /usr/local/lib/python2.7/dist-packages/spatialmedia/__main__.py -i ../data/videos/split/top_19.mp4 ../data/videos/split_meta/top_19.mp4\n",
      "python2 /usr/local/lib/python2.7/dist-packages/spatialmedia/__main__.py -i ../data/videos/split/second_11.mp4 ../data/videos/split_meta/second_11.mp4\n",
      "python2 /usr/local/lib/python2.7/dist-packages/spatialmedia/__main__.py -i ../data/videos/split/top_40.mp4 ../data/videos/split_meta/top_40.mp4\n",
      "python2 /usr/local/lib/python2.7/dist-packages/spatialmedia/__main__.py -i ../data/videos/split/second_0.mp4 ../data/videos/split_meta/second_0.mp4\n",
      "python2 /usr/local/lib/python2.7/dist-packages/spatialmedia/__main__.py -i ../data/videos/split/second_1.mp4 ../data/videos/split_meta/second_1.mp4\n",
      "python2 /usr/local/lib/python2.7/dist-packages/spatialmedia/__main__.py -i ../data/videos/split/second_29.mp4 ../data/videos/split_meta/second_29.mp4\n",
      "python2 /usr/local/lib/python2.7/dist-packages/spatialmedia/__main__.py -i ../data/videos/split/bottom_6.mp4 ../data/videos/split_meta/bottom_6.mp4\n",
      "python2 /usr/local/lib/python2.7/dist-packages/spatialmedia/__main__.py -i ../data/videos/split/bottom_19.mp4 ../data/videos/split_meta/bottom_19.mp4\n",
      "python2 /usr/local/lib/python2.7/dist-packages/spatialmedia/__main__.py -i ../data/videos/split/second_5.mp4 ../data/videos/split_meta/second_5.mp4\n",
      "python2 /usr/local/lib/python2.7/dist-packages/spatialmedia/__main__.py -i ../data/videos/split/second_7.mp4 ../data/videos/split_meta/second_7.mp4\n",
      "python2 /usr/local/lib/python2.7/dist-packages/spatialmedia/__main__.py -i ../data/videos/split/top_24.mp4 ../data/videos/split_meta/top_24.mp4\n",
      "python2 /usr/local/lib/python2.7/dist-packages/spatialmedia/__main__.py -i ../data/videos/split/top_45.mp4 ../data/videos/split_meta/top_45.mp4\n",
      "python2 /usr/local/lib/python2.7/dist-packages/spatialmedia/__main__.py -i ../data/videos/split/bottom_24.mp4 ../data/videos/split_meta/bottom_24.mp4\n",
      "python2 /usr/local/lib/python2.7/dist-packages/spatialmedia/__main__.py -i ../data/videos/split/bottom_0.mp4 ../data/videos/split_meta/bottom_0.mp4\n",
      "python2 /usr/local/lib/python2.7/dist-packages/spatialmedia/__main__.py -i ../data/videos/split/top_14.mp4 ../data/videos/split_meta/top_14.mp4\n",
      "python2 /usr/local/lib/python2.7/dist-packages/spatialmedia/__main__.py -i ../data/videos/split/top_41.mp4 ../data/videos/split_meta/top_41.mp4\n",
      "python2 /usr/local/lib/python2.7/dist-packages/spatialmedia/__main__.py -i ../data/videos/split/bottom_15.mp4 ../data/videos/split_meta/bottom_15.mp4\n",
      "python2 /usr/local/lib/python2.7/dist-packages/spatialmedia/__main__.py -i ../data/videos/split/top_29.mp4 ../data/videos/split_meta/top_29.mp4\n",
      "python2 /usr/local/lib/python2.7/dist-packages/spatialmedia/__main__.py -i ../data/videos/split/top_4.mp4 ../data/videos/split_meta/top_4.mp4\n",
      "python2 /usr/local/lib/python2.7/dist-packages/spatialmedia/__main__.py -i ../data/videos/split/bottom_22.mp4 ../data/videos/split_meta/bottom_22.mp4\n",
      "python2 /usr/local/lib/python2.7/dist-packages/spatialmedia/__main__.py -i ../data/videos/split/second_27.mp4 ../data/videos/split_meta/second_27.mp4\n",
      "python2 /usr/local/lib/python2.7/dist-packages/spatialmedia/__main__.py -i ../data/videos/split/top_31.mp4 ../data/videos/split_meta/top_31.mp4\n",
      "python2 /usr/local/lib/python2.7/dist-packages/spatialmedia/__main__.py -i ../data/videos/split/bottom_20.mp4 ../data/videos/split_meta/bottom_20.mp4\n"
     ]
    }
   ],
   "source": [
    "from os import listdir\n",
    "from os.path import isfile, join\n",
    "output = \"../data/videos/split\"\n",
    "files = [f for f in listdir(output) if isfile(join(output, f))]\n",
    "for filename in files:\n",
    "    os.system('python2 /usr/local/lib/python2.7/dist-packages/spatialmedia/__main__.py -i ../data/videos/split/%s ../data/videos/split_meta/%s' % (filename, filename))    \n",
    "    print('python2 /usr/local/lib/python2.7/dist-packages/spatialmedia/__main__.py -i ../data/videos/split/%s ../data/videos/split_meta/%s' % (filename, filename))\n",
    "#     os.system('python2 /usr/local/lib/python2.7/dist-packages/spatialmedia/__main__.py -i %s ../split_meta/%s' % (filename, filename))\n"
   ]
  },
  {
   "cell_type": "code",
   "execution_count": null,
   "metadata": {
    "scrolled": true
   },
   "outputs": [
    {
     "name": "stdout",
     "output_type": "stream",
     "text": [
      "(100.96, 47605.37, 'top_0')\n",
      "(190.52096, 238.02537)\n",
      "[MoviePy] >>>> Building video ../data/videos/split/top_0.mp4\n",
      "[MoviePy] Writing audio in top_0TEMP_MPY_wvf_snd.mp3\n"
     ]
    },
    {
     "name": "stderr",
     "output_type": "stream",
     "text": [
      "100%|██████████| 1048/1048 [00:00<00:00, 1259.54it/s]"
     ]
    },
    {
     "name": "stdout",
     "output_type": "stream",
     "text": [
      "[MoviePy] Done.\n",
      "[MoviePy] Writing video ../data/videos/split/top_0.mp4\n"
     ]
    },
    {
     "name": "stderr",
     "output_type": "stream",
     "text": [
      "\n",
      "100%|██████████| 1188/1188 [00:17<00:00, 66.99it/s]\n"
     ]
    },
    {
     "name": "stdout",
     "output_type": "stream",
     "text": [
      "[MoviePy] Done.\n",
      "[MoviePy] >>>> Video ready: ../data/videos/split/top_0.mp4 \n",
      "\n",
      "(62935.83, 74938.04, 'top_1')\n",
      "(253.35583000000003, 265.35803999999996)\n",
      "[MoviePy] >>>> Building video ../data/videos/split/top_1.mp4\n",
      "[MoviePy] Writing audio in top_1TEMP_MPY_wvf_snd.mp3\n"
     ]
    },
    {
     "name": "stderr",
     "output_type": "stream",
     "text": [
      "100%|██████████| 265/265 [00:00<00:00, 843.53it/s]"
     ]
    },
    {
     "name": "stdout",
     "output_type": "stream",
     "text": [
      "[MoviePy] Done.\n",
      "[MoviePy] Writing video ../data/videos/split/top_1.mp4\n"
     ]
    },
    {
     "name": "stderr",
     "output_type": "stream",
     "text": [
      "\n",
      "100%|██████████| 301/301 [00:04<00:00, 65.31it/s] \n"
     ]
    },
    {
     "name": "stdout",
     "output_type": "stream",
     "text": [
      "[MoviePy] Done.\n",
      "[MoviePy] >>>> Video ready: ../data/videos/split/top_1.mp4 \n",
      "\n",
      "(76450.88, 93496.03, 'top_2')\n",
      "(266.87088, 283.91603000000003)\n",
      "[MoviePy] >>>> Building video ../data/videos/split/top_2.mp4\n",
      "[MoviePy] Writing audio in top_2TEMP_MPY_wvf_snd.mp3\n"
     ]
    },
    {
     "name": "stderr",
     "output_type": "stream",
     "text": [
      "100%|██████████| 376/376 [00:00<00:00, 907.75it/s] \n"
     ]
    },
    {
     "name": "stdout",
     "output_type": "stream",
     "text": [
      "[MoviePy] Done.\n",
      "[MoviePy] Writing video ../data/videos/split/top_2.mp4\n"
     ]
    },
    {
     "name": "stderr",
     "output_type": "stream",
     "text": [
      "100%|██████████| 427/427 [00:07<00:00, 58.49it/s]\n"
     ]
    },
    {
     "name": "stdout",
     "output_type": "stream",
     "text": [
      "[MoviePy] Done.\n",
      "[MoviePy] >>>> Video ready: ../data/videos/split/top_2.mp4 \n",
      "\n",
      "(99951.0, 134345.34, 'top_3')\n",
      "(290.371, 324.76534)\n",
      "[MoviePy] >>>> Building video ../data/videos/split/top_3.mp4\n",
      "[MoviePy] Writing audio in top_3TEMP_MPY_wvf_snd.mp3\n"
     ]
    },
    {
     "name": "stderr",
     "output_type": "stream",
     "text": [
      "100%|██████████| 759/759 [00:00<00:00, 1141.15it/s]"
     ]
    },
    {
     "name": "stdout",
     "output_type": "stream",
     "text": [
      "[MoviePy] Done.\n",
      "[MoviePy] Writing video ../data/videos/split/top_3.mp4\n"
     ]
    },
    {
     "name": "stderr",
     "output_type": "stream",
     "text": [
      "\n",
      "100%|██████████| 860/860 [00:14<00:00, 57.74it/s]\n"
     ]
    },
    {
     "name": "stdout",
     "output_type": "stream",
     "text": [
      "[MoviePy] Done.\n",
      "[MoviePy] >>>> Video ready: ../data/videos/split/top_3.mp4 \n",
      "\n",
      "(140396.8, 179028.06, 'top_4')\n",
      "(330.8168, 369.44806)\n",
      "[MoviePy] >>>> Building video ../data/videos/split/top_4.mp4\n",
      "[MoviePy] Writing audio in top_4TEMP_MPY_wvf_snd.mp3\n"
     ]
    },
    {
     "name": "stderr",
     "output_type": "stream",
     "text": [
      "100%|██████████| 852/852 [00:00<00:00, 1190.64it/s]"
     ]
    },
    {
     "name": "stdout",
     "output_type": "stream",
     "text": [
      "[MoviePy] Done.\n",
      "[MoviePy] Writing video ../data/videos/split/top_4.mp4\n"
     ]
    },
    {
     "name": "stderr",
     "output_type": "stream",
     "text": [
      "\n",
      "100%|██████████| 966/966 [00:18<00:00, 51.48it/s]\n"
     ]
    },
    {
     "name": "stdout",
     "output_type": "stream",
     "text": [
      "[MoviePy] Done.\n",
      "[MoviePy] >>>> Video ready: ../data/videos/split/top_4.mp4 \n",
      "\n",
      "(182763.47, 219175.36, 'top_5')\n",
      "(373.18347, 409.59535999999997)\n",
      "[MoviePy] >>>> Building video ../data/videos/split/top_5.mp4\n",
      "[MoviePy] Writing audio in top_5TEMP_MPY_wvf_snd.mp3\n"
     ]
    },
    {
     "name": "stderr",
     "output_type": "stream",
     "text": [
      "100%|██████████| 803/803 [00:00<00:00, 982.71it/s]"
     ]
    },
    {
     "name": "stdout",
     "output_type": "stream",
     "text": [
      "[MoviePy] Done.\n",
      "[MoviePy] Writing video ../data/videos/split/top_5.mp4\n"
     ]
    },
    {
     "name": "stderr",
     "output_type": "stream",
     "text": [
      "\n",
      "100%|██████████| 911/911 [00:18<00:00, 49.05it/s]\n"
     ]
    },
    {
     "name": "stdout",
     "output_type": "stream",
     "text": [
      "[MoviePy] Done.\n",
      "[MoviePy] >>>> Video ready: ../data/videos/split/top_5.mp4 \n",
      "\n",
      "(224016.72, 259823.17, 'top_6')\n",
      "(414.43672, 450.24317)\n",
      "[MoviePy] >>>> Building video ../data/videos/split/top_6.mp4\n",
      "[MoviePy] Writing audio in top_6TEMP_MPY_wvf_snd.mp3\n"
     ]
    },
    {
     "name": "stderr",
     "output_type": "stream",
     "text": [
      "100%|██████████| 790/790 [00:00<00:00, 967.16it/s] "
     ]
    },
    {
     "name": "stdout",
     "output_type": "stream",
     "text": [
      "[MoviePy] Done.\n",
      "[MoviePy] Writing video ../data/videos/split/top_6.mp4\n"
     ]
    },
    {
     "name": "stderr",
     "output_type": "stream",
     "text": [
      "\n",
      "100%|██████████| 896/896 [00:15<00:00, 57.92it/s]\n"
     ]
    },
    {
     "name": "stdout",
     "output_type": "stream",
     "text": [
      "[MoviePy] Done.\n",
      "[MoviePy] >>>> Video ready: ../data/videos/split/top_6.mp4 \n",
      "\n",
      "(263353.27, 295426.26, 'top_7')\n",
      "(453.77327, 485.84626000000003)\n",
      "[MoviePy] >>>> Building video ../data/videos/split/top_7.mp4\n",
      "[MoviePy] Writing audio in top_7TEMP_MPY_wvf_snd.mp3\n"
     ]
    },
    {
     "name": "stderr",
     "output_type": "stream",
     "text": [
      "100%|██████████| 708/708 [00:00<00:00, 989.80it/s] "
     ]
    },
    {
     "name": "stdout",
     "output_type": "stream",
     "text": [
      "[MoviePy] Done.\n",
      "[MoviePy] Writing video ../data/videos/split/top_7.mp4\n"
     ]
    },
    {
     "name": "stderr",
     "output_type": "stream",
     "text": [
      "\n",
      "100%|██████████| 802/802 [00:13<00:00, 57.77it/s]\n"
     ]
    },
    {
     "name": "stdout",
     "output_type": "stream",
     "text": [
      "[MoviePy] Done.\n",
      "[MoviePy] >>>> Video ready: ../data/videos/split/top_7.mp4 \n",
      "\n",
      "(302486.34, 328608.75, 'top_8')\n",
      "(492.90634, 519.02875)\n",
      "[MoviePy] >>>> Building video ../data/videos/split/top_8.mp4\n",
      "[MoviePy] Writing audio in top_8TEMP_MPY_wvf_snd.mp3\n"
     ]
    },
    {
     "name": "stderr",
     "output_type": "stream",
     "text": [
      "100%|██████████| 576/576 [00:00<00:00, 865.14it/s]"
     ]
    },
    {
     "name": "stdout",
     "output_type": "stream",
     "text": [
      "[MoviePy] Done.\n",
      "[MoviePy] Writing video ../data/videos/split/top_8.mp4\n"
     ]
    },
    {
     "name": "stderr",
     "output_type": "stream",
     "text": [
      "\n",
      "100%|██████████| 654/654 [00:13<00:00, 48.42it/s]\n"
     ]
    },
    {
     "name": "stdout",
     "output_type": "stream",
     "text": [
      "[MoviePy] Done.\n",
      "[MoviePy] >>>> Video ready: ../data/videos/split/top_8.mp4 \n",
      "\n",
      "(334357.62, 391746.17, 'top_9')\n",
      "(524.77762, 582.16617)\n",
      "[MoviePy] >>>> Building video ../data/videos/split/top_9.mp4\n",
      "[MoviePy] Writing audio in top_9TEMP_MPY_wvf_snd.mp3\n"
     ]
    },
    {
     "name": "stderr",
     "output_type": "stream",
     "text": [
      "100%|██████████| 1266/1266 [00:01<00:00, 1246.15it/s]"
     ]
    },
    {
     "name": "stdout",
     "output_type": "stream",
     "text": [
      "[MoviePy] Done.\n",
      "[MoviePy] Writing video ../data/videos/split/top_9.mp4\n"
     ]
    },
    {
     "name": "stderr",
     "output_type": "stream",
     "text": [
      "\n",
      "100%|██████████| 1435/1435 [00:25<00:00, 55.43it/s]\n"
     ]
    },
    {
     "name": "stdout",
     "output_type": "stream",
     "text": [
      "[MoviePy] Done.\n",
      "[MoviePy] >>>> Video ready: ../data/videos/split/top_9.mp4 \n",
      "\n",
      "(398907.18, 439855.62, 'top_10')\n",
      "(589.3271799999999, 630.27562)\n",
      "[MoviePy] >>>> Building video ../data/videos/split/top_10.mp4\n",
      "[MoviePy] Writing audio in top_10TEMP_MPY_wvf_snd.mp3\n"
     ]
    },
    {
     "name": "stderr",
     "output_type": "stream",
     "text": [
      "100%|██████████| 903/903 [00:00<00:00, 1179.63it/s]"
     ]
    },
    {
     "name": "stdout",
     "output_type": "stream",
     "text": [
      "[MoviePy] Done.\n",
      "[MoviePy] Writing video ../data/videos/split/top_10.mp4\n"
     ]
    },
    {
     "name": "stderr",
     "output_type": "stream",
     "text": [
      "\n",
      "100%|██████████| 1024/1024 [00:21<00:00, 48.10it/s]\n"
     ]
    },
    {
     "name": "stdout",
     "output_type": "stream",
     "text": [
      "[MoviePy] Done.\n",
      "[MoviePy] >>>> Video ready: ../data/videos/split/top_10.mp4 \n",
      "\n",
      "(445100.36, 483124.04, 'top_11')\n",
      "(635.52036, 673.54404)\n",
      "[MoviePy] >>>> Building video ../data/videos/split/top_11.mp4\n",
      "[MoviePy] Writing audio in top_11TEMP_MPY_wvf_snd.mp3\n"
     ]
    },
    {
     "name": "stderr",
     "output_type": "stream",
     "text": [
      "100%|██████████| 839/839 [00:00<00:00, 1026.46it/s]"
     ]
    },
    {
     "name": "stdout",
     "output_type": "stream",
     "text": [
      "[MoviePy] Done.\n"
     ]
    },
    {
     "name": "stderr",
     "output_type": "stream",
     "text": [
      "\n"
     ]
    },
    {
     "name": "stdout",
     "output_type": "stream",
     "text": [
      "[MoviePy] Writing video ../data/videos/split/top_11.mp4\n"
     ]
    },
    {
     "name": "stderr",
     "output_type": "stream",
     "text": [
      "100%|██████████| 951/951 [00:16<00:00, 57.98it/s]\n"
     ]
    },
    {
     "name": "stdout",
     "output_type": "stream",
     "text": [
      "[MoviePy] Done.\n",
      "[MoviePy] >>>> Video ready: ../data/videos/split/top_11.mp4 \n",
      "\n",
      "(487561.76, 519840.24, 'top_12')\n",
      "(677.98176, 710.26024)\n",
      "[MoviePy] >>>> Building video ../data/videos/split/top_12.mp4\n",
      "[MoviePy] Writing audio in top_12TEMP_MPY_wvf_snd.mp3\n"
     ]
    },
    {
     "name": "stderr",
     "output_type": "stream",
     "text": [
      "100%|██████████| 712/712 [00:00<00:00, 1069.35it/s]"
     ]
    },
    {
     "name": "stdout",
     "output_type": "stream",
     "text": [
      "[MoviePy] Done.\n",
      "[MoviePy] Writing video ../data/videos/split/top_12.mp4\n"
     ]
    },
    {
     "name": "stderr",
     "output_type": "stream",
     "text": [
      "\n",
      "100%|██████████| 807/807 [00:16<00:00, 49.94it/s]\n"
     ]
    },
    {
     "name": "stdout",
     "output_type": "stream",
     "text": [
      "[MoviePy] Done.\n",
      "[MoviePy] >>>> Video ready: ../data/videos/split/top_12.mp4 \n",
      "\n",
      "(524277.97, 551913.26, 'top_13')\n",
      "(714.6979699999999, 742.33326)\n",
      "[MoviePy] >>>> Building video ../data/videos/split/top_13.mp4\n",
      "[MoviePy] Writing audio in top_13TEMP_MPY_wvf_snd.mp3\n"
     ]
    },
    {
     "name": "stderr",
     "output_type": "stream",
     "text": [
      "100%|██████████| 610/610 [00:00<00:00, 990.13it/s]\n"
     ]
    },
    {
     "name": "stdout",
     "output_type": "stream",
     "text": [
      "[MoviePy] Done.\n",
      "[MoviePy] Writing video ../data/videos/split/top_13.mp4\n"
     ]
    },
    {
     "name": "stderr",
     "output_type": "stream",
     "text": [
      "100%|██████████| 691/691 [00:12<00:00, 53.46it/s]\n"
     ]
    },
    {
     "name": "stdout",
     "output_type": "stream",
     "text": [
      "[MoviePy] Done.\n",
      "[MoviePy] >>>> Video ready: ../data/videos/split/top_13.mp4 \n",
      "\n",
      "(554636.43, 584494.71, 'top_14')\n",
      "(745.0564300000001, 774.91471)\n",
      "[MoviePy] >>>> Building video ../data/videos/split/top_14.mp4\n",
      "[MoviePy] Writing audio in top_14TEMP_MPY_wvf_snd.mp3\n"
     ]
    },
    {
     "name": "stderr",
     "output_type": "stream",
     "text": [
      "100%|██████████| 659/659 [00:00<00:00, 859.07it/s]"
     ]
    },
    {
     "name": "stdout",
     "output_type": "stream",
     "text": [
      "[MoviePy] Done.\n",
      "[MoviePy] Writing video ../data/videos/split/top_14.mp4\n"
     ]
    },
    {
     "name": "stderr",
     "output_type": "stream",
     "text": [
      "\n",
      "100%|██████████| 747/747 [00:13<00:00, 53.37it/s]\n"
     ]
    },
    {
     "name": "stdout",
     "output_type": "stream",
     "text": [
      "[MoviePy] Done.\n",
      "[MoviePy] >>>> Video ready: ../data/videos/split/top_14.mp4 \n",
      "\n",
      "(588831.67, 615057.16, 'top_15')\n",
      "(779.25167, 805.47716)\n",
      "[MoviePy] >>>> Building video ../data/videos/split/top_15.mp4\n",
      "[MoviePy] Writing audio in top_15TEMP_MPY_wvf_snd.mp3\n"
     ]
    },
    {
     "name": "stderr",
     "output_type": "stream",
     "text": [
      "100%|██████████| 579/579 [00:00<00:00, 869.01it/s]"
     ]
    },
    {
     "name": "stdout",
     "output_type": "stream",
     "text": [
      "[MoviePy] Done.\n",
      "[MoviePy] Writing video ../data/videos/split/top_15.mp4\n"
     ]
    },
    {
     "name": "stderr",
     "output_type": "stream",
     "text": [
      "\n",
      "100%|██████████| 656/656 [00:11<00:00, 57.68it/s]\n"
     ]
    },
    {
     "name": "stdout",
     "output_type": "stream",
     "text": [
      "[MoviePy] Done.\n",
      "[MoviePy] >>>> Video ready: ../data/videos/split/top_15.mp4 \n",
      "\n",
      "(617074.24, 694735.3, 'top_1')\n",
      "(807.49424, 885.1553)\n",
      "[MoviePy] >>>> Building video ../data/videos/split/top_1.mp4\n",
      "[MoviePy] Writing audio in top_1TEMP_MPY_wvf_snd.mp3\n"
     ]
    },
    {
     "name": "stderr",
     "output_type": "stream",
     "text": [
      "100%|██████████| 1713/1713 [00:01<00:00, 1092.28it/s]"
     ]
    },
    {
     "name": "stdout",
     "output_type": "stream",
     "text": [
      "[MoviePy] Done.\n",
      "[MoviePy] Writing video ../data/videos/split/top_1.mp4\n"
     ]
    },
    {
     "name": "stderr",
     "output_type": "stream",
     "text": [
      "\n",
      " 27%|██▋       | 532/1942 [00:09<00:24, 57.70it/s]"
     ]
    }
   ],
   "source": [
    "# conn_string = \"host='localhost' dbname='indoor_position' user='postgres' password='tiancai' port='5432'\"\n",
    "# conn = psycopg2.connect(conn_string)\n",
    "# cur = conn.cursor()\n",
    "# query = '''select time_abs, category from gare_st_lazare.images order by time_abs asc'''\n",
    "# cur.execute(query)\n",
    "# results = cur.fetchall()\n",
    "# conn.commit()\n",
    "\n",
    "# start_time = 0\n",
    "# end_time   = 0\n",
    "# category   = ''\n",
    "\n",
    "# for idx, item in enumerate(results):\n",
    "#     if idx == 0:\n",
    "#         start_time = item[0]\n",
    "#         category   = item[1]\n",
    "#         continue\n",
    "#     if results[idx][1] != results[idx - 1][1]:\n",
    "#         end_time   = results[idx - 1][0]\n",
    "        \n",
    "#         query = '''select time_relative from gare_st_lazare.lazare_frame_list where time_abs = '%s' ''' % (start_time)\n",
    "#         cur.execute(query)\n",
    "#         start_time = cur.fetchone()[0]\n",
    "#         conn.commit()\n",
    "        \n",
    "#         query = '''select time_relative from gare_st_lazare.lazare_frame_list where time_abs = '%s' ''' % (end_time)\n",
    "#         cur.execute(query)\n",
    "#         end_time = cur.fetchone()[0]\n",
    "#         conn.commit()\n",
    "        \n",
    "#         print(start_time, end_time, category)\n",
    "#         split_video(start_time, end_time, category)\n",
    "#         category   = results[idx + 1][1]\n",
    "#         start_time = results[idx + 1][0]\n",
    "#     if idx == len(results) - 1:\n",
    "#         end_time   = results[idx][0]\n",
    "#         split_video(start_time, end_time, category)"
   ]
  },
  {
   "cell_type": "code",
   "execution_count": null,
   "metadata": {},
   "outputs": [],
   "source": []
  }
 ],
 "metadata": {
  "kernelspec": {
   "display_name": "conda_python_3",
   "language": "python",
   "name": "python3"
  },
  "language_info": {
   "codemirror_mode": {
    "name": "ipython",
    "version": 2
   },
   "file_extension": ".py",
   "mimetype": "text/x-python",
   "name": "python",
   "nbconvert_exporter": "python",
   "pygments_lexer": "ipython2",
   "version": "2.7.14"
  }
 },
 "nbformat": 4,
 "nbformat_minor": 2
}
